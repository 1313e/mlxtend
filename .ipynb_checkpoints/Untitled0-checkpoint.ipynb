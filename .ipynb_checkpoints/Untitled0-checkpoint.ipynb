{
 "metadata": {
  "name": "",
  "signature": "sha256:eaae4f384e7118727ca88610b6d173e6f89aabcc8268f8c0f32e5aed3d42f37a"
 },
 "nbformat": 3,
 "nbformat_minor": 0,
 "worksheets": []
}