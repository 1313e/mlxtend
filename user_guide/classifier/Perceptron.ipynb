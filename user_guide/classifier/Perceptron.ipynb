{
 "cells": [
  {
   "cell_type": "markdown",
   "metadata": {},
   "source": [
    "Sebastian Raschka, 2015  \n",
    "`mlxtend`, a library of extension and helper modules for Python's data analysis and machine learning libraries\n",
    "\n",
    "- GitHub repository: https://github.com/rasbt/mlxtend\n",
    "- Documentation: http://rasbt.github.io/mlxtend/\n",
    "\n",
    "View this page in [jupyter nbviewer](http://nbviewer.ipython.org/github/rasbt/mlxtend/blob/master/docs/sources/_ipynb_templates/regressor/linear_regression.ipynb)"
   ]
  },
  {
   "cell_type": "code",
   "execution_count": 1,
   "metadata": {
    "collapsed": false
   },
   "outputs": [
    {
     "name": "stdout",
     "output_type": "stream",
     "text": [
      "Sebastian Raschka \n",
      "last updated: 2016-01-29 \n",
      "\n",
      "CPython 3.5.1\n",
      "IPython 4.0.3\n",
      "\n",
      "matplotlib 1.5.1\n",
      "numpy 1.10.2\n",
      "scipy 0.16.1\n"
     ]
    }
   ],
   "source": [
    "%load_ext watermark\n",
    "%watermark -a 'Sebastian Raschka' -u -d -v -p matplotlib,numpy,scipy"
   ]
  },
  {
   "cell_type": "code",
   "execution_count": 2,
   "metadata": {
    "collapsed": true
   },
   "outputs": [],
   "source": [
    "%matplotlib inline"
   ]
  },
  {
   "cell_type": "markdown",
   "metadata": {},
   "source": [
    "# Perceptron"
   ]
  },
  {
   "cell_type": "markdown",
   "metadata": {},
   "source": [
    "Implementation of a Perceptron learning algorithm for classification."
   ]
  },
  {
   "cell_type": "markdown",
   "metadata": {},
   "source": [
    "> from mlxtend.classifier import Perceptron"
   ]
  },
  {
   "cell_type": "markdown",
   "metadata": {},
   "source": [
    "# Overview"
   ]
  },
  {
   "cell_type": "markdown",
   "metadata": {},
   "source": [
    "The idea behind this \"thresholded\" perceptron was to mimic how a single neuron in the brain works: It either \"fires\" or not. \n",
    "A perceptron receives multiple input signals, and if the sum of the input signals exceed a certain threshold it either returns a signal or remains \"silent\" otherwise. What made this a \"machine learning\" algorithm was Frank Rosenblatt's idea of the perceptron learning rule: The perceptron algorithm is about learning the weights for the input signals in order to draw linear decision boundary that allows us to discriminate between the two linearly separable classes +1 and -1.\n",
    "\n"
   ]
  },
  {
   "cell_type": "markdown",
   "metadata": {},
   "source": [
    "![](./Perceptron_files/perceptron_schematic.png)"
   ]
  },
  {
   "cell_type": "markdown",
   "metadata": {},
   "source": [
    "### Basic Notation"
   ]
  },
  {
   "cell_type": "markdown",
   "metadata": {},
   "source": [
    "Before we dive deeper into the algorithm(s) for learning the weights of the perceptron classifier, let us take a brief look at the basic notation. In the following sections, we will label the *positive* and *negative* class in our binary classification setting as \"1\" and \"-1\", respectively. Next, we define an activation function $g(\\mathbf{z})$ that takes a linear combination of the input values $\\mathbf{x}$ and weights $\\mathbf{w}$ as input ($\\mathbf{z} = w_1x_{1} + \\dots + w_mx_{m}$), and if $g(\\mathbf{z})$ is greater than a defined threshold $\\theta$ we predict 1 and -1 otherwise; in this case, this activation function $g$ is a simple \"unit step function,\" which is sometimes also called \"Heaviside step function.\" "
   ]
  },
  {
   "cell_type": "markdown",
   "metadata": {},
   "source": [
    "$$\n",
    " g(z) =\\begin{cases}\n",
    "    1 & \\text{if $z \\ge \\theta$}\\\\\n",
    "    -1 & \\text{otherwise}.\n",
    "  \\end{cases}\n",
    "$$"
   ]
  },
  {
   "cell_type": "markdown",
   "metadata": {},
   "source": [
    "where\n",
    "\n",
    "$$z =  w_1x_{1} + \\dots + w_mx_{m} = \\sum_{j=1}^{m} x_{j}w_{j} \\\\ = \\mathbf{w}^T\\mathbf{x}$$"
   ]
  },
  {
   "cell_type": "markdown",
   "metadata": {},
   "source": [
    "$\\mathbf{w}$ is the feature vector, and $\\mathbf{x}$ is an $m$-dimensional sample from the training dataset:\n",
    "\n",
    "$$ \n",
    "\\mathbf{w} = \\begin{bmatrix}\n",
    "    w_{1}  \\\\\n",
    "    \\vdots \\\\\n",
    "    w_{m}\n",
    "\\end{bmatrix}\n",
    "\\quad  \\mathbf{x} = \\begin{bmatrix}\n",
    "    x_{1}  \\\\\n",
    "    \\vdots \\\\\n",
    "    x_{m}\n",
    "\\end{bmatrix}$$"
   ]
  },
  {
   "cell_type": "markdown",
   "metadata": {},
   "source": [
    "In order to simplify the notation, we bring $\\theta$ to the left side of the equation and define $w_0 = -\\theta  \\text{ and } x_0=1$ \n",
    "\n",
    "so that \n",
    "\n",
    "$$\\begin{equation}\n",
    " g({z}) =\\begin{cases}\n",
    "    1 & \\text{if $z \\ge 0$}\\\\\n",
    "    -1 & \\text{otherwise}.\n",
    "  \\end{cases}\n",
    "\\end{equation}$$\n",
    "\n",
    "and\n",
    "\n",
    "\n",
    "$$z = w_0x_{0} + w_1x_{1} + \\dots + w_mx_{m} = \\sum_{j=0}^{m} x_{j}w_{j} \\\\ = \\mathbf{w}^T\\mathbf{x}.$$\n",
    "\n",
    "\n",
    "\n"
   ]
  },
  {
   "cell_type": "markdown",
   "metadata": {},
   "source": [
    "### Perceptron Rule"
   ]
  },
  {
   "cell_type": "markdown",
   "metadata": {},
   "source": [
    "Rosenblatt's initial perceptron rule is fairly simple and can be summarized by the following steps: \n",
    "\n",
    "1. Initialize the weights to 0 or small random numbers.\n",
    "2. For each training sample $\\mathbf{x^{(i)}}$:\n",
    "    2. Calculate the *output* value.\n",
    "    2. Update the weights."
   ]
  },
  {
   "cell_type": "markdown",
   "metadata": {},
   "source": [
    "The output value is the class label predicted by the unit step function that we defined earlier (output $=g(\\mathbf{z})$) and the weight update can be written more formally as  $w_j := w_j + \\Delta w_j$.\n",
    "\n",
    "The value for updating the weights at each increment is calculated by the learning rule\n",
    "\n",
    "$\\Delta w_j = \\eta \\; (\\text{target}^{(i)} - \\text{output}^{(i)})\\;x^{(i)}_{j}$\n",
    "\n",
    "where $\\eta$ is the learning rate (a constant between 0.0 and 1.0), \"target\" is the true class label, and the \"output\" is the predicted class label."
   ]
  },
  {
   "cell_type": "markdown",
   "metadata": {},
   "source": [
    "aIt is important to note that all weights in the weight vector are being updated simultaneously. Concretely, for a 2-dimensional dataset, we would write the update as:\n",
    "\n",
    "$\\Delta w_0 = \\eta(\\text{target}^{(i)} - \\text{output}^{(i)})$  \n",
    "$\\Delta w_1 = \\eta(\\text{target}^{(i)} - \\text{output}^{(i)})\\;x^{(i)}_{1}$  \n",
    "$\\Delta w_2 = \\eta(\\text{target}^{(i)} - \\text{output}^{(i)})\\;x^{(i)}_{2}$  "
   ]
  },
  {
   "cell_type": "markdown",
   "metadata": {},
   "source": [
    "Before we implement the perceptron rule in Python, let us make a simple thought experiment to illustrate how beautifully simple this learning rule really is. In the two scenarios where the perceptron predicts the class label correctly, the weights remain unchanged:\n",
    "\n",
    "- $\\Delta w_j = \\eta(-1^{(i)} - -1^{(i)})\\;x^{(i)}_{j} = 0$ \n",
    "- $\\Delta w_j = \\eta(1^{(i)} - 1^{(i)})\\;x^{(i)}_{j} = 0$ \n",
    "\n",
    "However, in case of a wrong prediction, the weights are being \"pushed\" towards the direction of the positive or negative target class, respectively:\n",
    "\n",
    "- $\\Delta w_j = \\eta(1^{(i)} - -1^{(i)})\\;x^{(i)}_{j} = \\eta(2)\\;x^{(i)}_{j}$ \n",
    "- $\\Delta w_j = \\eta(-1^{(i)} - 1^{(i)})\\;x^{(i)}_{j} = \\eta(-2)\\;x^{(i)}_{j}$ \n",
    "\n",
    "\n"
   ]
  },
  {
   "cell_type": "markdown",
   "metadata": {},
   "source": [
    "It is important to note that the convergence of the perceptron is only guaranteed if the two classes are linearly separable. If the two classes can't be separated by a linear decision boundary, we can set a maximum number of passes over the training dataset (\"epochs\") and/or a threshold for the number of tolerated misclassifications."
   ]
  },
  {
   "cell_type": "markdown",
   "metadata": {},
   "source": [
    "### References\n"
   ]
  },
  {
   "cell_type": "markdown",
   "metadata": {},
   "source": [
    "- F. Rosenblatt. The perceptron, a perceiving and recognizing automaton Project Para. Cornell Aeronautical Laboratory, 1957."
   ]
  },
  {
   "cell_type": "markdown",
   "metadata": {},
   "source": [
    "# Examples"
   ]
  },
  {
   "cell_type": "markdown",
   "metadata": {},
   "source": [
    "## Example 1 - Classification of Iris Flowers"
   ]
  },
  {
   "cell_type": "code",
   "execution_count": 4,
   "metadata": {
    "collapsed": false
   },
   "outputs": [
    {
     "name": "stdout",
     "output_type": "stream",
     "text": [
      "[-0.3902373  -0.35696213 -0.37944732]\n"
     ]
    },
    {
     "data": {
      "image/png": "[encoded data removed]",
      "text/plain": [
       "<matplotlib.figure.Figure at 0x1091f1b00>"
      ]
     },
     "metadata": {},
     "output_type": "display_data"
    },
    {
     "name": "stdout",
     "output_type": "stream",
     "text": [
      "[ 0.0097627   0.08408412  0.31449279]\n"
     ]
    },
    {
     "data": {
      "image/png": "[encoded data removed]",
      "text/plain": [
       "<matplotlib.figure.Figure at 0x1091ff278>"
      ]
     },
     "metadata": {},
     "output_type": "display_data"
    }
   ],
   "source": [
    "from mlxtend.data import iris_data\n",
    "from mlxtend.evaluate import plot_decision_regions\n",
    "from mlxtend.classifier import Perceptron\n",
    "import matplotlib.pyplot as plt\n",
    "\n",
    "# Loading Data\n",
    "\n",
    "X, y = iris_data()\n",
    "X = X[:, [0, 3]] # sepal length and petal width\n",
    "X = X[0:100] # class 0 and class 1\n",
    "y = y[0:100] # class 0 and class 1\n",
    "\n",
    "# standardize\n",
    "X[:,0] = (X[:,0] - X[:,0].mean()) / X[:,0].std()\n",
    "X[:,1] = (X[:,1] - X[:,1].mean()) / X[:,1].std()\n",
    "\n",
    "\n",
    "# Rosenblatt Perceptron\n",
    "\n",
    "ppn = Perceptron(epochs=5, eta=0.05, random_seed=0)\n",
    "ppn.fit(X, y)\n",
    "\n",
    "plot_decision_regions(X, y, clf=ppn)\n",
    "plt.title('Perceptron - Rosenblatt Perceptron Rule')\n",
    "plt.show()\n",
    "\n",
    "print(ppn.w_)\n",
    "\n",
    "plt.plot(range(len(ppn.cost_)), ppn.cost_)\n",
    "plt.xlabel('Iterations')\n",
    "plt.ylabel('Missclassifications')\n",
    "plt.show()"
   ]
  },
  {
   "cell_type": "markdown",
   "metadata": {},
   "source": [
    "# API"
   ]
  },
  {
   "cell_type": "code",
   "execution_count": 5,
   "metadata": {
    "collapsed": false
   },
   "outputs": [
    {
     "name": "stdout",
     "output_type": "stream",
     "text": [
      "Help on class Perceptron in module mlxtend.classifier.perceptron:\n",
      "\n",
      "class Perceptron(builtins.object)\n",
      " |  Perceptron classifier.\n",
      " |  \n",
      " |  Parameters\n",
      " |  ------------\n",
      " |  eta : float (default: 0.1)\n",
      " |      Learning rate (between 0.0 and 1.0)\n",
      " |  epochs : int (default: 50)\n",
      " |      Number of passes over the training dataset.\n",
      " |  shuffle : bool (default: False)\n",
      " |       Shuffles training data every epoch if True to prevent circles.\n",
      " |  random_seed : int\n",
      " |      Random state for initializing random weights.\n",
      " |  zero_init_weight : bool (default: False)\n",
      " |      If True, weights are initialized to zero instead of small random\n",
      " |      numbers in the interval [-0.1, 0.1];\n",
      " |      ignored if solver='normal equation'\n",
      " |  \n",
      " |  Attributes\n",
      " |  -----------\n",
      " |  w_ : 1d-array\n",
      " |      Weights after fitting.\n",
      " |  cost_ : list\n",
      " |      Number of misclassifications in every epoch.\n",
      " |  \n",
      " |  Methods defined here:\n",
      " |  \n",
      " |  __init__(self, eta=0.1, epochs=50, shuffle=False, random_seed=None, zero_init_weight=False)\n",
      " |      Initialize self.  See help(type(self)) for accurate signature.\n",
      " |  \n",
      " |  fit(self, X, y, init_weights=True)\n",
      " |      Learn weight coefficients from training data.\n",
      " |      \n",
      " |      Parameters\n",
      " |      ----------\n",
      " |      X : {array-like, sparse matrix}, shape = [n_samples, n_features]\n",
      " |          Training vectors, where n_samples is the number of samples and\n",
      " |          n_features is the number of features.\n",
      " |      y : array-like, shape = [n_samples]\n",
      " |          Target values.\n",
      " |      init_weights : bool (default: True)\n",
      " |          Re-initializes weights prior to fitting. Set False to continue\n",
      " |          training with weights from a previous fitting.\n",
      " |      \n",
      " |      Returns\n",
      " |      -------\n",
      " |      self : object\n",
      " |  \n",
      " |  net_input(self, X)\n",
      " |      Net input function\n",
      " |  \n",
      " |  predict(self, X)\n",
      " |      Predict class labels for X.\n",
      " |      \n",
      " |      Parameters\n",
      " |      ----------\n",
      " |      X : {array-like, sparse matrix}, shape = [n_samples, n_features]\n",
      " |          Training vectors, where n_samples is the number of samples and\n",
      " |          n_features is the number of features.\n",
      " |      \n",
      " |      Returns\n",
      " |      ----------\n",
      " |      class : int\n",
      " |        Predicted class label.\n",
      " |  \n",
      " |  ----------------------------------------------------------------------\n",
      " |  Data descriptors defined here:\n",
      " |  \n",
      " |  __dict__\n",
      " |      dictionary for instance variables (if defined)\n",
      " |  \n",
      " |  __weakref__\n",
      " |      list of weak references to the object (if defined)\n",
      "\n"
     ]
    }
   ],
   "source": [
    "from mlxtend.classifier import Perceptron\n",
    "help(Perceptron)"
   ]
  },
  {
   "cell_type": "code",
   "execution_count": 7,
   "metadata": {
    "collapsed": false
   },
   "outputs": [
    {
     "name": "stdout",
     "output_type": "stream",
     "text": [
      "## Perceptron\n",
      "\n",
      "*Perceptron(eta=0.1, epochs=50, shuffle=False, random_seed=None, zero_init_weight=False)*\n",
      "\n",
      "Perceptron classifier.\n",
      "\n",
      "**Parameters**\n",
      "\n",
      "- `eta` : float (default: 0.1)\n",
      "\n",
      "    Learning rate (between 0.0 and 1.0)\n",
      "\n",
      "- `epochs` : int (default: 50)\n",
      "\n",
      "    Number of passes over the training dataset.\n",
      "\n",
      "- `shuffle` : bool (default: False)\n",
      "\n",
      "    Shuffles training data every epoch if True to prevent circles.\n",
      "\n",
      "- `random_seed` : int\n",
      "\n",
      "    Random state for initializing random weights.\n",
      "\n",
      "- `zero_init_weight` : bool (default: False)\n",
      "\n",
      "    If True, weights are initialized to zero instead of small random\n",
      "    numbers in the interval [-0.1, 0.1];\n",
      "    ignored if solver='normal equation'\n",
      "\n",
      "**Attributes**\n",
      "\n",
      "- `w_` : 1d-array\n",
      "\n",
      "    Weights after fitting.\n",
      "\n",
      "- `cost_` : list\n",
      "\n",
      "    Number of misclassifications in every epoch.\n",
      "\n",
      "### Methods\n",
      "\n",
      "<hr>\n",
      "\n",
      "*fit(X, y, init_weights=True)*\n",
      "\n",
      "Learn weight coefficients from training data.\n",
      "\n",
      "**Parameters**\n",
      "\n",
      "- `X` : {array-like, sparse matrix}, shape = [n_samples, n_features]\n",
      "\n",
      "    Training vectors, where n_samples is the number of samples and\n",
      "    n_features is the number of features.\n",
      "\n",
      "- `y` : array-like, shape = [n_samples]\n",
      "\n",
      "    Target values.\n",
      "\n",
      "- `init_weights` : bool (default: True)\n",
      "\n",
      "    Re-initializes weights prior to fitting. Set False to continue\n",
      "    training with weights from a previous fitting.\n",
      "\n",
      "**Returns**\n",
      "\n",
      "- `self` : object\n",
      "\n",
      "\n",
      "<hr>\n",
      "\n",
      "*net_input(X)*\n",
      "\n",
      "Net input function\n",
      "\n",
      "<hr>\n",
      "\n",
      "*predict(X)*\n",
      "\n",
      "Predict class labels for X.\n",
      "\n",
      "**Parameters**\n",
      "\n",
      "- `X` : {array-like, sparse matrix}, shape = [n_samples, n_features]\n",
      "\n",
      "    Training vectors, where n_samples is the number of samples and\n",
      "    n_features is the number of features.\n",
      "\n",
      "**Returns**\n",
      "\n",
      "- `class` : int\n",
      "\n",
      "    Predicted class label.\n",
      "\n",
      "\n"
     ]
    }
   ],
   "source": [
    "with open('../../api_modules/mlxtend.classifier/Perceptron.md', 'r') as f:\n",
    "    print(f.read())"
   ]
  },
  {
   "cell_type": "code",
   "execution_count": null,
   "metadata": {
    "collapsed": true
   },
   "outputs": [],
   "source": []
  }
 ],
 "metadata": {
  "kernelspec": {
   "display_name": "Python 3",
   "language": "python",
   "name": "python3"
  },
  "language_info": {
   "codemirror_mode": {
    "name": "ipython",
    "version": 3
   },
   "file_extension": ".py",
   "mimetype": "text/x-python",
   "name": "python",
   "nbconvert_exporter": "python",
   "pygments_lexer": "ipython3",
   "version": "3.5.1"
  }
 },
 "nbformat": 4,
 "nbformat_minor": 0
}
