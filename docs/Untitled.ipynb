{
 "cells": [
  {
   "cell_type": "code",
   "execution_count": 1,
   "metadata": {
    "collapsed": false
   },
   "outputs": [],
   "source": [
    "import sys\n",
    "\n",
    "sys.path =  ['/Users/Sebastian/Dropbox/_ot/code/mlxtend/'] + sys.path"
   ]
  },
  {
   "cell_type": "code",
   "execution_count": 2,
   "metadata": {
    "collapsed": true
   },
   "outputs": [],
   "source": [
    "from mlxtend.classifier import Perceptron"
   ]
  },
  {
   "cell_type": "code",
   "execution_count": 11,
   "metadata": {
    "collapsed": false
   },
   "outputs": [],
   "source": [
    "import string\n",
    "import inspect\n",
    "import os\n",
    "import sys\n",
    "import pkgutil\n",
    "import shutil\n",
    "\n",
    "\n",
    "def _obj_name(obj):\n",
    "    if hasattr(obj, '__name__'):\n",
    "        return obj.__name__\n",
    "\n",
    "    \n",
    "def docstring_to_markdown(docstring):\n",
    "    new_docstring_lst = []\n",
    "    \n",
    "    for idx, line in enumerate(docstring.split('\\n')):\n",
    "        line = line.strip()\n",
    "        if set(line) in ({'-'}, {'='}):\n",
    "            new_docstring_lst[idx-1] = '*%s*' % new_docstring_lst[idx-1]\n",
    "        new_docstring_lst.append(line)\n",
    "        \n",
    "    for idx, line in enumerate(new_docstring_lst[1:]):\n",
    "        if line:\n",
    "            if ' : ' in line:\n",
    "                line = line.replace(' : ', '` : ')\n",
    "                new_docstring_lst[idx+1] = '\\n- `%s\\n' % line\n",
    "            elif not line.startswith('*'):\n",
    "                new_docstring_lst[idx+1] = '   %s' % line.lstrip()\n",
    "                \n",
    "    clean_lst = []\n",
    "    for line in new_docstring_lst:\n",
    "        if set(line.strip()) not in ({'-'}, {'='}):\n",
    "            clean_lst.append(line)\n",
    "    return clean_lst    \n",
    "\n",
    "\n",
    "def import_package(rel_path_to_package, package_name):\n",
    "    try:\n",
    "        curr_dir = os.path.dirname(os.path.realpath(__file__))\n",
    "    except NameError:\n",
    "        curr_dir = os.path.dirname(os.path.realpath(os.getcwd()))\n",
    "    package_path = os.path.join(curr_dir, rel_path_to_package)\n",
    "    if package_path not in sys.path:\n",
    "        sys.path = [package_path] + sys.path\n",
    "    package = __import__(package_name)\n",
    "    return package\n",
    "\n",
    "    \n",
    "def get_subpackages(package):\n",
    "    \"importer, subpackage_name\"\n",
    "    return [i for i in pkgutil.iter_modules(package.__path__) if i[2]]\n",
    "    \n",
    "    \n",
    "def get_modules(package):\n",
    "    \"importer, subpackage_name\"\n",
    "    return [i for i in pkgutil.iter_modules(package.__path__)]\n",
    "\n",
    "\n",
    "def get_functions_and_classes(package):\n",
    "    classes, functions = [], []\n",
    "    for name, member in inspect.getmembers(package):\n",
    "        if not name.startswith('_'):\n",
    "            if inspect.isclass(member):\n",
    "                classes.append([name, member])\n",
    "            elif inspect.isfunction(member):\n",
    "                functions.append([name, member])    \n",
    "    return classes, functions\n",
    "\n",
    "\n",
    "def generate_api_docs(package, api_dir, clean=True):\n",
    "    prefix = package.__name__ + \".\"\n",
    "\n",
    "    # clear the previous version\n",
    "    if clean:\n",
    "        if os.path.isdir(api_dir):\n",
    "            shutil.rmtree(api_dir)\n",
    "\n",
    "    # get subpackages\n",
    "    for importer, pkg_name, is_pkg in pkgutil.iter_modules(package.__path__, prefix):\n",
    "        if is_pkg:\n",
    "            subpackage = __import__(pkg_name, fromlist=\"dummy\")\n",
    "            prefix = subpackage.__name__ + \".\"\n",
    "\n",
    "            # get functions and classes\n",
    "            classes, functions = get_functions_and_classes(subpackage)\n",
    "\n",
    "            target_dir = os.path.join(api_dir, subpackage.__name__)\n",
    "\n",
    "            # create the subdirs\n",
    "            if not os.path.isdir(target_dir):\n",
    "                os.makedirs(target_dir)\n",
    "\n",
    "            # create markdown documents\n",
    "            \n",
    "            # class docs\n",
    "            for cl in classes:\n",
    "                with open(os.path.join(target_dir, cl[0]) + '.md', 'a') as f:\n",
    "                    f.write('### %s\\n\\n' % cl[0])\n",
    "                    class_doc = str(inspect.getdoc(cl[1]))\n",
    "                    ds = docstring_to_markdown(class_doc)\n",
    "                    formatted = '\\n'.join(ds)\n",
    "                    f.write(formatted)\n",
    "                    \n",
    "                    # class method docs\n",
    "                    f.write('\\n\\n#### Methods\\n\\n')\n",
    "                    members = inspect.getmembers(cl[1])\n",
    "                    for m in members:\n",
    "                        if not m[0].startswith('_'):\n",
    "                            sig = str(inspect.signature(m[1])).replace('self, ', '')\n",
    "                            f.write('\\n\\n##### %s%s\\n\\n' % (m[0], sig))\n",
    "                            m_doc = docstring_to_markdown(str(inspect.getdoc(m[1])))\n",
    "                            f.write('\\n'.join(m_doc))\n",
    "\n",
    "            # function docs\n",
    "            for fn in functions:\n",
    "                with open(os.path.join(target_dir, fn[0]) + '.md', 'a') as f:\n",
    "                    f.write('### %s\\n\\n' % fn[0])\n",
    "                    s = str(inspect.getdoc(fn[1]))\n",
    "                    ds = docstring_to_markdown(s)\n",
    "                    formatted = \"\\n\".join(ds)\n",
    "                    f.write(formatted)\n",
    "                    \n",
    "package = import_package('Dropbox/_ot/code/mlxtend/', 'mlxtend')\n",
    "generate_api_docs(package=package, api_dir='../docs/sources/api', clean=True)"
   ]
  },
  {
   "cell_type": "markdown",
   "metadata": {},
   "source": [
    "### Tests"
   ]
  },
  {
   "cell_type": "code",
   "execution_count": 12,
   "metadata": {
    "collapsed": false
   },
   "outputs": [],
   "source": []
  },
  {
   "cell_type": "code",
   "execution_count": 231,
   "metadata": {
    "collapsed": false
   },
   "outputs": [
    {
     "data": {
      "text/plain": [
       "\"Class to display the progress of for-loop iterators.\\n\\nParameters\\n----------\\nstderr : bool (default: True)\\n    Prints output to sys.stderr if True; uses sys.stdout otherwise.\\nstart_newline : bool (default: True)\\n    Prepends a new line to the counter, which prevents overwriting counters\\n    if multiple counters are printed in succession.\\n\\nAttributes\\n----------\\ncurr_iter : int\\n    The current iteration.\\nstart_time : int\\n    The system's time in seconds when the Counter was initialized.\""
      ]
     },
     "execution_count": 231,
     "metadata": {},
     "output_type": "execute_result"
    }
   ],
   "source": [
    "\n",
    "inspect.getdoc(mlxtend.utils.counter.Counter)"
   ]
  },
  {
   "cell_type": "code",
   "execution_count": 219,
   "metadata": {
    "collapsed": false
   },
   "outputs": [
    {
     "data": {
      "text/plain": [
       "<Signature (self, X, y, init_weights=True)>"
      ]
     },
     "execution_count": 219,
     "metadata": {},
     "output_type": "execute_result"
    }
   ],
   "source": [
    "inspect.signature(Perceptron.fit)"
   ]
  },
  {
   "cell_type": "code",
   "execution_count": 172,
   "metadata": {
    "collapsed": false
   },
   "outputs": [
    {
     "ename": "NameError",
     "evalue": "name 'docstring' is not defined",
     "output_type": "error",
     "traceback": [
      "\u001b[0;31m---------------------------------------------------------------------------\u001b[0m",
      "\u001b[0;31mNameError\u001b[0m                                 Traceback (most recent call last)",
      "\u001b[0;32m<ipython-input-172-a1af61a70c27>\u001b[0m in \u001b[0;36m<module>\u001b[0;34m()\u001b[0m\n\u001b[0;32m----> 1\u001b[0;31m \u001b[0mdocstring_to_markdown\u001b[0m\u001b[0;34m(\u001b[0m\u001b[0mdocstring\u001b[0m\u001b[0;34m)\u001b[0m\u001b[0;34m\u001b[0m\u001b[0m\n\u001b[0m\u001b[1;32m      2\u001b[0m \u001b[0minspect\u001b[0m\u001b[0;34m.\u001b[0m\u001b[0mgetdoc\u001b[0m\u001b[0;34m(\u001b[0m\u001b[0mPerceptron\u001b[0m\u001b[0;34m)\u001b[0m\u001b[0;34m\u001b[0m\u001b[0m\n",
      "\u001b[0;31mNameError\u001b[0m: name 'docstring' is not defined"
     ]
    }
   ],
   "source": [
    "docstring_to_markdown(docstring)\n",
    "inspect.getdoc(Perceptron)"
   ]
  },
  {
   "cell_type": "code",
   "execution_count": 173,
   "metadata": {
    "collapsed": false
   },
   "outputs": [
    {
     "ename": "AttributeError",
     "evalue": "'str' object has no attribute '__path__'",
     "output_type": "error",
     "traceback": [
      "\u001b[0;31m---------------------------------------------------------------------------\u001b[0m",
      "\u001b[0;31mAttributeError\u001b[0m                            Traceback (most recent call last)",
      "\u001b[0;32m<ipython-input-173-c17ec5742078>\u001b[0m in \u001b[0;36m<module>\u001b[0;34m()\u001b[0m\n\u001b[1;32m      4\u001b[0m \u001b[0;32mfor\u001b[0m \u001b[0ms\u001b[0m \u001b[0;32min\u001b[0m \u001b[0msub_pgk\u001b[0m\u001b[0;34m:\u001b[0m\u001b[0;34m\u001b[0m\u001b[0m\n\u001b[1;32m      5\u001b[0m     \u001b[0mimport_module\u001b[0m\u001b[0;34m(\u001b[0m\u001b[0;34m'Dropbox/_ot/code/mlxtend/'\u001b[0m\u001b[0;34m,\u001b[0m \u001b[0;34m'mlxtend.%s'\u001b[0m \u001b[0;34m%\u001b[0m \u001b[0ms\u001b[0m\u001b[0;34m[\u001b[0m\u001b[0;36m1\u001b[0m\u001b[0;34m]\u001b[0m\u001b[0;34m)\u001b[0m\u001b[0;34m\u001b[0m\u001b[0m\n\u001b[0;32m----> 6\u001b[0;31m     \u001b[0mget_modules\u001b[0m\u001b[0;34m(\u001b[0m\u001b[0ms\u001b[0m\u001b[0;34m[\u001b[0m\u001b[0;36m1\u001b[0m\u001b[0;34m]\u001b[0m\u001b[0;34m)\u001b[0m\u001b[0;34m\u001b[0m\u001b[0m\n\u001b[0m",
      "\u001b[0;32m<ipython-input-167-da1c1c981694>\u001b[0m in \u001b[0;36mget_modules\u001b[0;34m(package)\u001b[0m\n\u001b[1;32m     54\u001b[0m \u001b[0;32mdef\u001b[0m \u001b[0mget_modules\u001b[0m\u001b[0;34m(\u001b[0m\u001b[0mpackage\u001b[0m\u001b[0;34m)\u001b[0m\u001b[0;34m:\u001b[0m\u001b[0;34m\u001b[0m\u001b[0m\n\u001b[1;32m     55\u001b[0m     \u001b[0;34m\"importer, subpackage_name\"\u001b[0m\u001b[0;34m\u001b[0m\u001b[0m\n\u001b[0;32m---> 56\u001b[0;31m     \u001b[0;32mreturn\u001b[0m \u001b[0;34m[\u001b[0m\u001b[0mi\u001b[0m \u001b[0;32mfor\u001b[0m \u001b[0mi\u001b[0m \u001b[0;32min\u001b[0m \u001b[0mpkgutil\u001b[0m\u001b[0;34m.\u001b[0m\u001b[0miter_modules\u001b[0m\u001b[0;34m(\u001b[0m\u001b[0mpackage\u001b[0m\u001b[0;34m.\u001b[0m\u001b[0m__path__\u001b[0m\u001b[0;34m)\u001b[0m\u001b[0;34m]\u001b[0m\u001b[0;34m\u001b[0m\u001b[0m\n\u001b[0m\u001b[1;32m     57\u001b[0m \u001b[0;34m\u001b[0m\u001b[0m\n\u001b[1;32m     58\u001b[0m \u001b[0;34m\u001b[0m\u001b[0m\n",
      "\u001b[0;31mAttributeError\u001b[0m: 'str' object has no attribute '__path__'"
     ]
    }
   ],
   "source": [
    "import mlxtend\n",
    "import_module('Dropbox/_ot/code/mlxtend/', 'mlxtend')\n",
    "sub_pgk = get_subpackages(package=mlxtend)\n",
    "for s in sub_pgk:\n",
    "    import_module('Dropbox/_ot/code/mlxtend/', 'mlxtend.%s' % s[1])\n",
    "    get_modules(s[1])"
   ]
  },
  {
   "cell_type": "code",
   "execution_count": 174,
   "metadata": {
    "collapsed": false
   },
   "outputs": [
    {
     "data": {
      "text/plain": [
       "'Perceptron'"
      ]
     },
     "execution_count": 174,
     "metadata": {},
     "output_type": "execute_result"
    }
   ],
   "source": [
    "_obj_name(Perceptron)"
   ]
  },
  {
   "cell_type": "code",
   "execution_count": 175,
   "metadata": {
    "collapsed": false
   },
   "outputs": [
    {
     "data": {
      "text/plain": [
       "\"Perceptron classifier.\\n\\nParameters\\n------------\\neta : float (default: 0.1)\\n    Learning rate (between 0.0 and 1.0)\\nepochs : int (default: 50)\\n    Number of passes over the training dataset.\\nshuffle : bool (default: False)\\n     Shuffles training data every epoch if True to prevent circles.\\nrandom_seed : int\\n    Random state for initializing random weights.\\nzero_init_weight : bool (default: False)\\n    If True, weights are initialized to zero instead of small random\\n    numbers in the interval [-0.1, 0.1];\\n    ignored if solver='normal equation'\\n\\nAttributes\\n-----------\\nw_ : 1d-array\\n    Weights after fitting.\\ncost_ : list\\n    Number of misclassifications in every epoch.\""
      ]
     },
     "execution_count": 175,
     "metadata": {},
     "output_type": "execute_result"
    }
   ],
   "source": [
    "inspect.getdoc(Perceptron)"
   ]
  },
  {
   "cell_type": "code",
   "execution_count": 176,
   "metadata": {
    "collapsed": false
   },
   "outputs": [
    {
     "name": "stdout",
     "output_type": "stream",
     "text": [
      "Perceptron classifier.\n",
      "\n",
      "***Parameters***\n",
      "\n",
      "- `eta` : float (default: 0.1)\n",
      "\n",
      "   Learning rate (between 0.0 and 1.0)\n",
      "\n",
      "- `epochs` : int (default: 50)\n",
      "\n",
      "   Number of passes over the training dataset.\n",
      "\n",
      "- `shuffle` : bool (default: False)\n",
      "\n",
      "   Shuffles training data every epoch if True to prevent circles.\n",
      "\n",
      "- `random_seed` : int\n",
      "\n",
      "   Random state for initializing random weights.\n",
      "\n",
      "- `zero_init_weight` : bool (default: False)\n",
      "\n",
      "   If True, weights are initialized to zero instead of small random\n",
      "   numbers in the interval [-0.1, 0.1];\n",
      "   ignored if solver='normal equation'\n",
      "\n",
      "***Attributes***\n",
      "\n",
      "- `w_` : 1d-array\n",
      "\n",
      "   Weights after fitting.\n",
      "\n",
      "- `cost_` : list\n",
      "\n",
      "   Number of misclassifications in every epoch.\n"
     ]
    }
   ],
   "source": [
    "print(\"\\n\".join(docstring_to_markdown(inspect.getdoc(Perceptron))))"
   ]
  },
  {
   "cell_type": "code",
   "execution_count": 177,
   "metadata": {
    "collapsed": false
   },
   "outputs": [],
   "source": [
    "import_module('Dropbox/_ot/code/mlxtend/', 'mlxtend')\n",
    "import mlxtend"
   ]
  },
  {
   "cell_type": "code",
   "execution_count": 178,
   "metadata": {
    "collapsed": false
   },
   "outputs": [
    {
     "data": {
      "text/plain": [
       "[('Adaline', mlxtend.classifier.adaline.Adaline),\n",
       " ('EnsembleVoteClassifier',\n",
       "  mlxtend.classifier.ensemble_vote.EnsembleVoteClassifier),\n",
       " ('LogisticRegression',\n",
       "  mlxtend.classifier.logistic_regression.LogisticRegression),\n",
       " ('NeuralNetMLP', mlxtend.classifier.neuralnet_mlp.NeuralNetMLP),\n",
       " ('Perceptron', mlxtend.classifier.perceptron.Perceptron),\n",
       " ('__all__',\n",
       "  ['Perceptron',\n",
       "   'Adaline',\n",
       "   'LogisticRegression',\n",
       "   'NeuralNetMLP',\n",
       "   'EnsembleVoteClassifier']),\n",
       " ('__builtins__',\n",
       "  {'ArithmeticError': ArithmeticError,\n",
       "   'AssertionError': AssertionError,\n",
       "   'AttributeError': AttributeError,\n",
       "   'BaseException': BaseException,\n",
       "   'BlockingIOError': BlockingIOError,\n",
       "   'BrokenPipeError': BrokenPipeError,\n",
       "   'BufferError': BufferError,\n",
       "   'BytesWarning': BytesWarning,\n",
       "   'ChildProcessError': ChildProcessError,\n",
       "   'ConnectionAbortedError': ConnectionAbortedError,\n",
       "   'ConnectionError': ConnectionError,\n",
       "   'ConnectionRefusedError': ConnectionRefusedError,\n",
       "   'ConnectionResetError': ConnectionResetError,\n",
       "   'DeprecationWarning': DeprecationWarning,\n",
       "   'EOFError': EOFError,\n",
       "   'Ellipsis': Ellipsis,\n",
       "   'EnvironmentError': OSError,\n",
       "   'Exception': Exception,\n",
       "   'False': False,\n",
       "   'FileExistsError': FileExistsError,\n",
       "   'FileNotFoundError': FileNotFoundError,\n",
       "   'FloatingPointError': FloatingPointError,\n",
       "   'FutureWarning': FutureWarning,\n",
       "   'GeneratorExit': GeneratorExit,\n",
       "   'IOError': OSError,\n",
       "   'ImportError': ImportError,\n",
       "   'ImportWarning': ImportWarning,\n",
       "   'IndentationError': IndentationError,\n",
       "   'IndexError': IndexError,\n",
       "   'InterruptedError': InterruptedError,\n",
       "   'IsADirectoryError': IsADirectoryError,\n",
       "   'KeyError': KeyError,\n",
       "   'KeyboardInterrupt': KeyboardInterrupt,\n",
       "   'LookupError': LookupError,\n",
       "   'MemoryError': MemoryError,\n",
       "   'NameError': NameError,\n",
       "   'None': None,\n",
       "   'NotADirectoryError': NotADirectoryError,\n",
       "   'NotImplemented': NotImplemented,\n",
       "   'NotImplementedError': NotImplementedError,\n",
       "   'OSError': OSError,\n",
       "   'OverflowError': OverflowError,\n",
       "   'PendingDeprecationWarning': PendingDeprecationWarning,\n",
       "   'PermissionError': PermissionError,\n",
       "   'ProcessLookupError': ProcessLookupError,\n",
       "   'RecursionError': RecursionError,\n",
       "   'ReferenceError': ReferenceError,\n",
       "   'ResourceWarning': ResourceWarning,\n",
       "   'RuntimeError': RuntimeError,\n",
       "   'RuntimeWarning': RuntimeWarning,\n",
       "   'StopAsyncIteration': StopAsyncIteration,\n",
       "   'StopIteration': StopIteration,\n",
       "   'SyntaxError': SyntaxError,\n",
       "   'SyntaxWarning': SyntaxWarning,\n",
       "   'SystemError': SystemError,\n",
       "   'SystemExit': SystemExit,\n",
       "   'TabError': TabError,\n",
       "   'TimeoutError': TimeoutError,\n",
       "   'True': True,\n",
       "   'TypeError': TypeError,\n",
       "   'UnboundLocalError': UnboundLocalError,\n",
       "   'UnicodeDecodeError': UnicodeDecodeError,\n",
       "   'UnicodeEncodeError': UnicodeEncodeError,\n",
       "   'UnicodeError': UnicodeError,\n",
       "   'UnicodeTranslateError': UnicodeTranslateError,\n",
       "   'UnicodeWarning': UnicodeWarning,\n",
       "   'UserWarning': UserWarning,\n",
       "   'ValueError': ValueError,\n",
       "   'Warning': Warning,\n",
       "   'ZeroDivisionError': ZeroDivisionError,\n",
       "   '__IPYTHON__': True,\n",
       "   '__IPYTHON__active': 'Deprecated, check for __IPYTHON__',\n",
       "   '__build_class__': <function __build_class__>,\n",
       "   '__debug__': True,\n",
       "   '__doc__': \"Built-in functions, exceptions, and other objects.\\n\\nNoteworthy: None is the `nil' object; Ellipsis represents `...' in slices.\",\n",
       "   '__import__': <function __import__>,\n",
       "   '__loader__': _frozen_importlib.BuiltinImporter,\n",
       "   '__name__': 'builtins',\n",
       "   '__package__': '',\n",
       "   '__spec__': ModuleSpec(name='builtins', loader=<class '_frozen_importlib.BuiltinImporter'>),\n",
       "   'abs': <function abs>,\n",
       "   'all': <function all>,\n",
       "   'any': <function any>,\n",
       "   'ascii': <function ascii>,\n",
       "   'bin': <function bin>,\n",
       "   'bool': bool,\n",
       "   'bytearray': bytearray,\n",
       "   'bytes': bytes,\n",
       "   'callable': <function callable>,\n",
       "   'chr': <function chr>,\n",
       "   'classmethod': classmethod,\n",
       "   'compile': <function compile>,\n",
       "   'complex': complex,\n",
       "   'copyright': Copyright (c) 2001-2015 Python Software Foundation.\n",
       "   All Rights Reserved.\n",
       "   \n",
       "   Copyright (c) 2000 BeOpen.com.\n",
       "   All Rights Reserved.\n",
       "   \n",
       "   Copyright (c) 1995-2001 Corporation for National Research Initiatives.\n",
       "   All Rights Reserved.\n",
       "   \n",
       "   Copyright (c) 1991-1995 Stichting Mathematisch Centrum, Amsterdam.\n",
       "   All Rights Reserved.,\n",
       "   'credits':     Thanks to CWI, CNRI, BeOpen.com, Zope Corporation and a cast of thousands\n",
       "       for supporting Python development.  See www.python.org for more information.,\n",
       "   'delattr': <function delattr>,\n",
       "   'dict': dict,\n",
       "   'dir': <function dir>,\n",
       "   'divmod': <function divmod>,\n",
       "   'dreload': <function IPython.lib.deepreload._dreload>,\n",
       "   'enumerate': enumerate,\n",
       "   'eval': <function eval>,\n",
       "   'exec': <function exec>,\n",
       "   'filter': filter,\n",
       "   'float': float,\n",
       "   'format': <function format>,\n",
       "   'frozenset': frozenset,\n",
       "   'get_ipython': <bound method InteractiveShell.get_ipython of <ipykernel.zmqshell.ZMQInteractiveShell object at 0x104136ac8>>,\n",
       "   'getattr': <function getattr>,\n",
       "   'globals': <function globals>,\n",
       "   'hasattr': <function hasattr>,\n",
       "   'hash': <function hash>,\n",
       "   'help': Type help() for interactive help, or help(object) for help about object.,\n",
       "   'hex': <function hex>,\n",
       "   'id': <function id>,\n",
       "   'input': <bound method Kernel.raw_input of <ipykernel.ipkernel.IPythonKernel object at 0x104136c18>>,\n",
       "   'int': int,\n",
       "   'isinstance': <function isinstance>,\n",
       "   'issubclass': <function issubclass>,\n",
       "   'iter': <function iter>,\n",
       "   'len': <function len>,\n",
       "   'license': Type license() to see the full license text,\n",
       "   'list': list,\n",
       "   'locals': <function locals>,\n",
       "   'map': map,\n",
       "   'max': <function max>,\n",
       "   'memoryview': memoryview,\n",
       "   'min': <function min>,\n",
       "   'next': <function next>,\n",
       "   'object': object,\n",
       "   'oct': <function oct>,\n",
       "   'open': <function io.open>,\n",
       "   'ord': <function ord>,\n",
       "   'pow': <function pow>,\n",
       "   'print': <function print>,\n",
       "   'property': property,\n",
       "   'range': range,\n",
       "   'repr': <function repr>,\n",
       "   'reversed': reversed,\n",
       "   'round': <function round>,\n",
       "   'set': set,\n",
       "   'setattr': <function setattr>,\n",
       "   'slice': slice,\n",
       "   'sorted': <function sorted>,\n",
       "   'staticmethod': staticmethod,\n",
       "   'str': str,\n",
       "   'sum': <function sum>,\n",
       "   'super': super,\n",
       "   'tuple': tuple,\n",
       "   'type': type,\n",
       "   'vars': <function vars>,\n",
       "   'zip': zip}),\n",
       " ('__cached__',\n",
       "  '/Users/Sebastian/Dropbox/_ot/code/mlxtend/mlxtend/classifier/__pycache__/__init__.cpython-35.pyc'),\n",
       " ('__doc__', None),\n",
       " ('__file__',\n",
       "  '/Users/Sebastian/Dropbox/_ot/code/mlxtend/mlxtend/classifier/__init__.py'),\n",
       " ('__loader__', <_frozen_importlib_external.SourceFileLoader at 0x104262c18>),\n",
       " ('__name__', 'mlxtend.classifier'),\n",
       " ('__package__', 'mlxtend.classifier'),\n",
       " ('__path__',\n",
       "  ['/Users/Sebastian/Dropbox/_ot/code/mlxtend/mlxtend/classifier']),\n",
       " ('__spec__',\n",
       "  ModuleSpec(name='mlxtend.classifier', loader=<_frozen_importlib_external.SourceFileLoader object at 0x104262c18>, origin='/Users/Sebastian/Dropbox/_ot/code/mlxtend/mlxtend/classifier/__init__.py', submodule_search_locations=['/Users/Sebastian/Dropbox/_ot/code/mlxtend/mlxtend/classifier'])),\n",
       " ('adaline',\n",
       "  <module 'mlxtend.classifier.adaline' from '/Users/Sebastian/Dropbox/_ot/code/mlxtend/mlxtend/classifier/adaline.py'>),\n",
       " ('ensemble_vote',\n",
       "  <module 'mlxtend.classifier.ensemble_vote' from '/Users/Sebastian/Dropbox/_ot/code/mlxtend/mlxtend/classifier/ensemble_vote.py'>),\n",
       " ('logistic_regression',\n",
       "  <module 'mlxtend.classifier.logistic_regression' from '/Users/Sebastian/Dropbox/_ot/code/mlxtend/mlxtend/classifier/logistic_regression.py'>),\n",
       " ('neuralnet_mlp',\n",
       "  <module 'mlxtend.classifier.neuralnet_mlp' from '/Users/Sebastian/Dropbox/_ot/code/mlxtend/mlxtend/classifier/neuralnet_mlp.py'>),\n",
       " ('perceptron',\n",
       "  <module 'mlxtend.classifier.perceptron' from '/Users/Sebastian/Dropbox/_ot/code/mlxtend/mlxtend/classifier/perceptron.py'>)]"
      ]
     },
     "execution_count": 178,
     "metadata": {},
     "output_type": "execute_result"
    }
   ],
   "source": [
    "inspect.getmembers(mlxtend.classifier)"
   ]
  },
  {
   "cell_type": "code",
   "execution_count": 179,
   "metadata": {
    "collapsed": false
   },
   "outputs": [
    {
     "data": {
      "text/plain": [
       "[['Adaline', mlxtend.classifier.adaline.Adaline],\n",
       " ['EnsembleVoteClassifier',\n",
       "  mlxtend.classifier.ensemble_vote.EnsembleVoteClassifier],\n",
       " ['LogisticRegression',\n",
       "  mlxtend.classifier.logistic_regression.LogisticRegression],\n",
       " ['NeuralNetMLP', mlxtend.classifier.neuralnet_mlp.NeuralNetMLP],\n",
       " ['Perceptron', mlxtend.classifier.perceptron.Perceptron]]"
      ]
     },
     "execution_count": 179,
     "metadata": {},
     "output_type": "execute_result"
    }
   ],
   "source": [
    "classes = []\n",
    "functions = []\n",
    "\n",
    "for name, member in inspect.getmembers(mlxtend.classifier):\n",
    "    if not name.startswith('_'):\n",
    "        if inspect.isclass(member):\n",
    "            classes.append([name, member])\n",
    "        elif inspect.isfunction(member):\n",
    "            functions.append([name, member])\n",
    "            \n",
    "classes"
   ]
  },
  {
   "cell_type": "markdown",
   "metadata": {},
   "source": [
    "## New"
   ]
  },
  {
   "cell_type": "code",
   "execution_count": 47,
   "metadata": {
    "collapsed": false
   },
   "outputs": [
    {
     "data": {
      "text/plain": [
       "['Adaline',\n",
       " 'EnsembleVoteClassifier',\n",
       " 'LogisticRegression',\n",
       " 'NeuralNetMLP',\n",
       " 'Perceptron',\n",
       " '__all__',\n",
       " '__builtins__',\n",
       " '__cached__',\n",
       " '__doc__',\n",
       " '__file__',\n",
       " '__loader__',\n",
       " '__name__',\n",
       " '__package__',\n",
       " '__path__',\n",
       " '__spec__',\n",
       " 'adaline',\n",
       " 'ensemble_vote',\n",
       " 'logistic_regression',\n",
       " 'neuralnet_mlp',\n",
       " 'perceptron']"
      ]
     },
     "execution_count": 47,
     "metadata": {},
     "output_type": "execute_result"
    }
   ],
   "source": [
    "def list_modules(module):\n",
    "    \"\"\"Iterate through a list of variables define in a module's\n",
    "    public namespace.\"\"\"\n",
    "    comps = [i for i in dir(module)]\n",
    "    return comps\n",
    "    #getattr(mod, var)\n",
    "        \n",
    "list_modules(mlxtend.classifier)"
   ]
  },
  {
   "cell_type": "code",
   "execution_count": 63,
   "metadata": {
    "collapsed": false
   },
   "outputs": [
    {
     "data": {
      "text/plain": [
       "[(FileFinder('/Users/Sebastian/Dropbox/_ot/code/mlxtend/mlxtend/classifier'),\n",
       "  'adaline',\n",
       "  False),\n",
       " (FileFinder('/Users/Sebastian/Dropbox/_ot/code/mlxtend/mlxtend/classifier'),\n",
       "  'ensemble_vote',\n",
       "  False),\n",
       " (FileFinder('/Users/Sebastian/Dropbox/_ot/code/mlxtend/mlxtend/classifier'),\n",
       "  'logistic_regression',\n",
       "  False),\n",
       " (FileFinder('/Users/Sebastian/Dropbox/_ot/code/mlxtend/mlxtend/classifier'),\n",
       "  'neuralnet_mlp',\n",
       "  False),\n",
       " (FileFinder('/Users/Sebastian/Dropbox/_ot/code/mlxtend/mlxtend/classifier'),\n",
       "  'perceptron',\n",
       "  False)]"
      ]
     },
     "execution_count": 63,
     "metadata": {},
     "output_type": "execute_result"
    }
   ],
   "source": []
  },
  {
   "cell_type": "code",
   "execution_count": 61,
   "metadata": {
    "collapsed": false
   },
   "outputs": [
    {
     "data": {
      "text/plain": [
       "[(FileFinder('/Users/Sebastian/Dropbox/_ot/code/mlxtend/mlxtend'),\n",
       "  'classifier',\n",
       "  True),\n",
       " (FileFinder('/Users/Sebastian/Dropbox/_ot/code/mlxtend/mlxtend'),\n",
       "  'data',\n",
       "  True),\n",
       " (FileFinder('/Users/Sebastian/Dropbox/_ot/code/mlxtend/mlxtend'),\n",
       "  'evaluate',\n",
       "  True),\n",
       " (FileFinder('/Users/Sebastian/Dropbox/_ot/code/mlxtend/mlxtend'),\n",
       "  'feature_selection',\n",
       "  True),\n",
       " (FileFinder('/Users/Sebastian/Dropbox/_ot/code/mlxtend/mlxtend'),\n",
       "  'file_io',\n",
       "  True),\n",
       " (FileFinder('/Users/Sebastian/Dropbox/_ot/code/mlxtend/mlxtend'),\n",
       "  'general_plotting',\n",
       "  True),\n",
       " (FileFinder('/Users/Sebastian/Dropbox/_ot/code/mlxtend/mlxtend'),\n",
       "  'math',\n",
       "  True),\n",
       " (FileFinder('/Users/Sebastian/Dropbox/_ot/code/mlxtend/mlxtend'),\n",
       "  'preprocessing',\n",
       "  True),\n",
       " (FileFinder('/Users/Sebastian/Dropbox/_ot/code/mlxtend/mlxtend'),\n",
       "  'regression_utils',\n",
       "  True),\n",
       " (FileFinder('/Users/Sebastian/Dropbox/_ot/code/mlxtend/mlxtend'),\n",
       "  'regressor',\n",
       "  True),\n",
       " (FileFinder('/Users/Sebastian/Dropbox/_ot/code/mlxtend/mlxtend'),\n",
       "  'text',\n",
       "  True),\n",
       " (FileFinder('/Users/Sebastian/Dropbox/_ot/code/mlxtend/mlxtend'),\n",
       "  'utils',\n",
       "  True)]"
      ]
     },
     "execution_count": 61,
     "metadata": {},
     "output_type": "execute_result"
    }
   ],
   "source": [
    "import pkgutil\n",
    "\n",
    "\n",
    "\n",
    "get_subpackages(mlxtend)"
   ]
  },
  {
   "cell_type": "code",
   "execution_count": 66,
   "metadata": {
    "collapsed": false
   },
   "outputs": [
    {
     "data": {
      "text/plain": [
       "<module 'mlxtend' from '/Users/Sebastian/Dropbox/_ot/code/mlxtend/mlxtend/__init__.py'>"
      ]
     },
     "execution_count": 66,
     "metadata": {},
     "output_type": "execute_result"
    }
   ],
   "source": [
    "__import__('mlxtend.text')"
   ]
  },
  {
   "cell_type": "code",
   "execution_count": 67,
   "metadata": {
    "collapsed": false
   },
   "outputs": [
    {
     "data": {
      "text/plain": [
       "<module 'mlxtend.text' from '/Users/Sebastian/Dropbox/_ot/code/mlxtend/mlxtend/text/__init__.py'>"
      ]
     },
     "execution_count": 67,
     "metadata": {},
     "output_type": "execute_result"
    }
   ],
   "source": [
    "mlxtend.text"
   ]
  },
  {
   "cell_type": "code",
   "execution_count": null,
   "metadata": {
    "collapsed": true
   },
   "outputs": [],
   "source": []
  }
 ],
 "metadata": {
  "kernelspec": {
   "display_name": "Python 3",
   "language": "python",
   "name": "python3"
  },
  "language_info": {
   "codemirror_mode": {
    "name": "ipython",
    "version": 3
   },
   "file_extension": ".py",
   "mimetype": "text/x-python",
   "name": "python",
   "nbconvert_exporter": "python",
   "pygments_lexer": "ipython3",
   "version": "3.5.1"
  }
 },
 "nbformat": 4,
 "nbformat_minor": 0
}
