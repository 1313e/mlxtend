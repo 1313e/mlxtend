{
 "cells": [
  {
   "cell_type": "code",
   "execution_count": 1,
   "metadata": {
    "collapsed": false
   },
   "outputs": [],
   "source": [
    "%load_ext watermark"
   ]
  },
  {
   "cell_type": "code",
   "execution_count": 2,
   "metadata": {
    "collapsed": false
   },
   "outputs": [
    {
     "name": "stdout",
     "output_type": "stream",
     "text": [
      "Sebastian Raschka 24/02/2015 \n",
      "\n",
      "CPython 3.4.2\n",
      "IPython 2.3.1\n",
      "\n",
      "scikit-learn 0.15.2\n",
      "numpy 1.9.1\n",
      "pandas 0.15.2\n"
     ]
    }
   ],
   "source": [
    "%watermark -d -a 'Sebastian Raschka' -v -p scikit-learn,numpy,pandas"
   ]
  },
  {
   "cell_type": "markdown",
   "metadata": {},
   "source": [
    "# Implementing a Weighted Majority Rule Ensemble Classifier in scikit-learn"
   ]
  },
  {
   "cell_type": "markdown",
   "metadata": {},
   "source": [
    "<br>\n",
    "<br>"
   ]
  },
  {
   "cell_type": "markdown",
   "metadata": {},
   "source": [
    "Here, I want to present a simple and conservative approach of implementing a weighted majority rule ensemble classifier in [scikit-learn](http://scikit-learn.org/stable/) that yielded remarkably good results when I tried it in a [kaggle](http://www.kaggle.com) competition. For me personally, kaggle competitions are just a nice way to try out and compare different approaches and ideas -- basically an opportunity to learn in a controlled environment with nice datasets.  \n",
    "\n",
    "Of course, there are other implementations of more sophisticated [ensemble methods](http://scikit-learn.org/stable/modules/ensemble.html) in scikit-learn, such as [bagging classifiers](http://scikit-learn.org/stable/modules/generated/sklearn.ensemble.BaggingClassifier.html), [random forests](http://scikit-learn.org/stable/modules/generated/sklearn.ensemble.RandomForestClassifier.html), or the famous [AdaBoost](http://scikit-learn.org/stable/modules/generated/sklearn.ensemble.AdaBoostClassifier.html) algorithm. However, as far as I am concerned, they all require the usage of a common \"base classifier.\"\n",
    "\n",
    "In contrast, my motivation for the following approach was to combine conceptually different machine learning classifiers and use a majority vote rule. The reason for this was that I had trained a set of equally well performing models, and I wanted to balance out their individual weaknesses."
   ]
  },
  {
   "cell_type": "markdown",
   "metadata": {},
   "source": [
    "<br>\n",
    "<br>"
   ]
  },
  {
   "cell_type": "markdown",
   "metadata": {},
   "source": [
    "### Sections"
   ]
  },
  {
   "cell_type": "markdown",
   "metadata": {},
   "source": [
    "- [Classifying Iris Flowers Using Different Classification Models](#Classifying-Iris-Flowers-Using-Different-Classification-Models)\n",
    "- [Implementing the Majority Voting Rule Ensemble Classifier](#Implementing-the-Majority-Voting-Rule-Ensemble-Classifier)\n",
    "- [Additional Note About the EnsembleClassifier Implementation: Class Labels vs. Probabilities](#Additional-Note-About-the-EnsembleClassifier-Implementation:-Class-Labels-vs.-Probabilities)\n",
    "- [EnsembleClassifier - Tuning Weights](#EnsembleClassifier---Tuning-Weights)\n",
    "- [EnsembleClassifier - Pipelines](#EnsembleClassifier---Pipelines)\n",
    "- [Some Final Words](#Some-Final-Words)\n",
    "- [Appendix I - Plotting-Averaged-Probabilities](#Appendix-I---Plotting-Averaged-Probabilities)\n",
    "- [Appendix II - Plotting Decision Boundaries](#Appendix-II---Plotting-Decision-Boundaries)\n",
    "- [Appendix III - GridSearch Support](#Appendix-III---GridSearch-Support)"
   ]
  },
  {
   "cell_type": "markdown",
   "metadata": {},
   "source": [
    "<br>\n",
    "<br>"
   ]
  },
  {
   "cell_type": "markdown",
   "metadata": {},
   "source": [
    "# Classifying Iris Flowers Using Different Classification Models"
   ]
  },
  {
   "cell_type": "markdown",
   "metadata": {},
   "source": [
    "[[back to top](#Sections)]"
   ]
  },
  {
   "cell_type": "markdown",
   "metadata": {},
   "source": [
    "For a simple example, let us use three different classification models to classify the samples in the [Iris dataset](http://en.wikipedia.org/wiki/Iris_flower_data_set): Logistic regression, a naive Bayes classifier with a Gaussian kernel, and a random forest classifier -- an ensemble method itself. At this point, let's not worry about preprocessing the data and training and test sets. Also, we will only use 2 feature columns (sepal width and petal height) to make the classification problem harder. "
   ]
  },
  {
   "cell_type": "code",
   "execution_count": 2,
   "metadata": {
    "collapsed": false
   },
   "outputs": [],
   "source": [
    "from sklearn import datasets\n",
    "\n",
    "iris = datasets.load_iris()\n",
    "X, y = iris.data[:, 1:3], iris.target"
   ]
  },
  {
   "cell_type": "code",
   "execution_count": 3,
   "metadata": {
    "collapsed": false
   },
   "outputs": [
    {
     "name": "stdout",
     "output_type": "stream",
     "text": [
      "5-fold cross validation:\n",
      "\n",
      "Accuracy: 0.90 (+/- 0.05) [Logistic Regression]\n",
      "Accuracy: 0.92 (+/- 0.05) [Random Forest]\n",
      "Accuracy: 0.91 (+/- 0.04) [naive Bayes]\n"
     ]
    }
   ],
   "source": [
    "from sklearn import cross_validation\n",
    "from sklearn.linear_model import LogisticRegression\n",
    "from sklearn.naive_bayes import GaussianNB \n",
    "from sklearn.ensemble import RandomForestClassifier\n",
    "import numpy as np\n",
    "\n",
    "np.random.seed(123)\n",
    "\n",
    "clf1 = LogisticRegression()\n",
    "clf2 = RandomForestClassifier()\n",
    "clf3 = GaussianNB()\n",
    "\n",
    "print('5-fold cross validation:\\n')\n",
    "\n",
    "for clf, label in zip([clf1, clf2, clf3], ['Logistic Regression', 'Random Forest', 'naive Bayes']):\n",
    "\n",
    "    scores = cross_validation.cross_val_score(clf, X, y, cv=5, scoring='accuracy')\n",
    "    print(\"Accuracy: %0.2f (+/- %0.2f) [%s]\" % (scores.mean(), scores.std(), label))\n"
   ]
  },
  {
   "cell_type": "markdown",
   "metadata": {},
   "source": [
    "As we can see from the cross-validation results above, the performance of the three models is almost equal."
   ]
  },
  {
   "cell_type": "markdown",
   "metadata": {},
   "source": [
    "<br>\n",
    "<br>"
   ]
  },
  {
   "cell_type": "markdown",
   "metadata": {},
   "source": [
    "# Implementing the Majority Voting Rule Ensemble Classifier"
   ]
  },
  {
   "cell_type": "markdown",
   "metadata": {},
   "source": [
    "[[back to top](#Sections)]"
   ]
  },
  {
   "cell_type": "markdown",
   "metadata": {},
   "source": [
    "### Hard Voting"
   ]
  },
  {
   "cell_type": "markdown",
   "metadata": {},
   "source": [
    "Now, we will implement a simple `EnsembleClassifier` class that allows us to combine the three different classifiers. We define a `predict` method that let's us simply take the majority rule of the predictions by the classifiers.\n",
    "E.g., if the prediction for a sample is\n",
    "\n",
    "- classifier 1 -> class 1\n",
    "- classifier 2 -> class 1\n",
    "- classifier 3 -> class 2\n",
    "\n",
    "we would classify the sample as \"class 1.\" "
   ]
  },
  {
   "cell_type": "markdown",
   "metadata": {},
   "source": [
    "If weights are provided, the classifier multiplies the occurence of a class by this weight. \n",
    "\n",
    "For example, given the weights [$w_1$, $w_2$, $w_3$] = [3, 1, 1]\n",
    "\n",
    "- classifier 1 -> class 1 * $w_1$ -> 1, 1, 1\n",
    "- classifier 2 -> class 2 * $w_2$ -> 2\n",
    "- classifier 3 -> class 2 * $w_3$ -> 2\n",
    "\n",
    "we would classify the sample as \"class 1, \" which can also be illustrated by the following code snippet:"
   ]
  },
  {
   "cell_type": "code",
   "execution_count": 3,
   "metadata": {
    "collapsed": false
   },
   "outputs": [
    {
     "data": {
      "text/plain": [
       "1"
      ]
     },
     "execution_count": 3,
     "metadata": {},
     "output_type": "execute_result"
    }
   ],
   "source": [
    "import numpy as np\n",
    "np.argmax(np.bincount([1, 2, 2], weights=[3, 1, 1]))"
   ]
  },
  {
   "cell_type": "markdown",
   "metadata": {},
   "source": [
    "### Soft Voting"
   ]
  },
  {
   "cell_type": "markdown",
   "metadata": {},
   "source": [
    "Furthermore, we add a `weights` parameter, which let's us assign a specific weight to each classifier. In order to work with the weights, we collect the predicted class probabilities for each classifier, multiply it by the classifier weight, and take the average. Based on these weighted average probabilties, we can then assign the class label.\n",
    "\n",
    "To illustrate this with a simple example, let's assume we have 3 classifiers and a 3-class classification problems where we assign equal weights to all classifiers (the default): w1=1, w2=1, w3=1.\n",
    "\n",
    "The weighted average probabilities for a sample would then be calculated as follows:\n",
    "\n",
    "| classifier      | class 1  | class 2  | class 3  |\n",
    "|-----------------|----------|----------|----------|\n",
    "| classifier 1    | w1 * 0.2 | w1 * 0.5 | w1 * 0.3 |\n",
    "| classifier 2    | w2 * 0.6 | w2 * 0.3 | w2 * 0.1 |\n",
    "| classifier 3    | w3 * 0.3 | w3 * 0.4 | w3 * 0.3 |\n",
    "| weighted average| 0.37     | 0.4      | 0.3      |\n",
    "\n",
    "We can see in the table above that class 2 has the highest weighted average probability, thus we classify the sample as class 2."
   ]
  },
  {
   "cell_type": "markdown",
   "metadata": {},
   "source": [
    "Now, let's put it into code and apply it to our Iris classification."
   ]
  },
  {
   "cell_type": "code",
   "execution_count": 72,
   "metadata": {
    "collapsed": false
   },
   "outputs": [],
   "source": [
    "from sklearn.base import BaseEstimator\n",
    "from sklearn.base import ClassifierMixin\n",
    "from sklearn.base import TransformerMixin\n",
    "from sklearn.preprocessing import LabelEncoder\n",
    "from sklearn.externals import six\n",
    "from sklearn.base import clone\n",
    "from sklearn.pipeline import _name_estimators\n",
    "import numpy as np\n",
    "import operator\n",
    "\n",
    "\n",
    "class EnsembleClassifier(BaseEstimator, ClassifierMixin, TransformerMixin):\n",
    "    \"\"\" Soft Voting/Majority Rule classifier for unfitted clfs.\n",
    "\n",
    "    Parameters\n",
    "    ----------\n",
    "    clfs : array-like, shape = [n_classifiers]\n",
    "      A list of classifiers.\n",
    "      Invoking the `fit` method on the `VotingClassifier` will fit clones\n",
    "      of those original classifiers that will be stored in the class attribute\n",
    "      `self.clfs_`.\n",
    "\n",
    "    voting : str, {'hard', 'soft'} (default='hard')\n",
    "      If 'hard', uses predicted class labels for majority rule voting.\n",
    "      Else if 'soft', predicts the class label based on the argmax of\n",
    "      the sums of the predicted probalities, which is recommended for\n",
    "      an ensemble of well-calibrated classifiers.\n",
    "\n",
    "    weights : array-like, shape = [n_classifiers], optional (default=`None`)\n",
    "      Sequence of weights (`float` or `int`) to weight the occurances of\n",
    "      predicted class labels (`hard` voting) or class probabilities\n",
    "      before averaging (`soft` voting). Uses uniform weights if `None`.\n",
    "\n",
    "    Attributes\n",
    "    ----------\n",
    "    classes_ : array-like, shape = [n_predictions]\n",
    "\n",
    "    Examples\n",
    "    --------\n",
    "    >>> import numpy as np\n",
    "    >>> from sklearn.linear_model import LogisticRegression\n",
    "    >>> from sklearn.naive_bayes import GaussianNB\n",
    "    >>> from sklearn.ensemble import RandomForestClassifier\n",
    "    >>> clf1 = LogisticRegression(random_state=1)\n",
    "    >>> clf2 = RandomForestClassifier(random_state=1)\n",
    "    >>> clf3 = GaussianNB()\n",
    "    >>> X = np.array([[-1, -1], [-2, -1], [-3, -2], [1, 1], [2, 1], [3, 2]])\n",
    "    >>> y = np.array([1, 1, 1, 2, 2, 2])\n",
    "    >>> eclf1 = VotingClassifier(clfs=[clf1, clf2, clf3], voting='hard')\n",
    "    >>> eclf1 = eclf1.fit(X, y)\n",
    "    >>> print(eclf1.predict(X))\n",
    "    [1 1 1 2 2 2]\n",
    "    >>> eclf2 = VotingClassifier(clfs=[clf1, clf2, clf3], voting='soft')\n",
    "    >>> eclf2 = eclf2.fit(X, y)\n",
    "    >>> print(eclf2.predict(X))\n",
    "    [1 1 1 2 2 2]\n",
    "    >>> eclf3 = VotingClassifier(clfs=[clf1, clf2, clf3],\n",
    "    ...                          voting='soft', weights=[2,1,1])\n",
    "    >>> eclf3 = eclf3.fit(X, y)\n",
    "    >>> print(eclf3.predict(X))\n",
    "    [1 1 1 2 2 2]\n",
    "    >>>\n",
    "    \"\"\"\n",
    "    def __init__(self, clfs, voting='hard', weights=None):\n",
    "        \n",
    "        self.clfs = clfs\n",
    "        self.named_clfs = {key:value for key,value in _name_estimators(clfs)}\n",
    "        self.voting = voting\n",
    "        self.weights = weights\n",
    "        \n",
    "\n",
    "    def fit(self, X, y):\n",
    "        \"\"\" Fit the clfs.\n",
    "\n",
    "        Parameters\n",
    "        ----------\n",
    "        X : {array-like, sparse matrix}, shape = [n_samples, n_features]\n",
    "            Training vectors, where n_samples is the number of samples and\n",
    "            n_features is the number of features.\n",
    "\n",
    "        y : array-like, shape = [n_samples]\n",
    "            Target values.\n",
    "\n",
    "        Returns\n",
    "        -------\n",
    "        self : object\n",
    "        \"\"\"\n",
    "        if isinstance(y, np.ndarray) and len(y.shape) > 1 and y.shape[1] > 1:\n",
    "            raise NotImplementedError('Multilabel and multi-output'\\\n",
    "                                      ' classification is not supported.')\n",
    "\n",
    "        if self.voting not in ('soft', 'hard'):\n",
    "            raise ValueError(\"Voting must be 'soft' or 'hard'; got (voting=%r)\"\n",
    "                             % voting)\n",
    "\n",
    "        if self.weights and len(self.weights) != len(self.clfs):\n",
    "            raise ValueError('Number of classifiers and weights must be equal'\n",
    "                             '; got %d weights, %d clfs'\n",
    "                             % (len(self.weights), len(self.clfs)))\n",
    "\n",
    "        self.le_ = LabelEncoder()\n",
    "        self.le_.fit(y)\n",
    "        self.classes_ = self.le_.classes_\n",
    "        self.clfs_ = []\n",
    "        for clf in self.clfs:\n",
    "            fitted_clf = clone(clf).fit(X, self.le_.transform(y))\n",
    "            self.clfs_.append(fitted_clf)\n",
    "        return self\n",
    "\n",
    "    def predict(self, X):\n",
    "        \"\"\" Predict class labels for X.\n",
    "\n",
    "        Parameters\n",
    "        ----------\n",
    "        X : {array-like, sparse matrix}, shape = [n_samples, n_features]\n",
    "            Training vectors, where n_samples is the number of samples and\n",
    "            n_features is the number of features.\n",
    "\n",
    "        Returns\n",
    "        ----------\n",
    "        maj : array-like, shape = [n_samples]\n",
    "            Predicted class labels.\n",
    "        \"\"\"\n",
    "        if self.voting == 'soft':\n",
    "\n",
    "            maj = np.argmax(self.predict_proba(X), axis=1)\n",
    "\n",
    "        else:  # 'hard' voting\n",
    "            predictions = self._predict(X)\n",
    "\n",
    "            maj = np.apply_along_axis(\n",
    "                                      lambda x:\n",
    "                                      np.argmax(np.bincount(x,\n",
    "                                                weights=self.weights)),\n",
    "                                      axis=1,\n",
    "                                      arr=predictions)\n",
    "\n",
    "        maj = self.le_.inverse_transform(maj)\n",
    "        return maj\n",
    "\n",
    "    def predict_proba(self, X):\n",
    "        \"\"\" Predict class probabilities for X.\n",
    "\n",
    "        Parameters\n",
    "        ----------\n",
    "        X : {array-like, sparse matrix}, shape = [n_samples, n_features]\n",
    "            Training vectors, where n_samples is the number of samples and\n",
    "            n_features is the number of features.\n",
    "\n",
    "        Returns\n",
    "        ----------\n",
    "        avg : array-like, shape = [n_samples, n_classes]\n",
    "            Weighted average probability for each class per sample.\n",
    "        \"\"\"\n",
    "        avg = np.average(self._predict_probas(X), axis=0, weights=self.weights)\n",
    "        return avg\n",
    "\n",
    "    def transform(self, X):\n",
    "        \"\"\" Return class labels or probabilities for X for each estimator.\n",
    "\n",
    "        Parameters\n",
    "        ----------\n",
    "        X : {array-like, sparse matrix}, shape = [n_samples, n_features]\n",
    "            Training vectors, where n_samples is the number of samples and\n",
    "            n_features is the number of features.\n",
    "\n",
    "        Returns\n",
    "        -------\n",
    "        If `voting='soft'`:\n",
    "          array-like = [n_classifiers, n_samples, n_classes]\n",
    "            Class probabilties calculated by each classifier.\n",
    "        If `voting='hard'`:\n",
    "          array-like = [n_classifiers, n_samples]\n",
    "            Class labels predicted by each classifier.\n",
    "        \"\"\"\n",
    "        if self.voting == 'soft':\n",
    "            return self._predict_probas(X)\n",
    "        else:\n",
    "            return self._predict(X)\n",
    "\n",
    "    def get_params(self, deep=True):\n",
    "        \"\"\" Return estimator parameter names for GridSearch support\"\"\"\n",
    "        if not deep:\n",
    "            return super(EnsembleClassifier, self).get_params(deep=False)\n",
    "        else:\n",
    "            out = self.named_clfs.copy()\n",
    "            for name, step in six.iteritems(self.named_clfs):\n",
    "                for key, value in six.iteritems(step.get_params(deep=True)):\n",
    "                    out['%s__%s' % (name, key)] = value\n",
    "            return out\n",
    "\n",
    "    def _predict(self, X):\n",
    "        \"\"\" Collect results from clf.predict calls. \"\"\"\n",
    "        return np.asarray([clf.predict(X) for clf in self.clfs_]).T\n",
    "\n",
    "    def _predict_probas(self, X):\n",
    "        \"\"\" Collect results from clf.predict calls. \"\"\"\n",
    "        return np.asarray([clf.predict_proba(X) for clf in self.clfs_])"
   ]
  },
  {
   "cell_type": "code",
   "execution_count": 33,
   "metadata": {
    "collapsed": false
   },
   "outputs": [
    {
     "name": "stdout",
     "output_type": "stream",
     "text": [
      "Accuracy: 0.90 (+/- 0.05) [Logistic Regression]\n",
      "Accuracy: 0.92 (+/- 0.05) [Random Forest]\n",
      "Accuracy: 0.91 (+/- 0.04) [naive Bayes]\n",
      "Accuracy: 0.95 (+/- 0.05) [Ensemble]\n"
     ]
    }
   ],
   "source": [
    "# Majority Rule (hard) Voting\n",
    "\n",
    "\n",
    "np.random.seed(123)\n",
    "eclf = EnsembleClassifier(clfs=[clf1, clf2, clf3], voting='hard')\n",
    "\n",
    "for clf, label in zip([clf1, clf2, clf3, eclf], ['Logistic Regression', 'Random Forest', 'naive Bayes', 'Ensemble']):\n",
    "\n",
    "    scores = cross_validation.cross_val_score(clf, X, y, cv=5, scoring='accuracy')\n",
    "    print(\"Accuracy: %0.2f (+/- %0.2f) [%s]\" % (scores.mean(), scores.std(), label))"
   ]
  },
  {
   "cell_type": "code",
   "execution_count": 7,
   "metadata": {
    "collapsed": false
   },
   "outputs": [
    {
     "name": "stdout",
     "output_type": "stream",
     "text": [
      "Accuracy: 0.90 (+/- 0.05) [Logistic Regression]\n",
      "Accuracy: 0.92 (+/- 0.05) [Random Forest]\n",
      "Accuracy: 0.91 (+/- 0.04) [naive Bayes]\n",
      "Accuracy: 0.94 (+/- 0.04) [Ensemble]\n"
     ]
    }
   ],
   "source": [
    "# Average Probabilities (soft) Voting\n",
    "\n",
    "np.random.seed(123)\n",
    "eclf = EnsembleClassifier(clfs=[clf1, clf2, clf3], voting='soft', weights=[2,1,5])\n",
    "\n",
    "for clf, label in zip([clf1, clf2, clf3, eclf], ['Logistic Regression', 'Random Forest', 'naive Bayes', 'Ensemble']):\n",
    "\n",
    "    scores = cross_validation.cross_val_score(clf, X, y, cv=5, scoring='accuracy')\n",
    "    print(\"Accuracy: %0.2f (+/- %0.2f) [%s]\" % (scores.mean(), scores.std(), label))\n",
    "\n"
   ]
  },
  {
   "cell_type": "markdown",
   "metadata": {},
   "source": [
    "<br>\n",
    "<br>"
   ]
  },
  {
   "cell_type": "markdown",
   "metadata": {},
   "source": [
    "# EnsembleClassifier - Tuning Weights"
   ]
  },
  {
   "cell_type": "markdown",
   "metadata": {},
   "source": [
    "[[back to top](#Sections)]"
   ]
  },
  {
   "cell_type": "markdown",
   "metadata": {},
   "source": [
    "Let's get back to our `weights` parameter. Here, we will use a naive brute-force approach to find the optimal weights for each classifier to increase the prediction accuracy."
   ]
  },
  {
   "cell_type": "code",
   "execution_count": 8,
   "metadata": {
    "collapsed": false
   },
   "outputs": [
    {
     "data": {
      "text/html": [
       "<div style=\"max-height:1000px;max-width:1500px;overflow:auto;\">\n",
       "<table border=\"1\" class=\"dataframe\">\n",
       "  <thead>\n",
       "    <tr style=\"text-align: right;\">\n",
       "      <th></th>\n",
       "      <th>w1</th>\n",
       "      <th>w2</th>\n",
       "      <th>w3</th>\n",
       "      <th>mean</th>\n",
       "      <th>std</th>\n",
       "    </tr>\n",
       "  </thead>\n",
       "  <tbody>\n",
       "    <tr>\n",
       "      <th>2 </th>\n",
       "      <td> 1</td>\n",
       "      <td> 2</td>\n",
       "      <td> 1</td>\n",
       "      <td> 0.953333</td>\n",
       "      <td> 0.033993</td>\n",
       "    </tr>\n",
       "    <tr>\n",
       "      <th>17</th>\n",
       "      <td> 3</td>\n",
       "      <td> 1</td>\n",
       "      <td> 2</td>\n",
       "      <td> 0.953333</td>\n",
       "      <td> 0.033993</td>\n",
       "    </tr>\n",
       "    <tr>\n",
       "      <th>16</th>\n",
       "      <td> 3</td>\n",
       "      <td> 1</td>\n",
       "      <td> 1</td>\n",
       "      <td> 0.946667</td>\n",
       "      <td> 0.045216</td>\n",
       "    </tr>\n",
       "    <tr>\n",
       "      <th>20</th>\n",
       "      <td> 3</td>\n",
       "      <td> 2</td>\n",
       "      <td> 2</td>\n",
       "      <td> 0.946667</td>\n",
       "      <td> 0.045216</td>\n",
       "    </tr>\n",
       "    <tr>\n",
       "      <th>1 </th>\n",
       "      <td> 1</td>\n",
       "      <td> 1</td>\n",
       "      <td> 3</td>\n",
       "      <td> 0.946667</td>\n",
       "      <td> 0.040000</td>\n",
       "    </tr>\n",
       "    <tr>\n",
       "      <th>6 </th>\n",
       "      <td> 1</td>\n",
       "      <td> 3</td>\n",
       "      <td> 2</td>\n",
       "      <td> 0.946667</td>\n",
       "      <td> 0.033993</td>\n",
       "    </tr>\n",
       "    <tr>\n",
       "      <th>7 </th>\n",
       "      <td> 1</td>\n",
       "      <td> 3</td>\n",
       "      <td> 3</td>\n",
       "      <td> 0.946667</td>\n",
       "      <td> 0.033993</td>\n",
       "    </tr>\n",
       "    <tr>\n",
       "      <th>11</th>\n",
       "      <td> 2</td>\n",
       "      <td> 2</td>\n",
       "      <td> 1</td>\n",
       "      <td> 0.946667</td>\n",
       "      <td> 0.033993</td>\n",
       "    </tr>\n",
       "    <tr>\n",
       "      <th>13</th>\n",
       "      <td> 2</td>\n",
       "      <td> 3</td>\n",
       "      <td> 1</td>\n",
       "      <td> 0.946667</td>\n",
       "      <td> 0.033993</td>\n",
       "    </tr>\n",
       "    <tr>\n",
       "      <th>14</th>\n",
       "      <td> 2</td>\n",
       "      <td> 3</td>\n",
       "      <td> 2</td>\n",
       "      <td> 0.946667</td>\n",
       "      <td> 0.033993</td>\n",
       "    </tr>\n",
       "    <tr>\n",
       "      <th>18</th>\n",
       "      <td> 3</td>\n",
       "      <td> 1</td>\n",
       "      <td> 3</td>\n",
       "      <td> 0.946667</td>\n",
       "      <td> 0.033993</td>\n",
       "    </tr>\n",
       "    <tr>\n",
       "      <th>22</th>\n",
       "      <td> 3</td>\n",
       "      <td> 3</td>\n",
       "      <td> 1</td>\n",
       "      <td> 0.946667</td>\n",
       "      <td> 0.033993</td>\n",
       "    </tr>\n",
       "    <tr>\n",
       "      <th>23</th>\n",
       "      <td> 3</td>\n",
       "      <td> 3</td>\n",
       "      <td> 2</td>\n",
       "      <td> 0.946667</td>\n",
       "      <td> 0.033993</td>\n",
       "    </tr>\n",
       "    <tr>\n",
       "      <th>19</th>\n",
       "      <td> 3</td>\n",
       "      <td> 2</td>\n",
       "      <td> 1</td>\n",
       "      <td> 0.940000</td>\n",
       "      <td> 0.057349</td>\n",
       "    </tr>\n",
       "    <tr>\n",
       "      <th>5 </th>\n",
       "      <td> 1</td>\n",
       "      <td> 3</td>\n",
       "      <td> 1</td>\n",
       "      <td> 0.940000</td>\n",
       "      <td> 0.044222</td>\n",
       "    </tr>\n",
       "    <tr>\n",
       "      <th>8 </th>\n",
       "      <td> 2</td>\n",
       "      <td> 1</td>\n",
       "      <td> 1</td>\n",
       "      <td> 0.940000</td>\n",
       "      <td> 0.044222</td>\n",
       "    </tr>\n",
       "    <tr>\n",
       "      <th>9 </th>\n",
       "      <td> 2</td>\n",
       "      <td> 1</td>\n",
       "      <td> 2</td>\n",
       "      <td> 0.940000</td>\n",
       "      <td> 0.044222</td>\n",
       "    </tr>\n",
       "    <tr>\n",
       "      <th>12</th>\n",
       "      <td> 2</td>\n",
       "      <td> 2</td>\n",
       "      <td> 3</td>\n",
       "      <td> 0.940000</td>\n",
       "      <td> 0.044222</td>\n",
       "    </tr>\n",
       "    <tr>\n",
       "      <th>21</th>\n",
       "      <td> 3</td>\n",
       "      <td> 2</td>\n",
       "      <td> 3</td>\n",
       "      <td> 0.940000</td>\n",
       "      <td> 0.044222</td>\n",
       "    </tr>\n",
       "    <tr>\n",
       "      <th>4 </th>\n",
       "      <td> 1</td>\n",
       "      <td> 2</td>\n",
       "      <td> 3</td>\n",
       "      <td> 0.940000</td>\n",
       "      <td> 0.038873</td>\n",
       "    </tr>\n",
       "    <tr>\n",
       "      <th>3 </th>\n",
       "      <td> 1</td>\n",
       "      <td> 2</td>\n",
       "      <td> 2</td>\n",
       "      <td> 0.940000</td>\n",
       "      <td> 0.032660</td>\n",
       "    </tr>\n",
       "    <tr>\n",
       "      <th>10</th>\n",
       "      <td> 2</td>\n",
       "      <td> 1</td>\n",
       "      <td> 3</td>\n",
       "      <td> 0.940000</td>\n",
       "      <td> 0.032660</td>\n",
       "    </tr>\n",
       "    <tr>\n",
       "      <th>0 </th>\n",
       "      <td> 1</td>\n",
       "      <td> 1</td>\n",
       "      <td> 2</td>\n",
       "      <td> 0.933333</td>\n",
       "      <td> 0.047140</td>\n",
       "    </tr>\n",
       "    <tr>\n",
       "      <th>15</th>\n",
       "      <td> 2</td>\n",
       "      <td> 3</td>\n",
       "      <td> 3</td>\n",
       "      <td> 0.933333</td>\n",
       "      <td> 0.047140</td>\n",
       "    </tr>\n",
       "  </tbody>\n",
       "</table>\n",
       "</div>"
      ],
      "text/plain": [
       "    w1  w2  w3      mean       std\n",
       "2    1   2   1  0.953333  0.033993\n",
       "17   3   1   2  0.953333  0.033993\n",
       "16   3   1   1  0.946667  0.045216\n",
       "20   3   2   2  0.946667  0.045216\n",
       "1    1   1   3  0.946667  0.040000\n",
       "6    1   3   2  0.946667  0.033993\n",
       "7    1   3   3  0.946667  0.033993\n",
       "11   2   2   1  0.946667  0.033993\n",
       "13   2   3   1  0.946667  0.033993\n",
       "14   2   3   2  0.946667  0.033993\n",
       "18   3   1   3  0.946667  0.033993\n",
       "22   3   3   1  0.946667  0.033993\n",
       "23   3   3   2  0.946667  0.033993\n",
       "19   3   2   1  0.940000  0.057349\n",
       "5    1   3   1  0.940000  0.044222\n",
       "8    2   1   1  0.940000  0.044222\n",
       "9    2   1   2  0.940000  0.044222\n",
       "12   2   2   3  0.940000  0.044222\n",
       "21   3   2   3  0.940000  0.044222\n",
       "4    1   2   3  0.940000  0.038873\n",
       "3    1   2   2  0.940000  0.032660\n",
       "10   2   1   3  0.940000  0.032660\n",
       "0    1   1   2  0.933333  0.047140\n",
       "15   2   3   3  0.933333  0.047140"
      ]
     },
     "execution_count": 8,
     "metadata": {},
     "output_type": "execute_result"
    }
   ],
   "source": [
    "import pandas as pd\n",
    "\n",
    "np.random.seed(123)\n",
    "\n",
    "df = pd.DataFrame(columns=('w1', 'w2', 'w3', 'mean', 'std'))\n",
    "\n",
    "i = 0\n",
    "for w1 in range(1,4):\n",
    "    for w2 in range(1,4):\n",
    "        for w3 in range(1,4):\n",
    "            \n",
    "            if len(set((w1,w2,w3))) == 1: # skip if all weights are equal\n",
    "                continue\n",
    "            \n",
    "            eclf = EnsembleClassifier(clfs=[clf1, clf2, clf3], voting='soft', weights=[w1,w2,w3])\n",
    "            scores = cross_validation.cross_val_score(\n",
    "                                            estimator=eclf,\n",
    "                                            X=X, \n",
    "                                            y=y, \n",
    "                                            cv=5, \n",
    "                                            scoring='accuracy',\n",
    "                                            n_jobs=1)\n",
    "            \n",
    "            df.loc[i] = [w1, w2, w3, scores.mean(), scores.std()]\n",
    "            i += 1\n",
    "            \n",
    "df.sort(columns=['mean', 'std'], ascending=False)"
   ]
  },
  {
   "cell_type": "markdown",
   "metadata": {},
   "source": [
    "<br>\n",
    "<br>"
   ]
  },
  {
   "cell_type": "markdown",
   "metadata": {},
   "source": [
    "# EnsembleClassifier - Pipelines"
   ]
  },
  {
   "cell_type": "markdown",
   "metadata": {},
   "source": [
    "[[back to top](#Sections)]"
   ]
  },
  {
   "cell_type": "markdown",
   "metadata": {},
   "source": [
    "Of course, we can also use the `EnsembleClassifier` in `Pipelines`. This is especially useful if a certain classifier does a pretty good job on a certain feature subset or requires different `preprocessing` steps. For demonstration purposes, let us implement a simple `ColumnSelector` class."
   ]
  },
  {
   "cell_type": "code",
   "execution_count": 9,
   "metadata": {
    "collapsed": false
   },
   "outputs": [],
   "source": [
    "class ColumnSelector(object):\n",
    "    \"\"\" \n",
    "    A feature selector for scikit-learn's Pipeline class that returns\n",
    "    specified columns from a numpy array.\n",
    "    \n",
    "    \"\"\"\n",
    "    \n",
    "    def __init__(self, cols):\n",
    "        self.cols = cols\n",
    "        \n",
    "    def transform(self, X, y=None):\n",
    "        return X[:, self.cols]\n",
    "\n",
    "    def fit(self, X, y=None):\n",
    "        return self"
   ]
  },
  {
   "cell_type": "code",
   "execution_count": 10,
   "metadata": {
    "collapsed": false
   },
   "outputs": [
    {
     "name": "stdout",
     "output_type": "stream",
     "text": [
      "Accuracy: 0.95 (+/- 0.03) [Ensemble]\n"
     ]
    }
   ],
   "source": [
    "from sklearn.pipeline import Pipeline \n",
    "from sklearn.lda import LDA\n",
    "\n",
    "pipe1 = Pipeline([\n",
    "               ('sel', ColumnSelector([1])),    # use only the 1st feature\n",
    "               ('clf', GaussianNB())])\n",
    "\n",
    "pipe2 = Pipeline([\n",
    "               ('sel', ColumnSelector([0, 1])), # use the 1st and 2nd feature\n",
    "               ('dim', LDA(n_components=1)),    # Dimensionality reduction via LDA\n",
    "               ('clf', LogisticRegression())])\n",
    "\n",
    "eclf = EnsembleClassifier([pipe1, pipe2])\n",
    "scores = cross_validation.cross_val_score(eclf, X, y, cv=5, scoring='accuracy')\n",
    "print(\"Accuracy: %0.2f (+/- %0.2f) [%s]\" % (scores.mean(), scores.std(), label))"
   ]
  },
  {
   "cell_type": "markdown",
   "metadata": {},
   "source": [
    "<br>\n",
    "<br>"
   ]
  },
  {
   "cell_type": "markdown",
   "metadata": {},
   "source": [
    "# Ensemble EnsembleClassifier"
   ]
  },
  {
   "cell_type": "markdown",
   "metadata": {},
   "source": [
    "[[back to top](#Sections)]"
   ]
  },
  {
   "cell_type": "markdown",
   "metadata": {},
   "source": [
    "If one `EnsembleClassifier` is not yet enough, we can also build an ensemble classifier of ensemble classifiers. Just like the other examples above, the following code is just meant to be a technical demonstration:"
   ]
  },
  {
   "cell_type": "code",
   "execution_count": 11,
   "metadata": {
    "collapsed": false
   },
   "outputs": [
    {
     "name": "stdout",
     "output_type": "stream",
     "text": [
      "Accuracy: 0.95 (+/- 0.03) [Ensemble]\n"
     ]
    }
   ],
   "source": [
    "eclf1 = EnsembleClassifier(clfs=[clf1, clf2, clf3], voting='soft', weights=[5,2,1])\n",
    "eclf2 = EnsembleClassifier(clfs=[clf1, clf2, clf3], voting='soft', weights=[4,2,1])\n",
    "eclf3 = EnsembleClassifier(clfs=[clf1, clf2, clf3], voting='soft', weights=[1,2,4])\n",
    "\n",
    "eclf = EnsembleClassifier(clfs=[eclf1, eclf2, eclf3], voting='soft', weights=[2,1,1])\n",
    "\n",
    "scores = cross_validation.cross_val_score(eclf, X, y, cv=5, scoring='accuracy')\n",
    "print(\"Accuracy: %0.2f (+/- %0.2f) [%s]\" % (scores.mean(), scores.std(), label))"
   ]
  },
  {
   "cell_type": "markdown",
   "metadata": {},
   "source": [
    "<br>\n",
    "<br>"
   ]
  },
  {
   "cell_type": "markdown",
   "metadata": {},
   "source": [
    "# Some Final Words"
   ]
  },
  {
   "cell_type": "markdown",
   "metadata": {},
   "source": [
    "[[back to top](#Sections)]"
   ]
  },
  {
   "cell_type": "markdown",
   "metadata": {},
   "source": [
    "When we applied the `EnsembleClassifier` to the iris example above, the results surely looked nice. But we have to keep in mind that this is just a toy example. The majority rule voting approach might not always work so well in practice, especially if the ensemble consists of more \"weak\" than \"strong\" classification models. Also, although we used a cross-validation approach to overcome the overfitting challenge, please always keep a spare validation dataset to evaluate the results."
   ]
  },
  {
   "cell_type": "markdown",
   "metadata": {},
   "source": [
    "Anyway, if you are interested in those approaches, I added them to my [`mlxtend`](https://github.com/rasbt/mlxtend) Python module; in `mlxtend` (short for \"machine learning library extensions\"), I collect certain things that I personally find useful but are not available in other packages yet.\n",
    "\n",
    "You can install `mlxtend` via\n",
    "\n",
    "    pip install mlxtend\n",
    "\n",
    "and then load the `ColumnSelector` or `EnsembleClassifier` via\n",
    "\n",
    "    from mlxtend.sklearn import ColumnSelector\n",
    "    from mlxtend.sklearn import EnsembleClassifier"
   ]
  },
  {
   "cell_type": "markdown",
   "metadata": {},
   "source": [
    "# <br> <br>"
   ]
  },
  {
   "cell_type": "markdown",
   "metadata": {},
   "source": [
    "## Appendix I - Plotting Averaged Probabilities"
   ]
  },
  {
   "cell_type": "markdown",
   "metadata": {},
   "source": [
    "[[back to top](#Sections)]"
   ]
  },
  {
   "cell_type": "code",
   "execution_count": 12,
   "metadata": {
    "collapsed": false
   },
   "outputs": [
    {
     "data": {
      "image/png": "[encoded data removed]",
      "text/plain": [
       "<matplotlib.figure.Figure at 0x1093ba4a8>"
      ]
     },
     "metadata": {},
     "output_type": "display_data"
    }
   ],
   "source": [
    "from sklearn.linear_model import LogisticRegression\n",
    "from sklearn.naive_bayes import GaussianNB\n",
    "from sklearn.ensemble import RandomForestClassifier\n",
    "import matplotlib.pyplot as plt\n",
    "%matplotlib inline\n",
    "\n",
    "clf1 = LogisticRegression(random_state=123)\n",
    "clf2 = RandomForestClassifier(random_state=123)\n",
    "clf3 = GaussianNB()\n",
    "X = np.array([[-1.0, -1.0], [-1.2, -1.4], [-3.4, -2.2], [1.1, 1.2]])\n",
    "y = np.array([1, 1, 2, 2])\n",
    "\n",
    "eclf = EnsembleClassifier(clfs=[clf1, clf2, clf3], \n",
    "                        voting='soft', \n",
    "                        weights=[1, 1, 5])\n",
    "\n",
    "# predict class probabilities for all classifiers\n",
    "probas = [c.fit(X, y).predict_proba(X) for c in (clf1, clf2, clf3, eclf)]\n",
    "\n",
    "# get class probabilities for the first sample in the dataset\n",
    "class1_1 = [pr[0,0] for pr in probas]\n",
    "class2_1 = [pr[0,1] for pr in probas]\n",
    "\n",
    "#####################\n",
    "# plotting \n",
    "\n",
    "N = 4  # number of groups\n",
    "ind = np.arange(N)  # group positions\n",
    "width = 0.35  # bar width\n",
    "\n",
    "fig, ax = plt.subplots(figsize=(7,5))\n",
    "\n",
    "# bars for classifier 1-3\n",
    "p1 = ax.bar(ind, np.hstack(([class1_1[:-1],[0]])), width, color='green')\n",
    "p2 = ax.bar(ind + width, np.hstack(([class2_1[:-1],[0]])), width, color='lightgreen')\n",
    "\n",
    "# bars for VotingClassifier\n",
    "p3 = ax.bar(ind, [0, 0, 0, class1_1[-1]], width, color='blue')\n",
    "p4 = ax.bar(ind + width, [0, 0, 0, class2_1[-1]], width, color='steelblue')\n",
    "\n",
    "# plot annotations\n",
    "plt.axvline(2.8, color='k', linestyle='dashed')\n",
    "ax.set_xticks(ind + width)\n",
    "ax.set_xticklabels(['LogisticRegression\\nweight 1', \n",
    "                    'GaussianNB\\nweight 1', \n",
    "                    'RandomForestClassifier\\nweight 5', \n",
    "                    'VotingClassifier\\n(average probabilities)'],\n",
    "                   rotation=40,\n",
    "                   ha='right')\n",
    "plt.ylim([0,1])\n",
    "plt.ylabel('probability')\n",
    "plt.title('Class probabilities for sample 1 by different classifiers')\n",
    "plt.legend([p1[0], p2[0]], ['class 1', 'class 2'] , loc='upper left')\n",
    "plt.tight_layout()\n",
    "#plt.savefig('../../images/sklean_ensemble_probas.png')\n",
    "plt.show()"
   ]
  },
  {
   "cell_type": "markdown",
   "metadata": {},
   "source": [
    "<br>\n",
    "<br>"
   ]
  },
  {
   "cell_type": "markdown",
   "metadata": {},
   "source": [
    "## Appendix II - Plotting Decision Boundaries"
   ]
  },
  {
   "cell_type": "markdown",
   "metadata": {},
   "source": [
    "[[back to top](#Sections)]"
   ]
  },
  {
   "cell_type": "code",
   "execution_count": 13,
   "metadata": {
    "collapsed": false
   },
   "outputs": [],
   "source": [
    "from mlxtend.matplotlib import plot_decision_regions\n",
    "import matplotlib.pyplot as plt\n",
    "from sklearn import datasets\n",
    "from sklearn.tree import DecisionTreeClassifier\n",
    "from sklearn.neighbors import KNeighborsClassifier\n",
    "from sklearn.svm import SVC\n",
    "from mlxtend.sklearn import EnsembleClassifier\n",
    "\n",
    "%matplotlib inline"
   ]
  },
  {
   "cell_type": "code",
   "execution_count": 31,
   "metadata": {
    "collapsed": false
   },
   "outputs": [
    {
     "data": {
      "text/plain": [
       "EnsembleClassifier(clfs=[DecisionTreeClassifier(compute_importances=None, criterion='gini',\n",
       "            max_depth=4, max_features=None, max_leaf_nodes=None,\n",
       "            min_density=None, min_samples_leaf=1, min_samples_split=2,\n",
       "            random_state=None, splitter='best'), KNeighborsClassifier(algorithm='auto', lea...rbf', max_iter=-1, probability=True, random_state=None,\n",
       "  shrinking=True, tol=0.001, verbose=False)],\n",
       "          voting='soft', weights=[2, 1, 2])"
      ]
     },
     "execution_count": 31,
     "metadata": {},
     "output_type": "execute_result"
    }
   ],
   "source": [
    "\n",
    "# Loading some example data\n",
    "iris = datasets.load_iris()\n",
    "X = iris.data[:, [0,2]]\n",
    "y = iris.target\n",
    "\n",
    "# Training classifiers\n",
    "clf1 = DecisionTreeClassifier(max_depth=4)\n",
    "clf2 = KNeighborsClassifier(n_neighbors=7)\n",
    "clf3 = SVC(kernel='rbf', probability=True)\n",
    "eclf = EnsembleClassifier(clfs=[clf1, clf2, clf3], voting='soft', weights=[2,1,2])\n",
    "\n",
    "clf1.fit(X,y)\n",
    "clf2.fit(X,y)\n",
    "clf3.fit(X,y)\n",
    "eclf.fit(X,y)\n"
   ]
  },
  {
   "cell_type": "code",
   "execution_count": 32,
   "metadata": {
    "collapsed": false
   },
   "outputs": [
    {
     "data": {
      "image/png": "[encoded data removed]",
      "text/plain": [
       "<matplotlib.figure.Figure at 0x10bdf32b0>"
      ]
     },
     "metadata": {},
     "output_type": "display_data"
    }
   ],
   "source": [
    "from itertools import product\n",
    "\n",
    "# Plotting decision regions\n",
    "\n",
    "x_min, x_max = X[:, 0].min() - 1, X[:, 0].max() + 1\n",
    "y_min, y_max = X[:, 1].min() - 1, X[:, 1].max() + 1\n",
    "xx, yy = np.meshgrid(np.arange(x_min, x_max, 0.1),\n",
    "                     np.arange(y_min, y_max, 0.1))\n",
    "    \n",
    "f, axarr = plt.subplots(2, 2, sharex='col', sharey='row', figsize=(10, 8))\n",
    "\n",
    "for idx, clf, tt in zip(product([0, 1], [0, 1]), \n",
    "                        [clf1, clf2, clf3, eclf], \n",
    "                        ['Decision Tree (depth=4)', 'KNN (k=7)', 'Kernel SVM', 'Soft Voting']):\n",
    "    \n",
    "    Z = clf.predict(np.c_[xx.ravel(), yy.ravel()])\n",
    "    Z = Z.reshape(xx.shape)\n",
    "    \n",
    "    axarr[idx[0], idx[1]].contourf(xx, yy, Z, alpha=0.4)\n",
    "    axarr[idx[0], idx[1]].scatter(X[:, 0], X[:, 1], c=y,  alpha=0.8)\n",
    "    axarr[idx[0], idx[1]].set_title(tt)    \n",
    "\n",
    "plt.show()"
   ]
  },
  {
   "cell_type": "markdown",
   "metadata": {},
   "source": [
    "<br>\n",
    "<br>"
   ]
  },
  {
   "cell_type": "markdown",
   "metadata": {},
   "source": [
    "## Appendix III - GridSearch Support"
   ]
  },
  {
   "cell_type": "markdown",
   "metadata": {},
   "source": [
    "[[back to top](#Sections)]"
   ]
  },
  {
   "cell_type": "code",
   "execution_count": 71,
   "metadata": {
    "collapsed": false
   },
   "outputs": [
    {
     "name": "stdout",
     "output_type": "stream",
     "text": [
      "0.953 (+/-0.013) for {'randomforestclassifier__n_estimators': 20, 'logisticregression__C': 1.0}\n",
      "0.960 (+/-0.012) for {'randomforestclassifier__n_estimators': 200, 'logisticregression__C': 1.0}\n",
      "0.960 (+/-0.012) for {'randomforestclassifier__n_estimators': 20, 'logisticregression__C': 100.0}\n",
      "0.953 (+/-0.017) for {'randomforestclassifier__n_estimators': 200, 'logisticregression__C': 100.0}\n"
     ]
    }
   ],
   "source": [
    "from sklearn.grid_search import GridSearchCV\n",
    "\n",
    "clf1 = LogisticRegression(random_state=1)\n",
    "clf2 = RandomForestClassifier(random_state=1)\n",
    "clf3 = GaussianNB()\n",
    "eclf = EnsembleClassifier(clfs=[clf1, clf2, clf3], voting='soft')\n",
    "\n",
    "params = {'logisticregression__C': [1.0, 100.0],\n",
    "          'randomforestclassifier__n_estimators': [20, 200],}\n",
    "\n",
    "grid = GridSearchCV(estimator=eclf, param_grid=params, cv=5)\n",
    "grid.fit(iris.data, iris.target)\n",
    "\n",
    "for params, mean_score, scores in grid.grid_scores_:\n",
    "    print(\"%0.3f (+/-%0.03f) for %r\"\n",
    "            % (mean_score, scores.std() / 2, params))"
   ]
  },
  {
   "cell_type": "code",
   "execution_count": 74,
   "metadata": {
    "collapsed": false
   },
   "outputs": [
    {
     "data": {
      "text/plain": [
       "[0.95333333333333337,\n",
       " 0.95999999999999996,\n",
       " 0.95999999999999996,\n",
       " 0.95333333333333337]"
      ]
     },
     "execution_count": 74,
     "metadata": {},
     "output_type": "execute_result"
    }
   ],
   "source": [
    "[mean_score for params, mean_score, scores in grid.grid_scores_]"
   ]
  },
  {
   "cell_type": "markdown",
   "metadata": {},
   "source": [
    "<br>\n",
    "<br>"
   ]
  },
  {
   "cell_type": "markdown",
   "metadata": {
    "collapsed": false
   },
   "source": [
    "## Appendix IV - Verbosity Levels"
   ]
  },
  {
   "cell_type": "markdown",
   "metadata": {},
   "source": [
    "[[back to top](#Sections)]"
   ]
  },
  {
   "cell_type": "code",
   "execution_count": 1,
   "metadata": {
    "collapsed": false
   },
   "outputs": [],
   "source": [
    "import numpy as np\n",
    "from sklearn.linear_model import LogisticRegression\n",
    "from sklearn.naive_bayes import GaussianNB\n",
    "from sklearn.ensemble import RandomForestClassifier\n",
    "from mlxtend.sklearn import EnsembleClassifier\n",
    "\n",
    "clf1 = LogisticRegression(random_state=1)\n",
    "clf2 = RandomForestClassifier(random_state=1)\n",
    "clf3 = GaussianNB()\n",
    "X = np.array([[-1, -1], [-2, -1], [-3, -2], [1, 1], [2, 1], [3, 2]])\n",
    "y = np.array([1, 1, 1, 2, 2, 2])"
   ]
  },
  {
   "cell_type": "markdown",
   "metadata": {},
   "source": [
    "### verbose=1"
   ]
  },
  {
   "cell_type": "code",
   "execution_count": 2,
   "metadata": {
    "collapsed": false
   },
   "outputs": [
    {
     "name": "stdout",
     "output_type": "stream",
     "text": [
      "Fitting 3 classifiers...\n",
      "Fitting clf1: logisticregression (1/3)\n",
      "Fitting clf2: randomforestclassifier (2/3)\n",
      "Fitting clf3: gaussiannb (3/3)\n",
      "[1 1 1 2 2 2]\n"
     ]
    }
   ],
   "source": [
    "eclf1 = EnsembleClassifier(clfs=[clf1, clf2, clf3], voting='hard', verbose=1)\n",
    "eclf1 = eclf1.fit(X, y)\n",
    "print(eclf1.predict(X))"
   ]
  },
  {
   "cell_type": "markdown",
   "metadata": {},
   "source": [
    "### verbose=2"
   ]
  },
  {
   "cell_type": "code",
   "execution_count": 3,
   "metadata": {
    "collapsed": false
   },
   "outputs": [
    {
     "name": "stdout",
     "output_type": "stream",
     "text": [
      "Fitting 3 classifiers...\n",
      "Fitting clf1: logisticregression (1/3)\n",
      "LogisticRegression(C=1.0, class_weight=None, dual=False, fit_intercept=True,\n",
      "          intercept_scaling=1, max_iter=100, multi_class='ovr',\n",
      "          penalty='l2', random_state=1, solver='liblinear', tol=0.0001,\n",
      "          verbose=0)\n",
      "Fitting clf2: randomforestclassifier (2/3)\n",
      "RandomForestClassifier(bootstrap=True, class_weight=None, criterion='gini',\n",
      "            max_depth=None, max_features='auto', max_leaf_nodes=None,\n",
      "            min_samples_leaf=1, min_samples_split=2,\n",
      "            min_weight_fraction_leaf=0.0, n_estimators=10, n_jobs=1,\n",
      "            oob_score=False, random_state=1, verbose=0, warm_start=False)\n",
      "Fitting clf3: gaussiannb (3/3)\n",
      "GaussianNB()\n",
      "[1 1 1 2 2 2]\n"
     ]
    }
   ],
   "source": [
    "eclf1 = EnsembleClassifier(clfs=[clf1, clf2, clf3], voting='hard', verbose=2)\n",
    "eclf1 = eclf1.fit(X, y)\n",
    "print(eclf1.predict(X))"
   ]
  },
  {
   "cell_type": "markdown",
   "metadata": {},
   "source": [
    "### verbose=3"
   ]
  },
  {
   "cell_type": "code",
   "execution_count": 4,
   "metadata": {
    "collapsed": false
   },
   "outputs": [
    {
     "name": "stdout",
     "output_type": "stream",
     "text": [
      "Fitting 3 classifiers...\n",
      "Fitting clf1: logisticregression (1/3)\n",
      "LogisticRegression(C=1.0, class_weight=None, dual=False, fit_intercept=True,\n",
      "          intercept_scaling=1, max_iter=100, multi_class='ovr',\n",
      "          penalty='l2', random_state=1, solver='liblinear', tol=0.0001,\n",
      "          verbose=1)\n",
      "[LibLinear]Fitting clf2: randomforestclassifier (2/3)\n",
      "RandomForestClassifier(bootstrap=True, class_weight=None, criterion='gini',\n",
      "            max_depth=None, max_features='auto', max_leaf_nodes=None,\n",
      "            min_samples_leaf=1, min_samples_split=2,\n",
      "            min_weight_fraction_leaf=0.0, n_estimators=10, n_jobs=1,\n",
      "            oob_score=False, random_state=1, verbose=1, warm_start=False)\n",
      "Fitting clf3: gaussiannb (3/3)\n",
      "GaussianNB()\n",
      "[1 1 1 2 2 2]\n"
     ]
    },
    {
     "name": "stderr",
     "output_type": "stream",
     "text": [
      "[Parallel(n_jobs=1)]: Done   1 jobs       | elapsed:    0.0s\n",
      "[Parallel(n_jobs=1)]: Done  10 out of  10 | elapsed:    0.0s finished\n",
      "[Parallel(n_jobs=1)]: Done   1 jobs       | elapsed:    0.0s\n",
      "[Parallel(n_jobs=1)]: Done  10 out of  10 | elapsed:    0.0s finished\n"
     ]
    }
   ],
   "source": [
    "eclf1 = EnsembleClassifier(clfs=[clf1, clf2, clf3], voting='hard', verbose=3)\n",
    "eclf1 = eclf1.fit(X, y)\n",
    "print(eclf1.predict(X))"
   ]
  },
  {
   "cell_type": "markdown",
   "metadata": {},
   "source": [
    "### verbose=4"
   ]
  },
  {
   "cell_type": "code",
   "execution_count": 5,
   "metadata": {
    "collapsed": false
   },
   "outputs": [
    {
     "name": "stdout",
     "output_type": "stream",
     "text": [
      "Fitting 3 classifiers...\n",
      "Fitting clf1: logisticregression (1/3)\n",
      "LogisticRegression(C=1.0, class_weight=None, dual=False, fit_intercept=True,\n",
      "          intercept_scaling=1, max_iter=100, multi_class='ovr',\n",
      "          penalty='l2', random_state=1, solver='liblinear', tol=0.0001,\n",
      "          verbose=2)\n",
      "[LibLinear]Fitting clf2: randomforestclassifier (2/3)\n",
      "RandomForestClassifier(bootstrap=True, class_weight=None, criterion='gini',\n",
      "            max_depth=None, max_features='auto', max_leaf_nodes=None,\n",
      "            min_samples_leaf=1, min_samples_split=2,\n",
      "            min_weight_fraction_leaf=0.0, n_estimators=10, n_jobs=1,\n",
      "            oob_score=False, random_state=1, verbose=2, warm_start=False)\n",
      "building tree 1 of 10\n",
      "building tree 2 of 10\n",
      "building tree 3 of 10\n",
      "building tree 4 of 10\n",
      "building tree 5 of 10\n",
      "building tree 6 of 10\n",
      "building tree 7 of 10\n",
      "building tree 8 of 10\n",
      "building tree 9 of 10\n",
      "building tree 10 of 10\n",
      "Fitting clf3: gaussiannb (3/3)\n",
      "GaussianNB()\n",
      "[1 1 1 2 2 2]\n"
     ]
    },
    {
     "name": "stderr",
     "output_type": "stream",
     "text": [
      "[Parallel(n_jobs=1)]: Done   1 jobs       | elapsed:    0.0s\n",
      "[Parallel(n_jobs=1)]: Done  10 out of  10 | elapsed:    0.0s finished\n",
      "[Parallel(n_jobs=1)]: Done   1 jobs       | elapsed:    0.0s\n",
      "[Parallel(n_jobs=1)]: Done  10 out of  10 | elapsed:    0.0s finished\n"
     ]
    }
   ],
   "source": [
    "eclf1 = EnsembleClassifier(clfs=[clf1, clf2, clf3], voting='hard', verbose=4)\n",
    "eclf1 = eclf1.fit(X, y)\n",
    "print(eclf1.predict(X))"
   ]
  }
 ],
 "metadata": {
  "kernelspec": {
   "display_name": "Python 3",
   "language": "python",
   "name": "python3"
  },
  "language_info": {
   "codemirror_mode": {
    "name": "ipython",
    "version": 3
   },
   "file_extension": ".py",
   "mimetype": "text/x-python",
   "name": "python",
   "nbconvert_exporter": "python",
   "pygments_lexer": "ipython3",
   "version": "3.4.3"
  }
 },
 "nbformat": 4,
 "nbformat_minor": 0
}
