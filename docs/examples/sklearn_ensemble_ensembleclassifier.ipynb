{
 "metadata": {
  "name": "",
  "signature": "sha256:4c61f4fba64c0d402cb3a7ea9b62aab626f621388edd7169fc11ad80de8809ab"
 },
 "nbformat": 3,
 "nbformat_minor": 0,
 "worksheets": [
  {
   "cells": [
    {
     "cell_type": "code",
     "collapsed": false,
     "input": [
      "%load_ext watermark"
     ],
     "language": "python",
     "metadata": {},
     "outputs": [],
     "prompt_number": 1
    },
    {
     "cell_type": "code",
     "collapsed": false,
     "input": [
      "%watermark -d -a 'Sebastian Raschka' -v -p scikit-learn,numpy,pandas"
     ],
     "language": "python",
     "metadata": {},
     "outputs": [
      {
       "output_type": "stream",
       "stream": "stdout",
       "text": [
        "Sebastian Raschka 23/02/2015 \n",
        "\n",
        "CPython 3.4.2\n",
        "IPython 2.3.1\n",
        "\n",
        "scikit-learn 0.15.2\n",
        "numpy 1.9.1\n",
        "pandas 0.15.2\n"
       ]
      }
     ],
     "prompt_number": 2
    },
    {
     "cell_type": "heading",
     "level": 1,
     "metadata": {},
     "source": [
      "Implementing a Weighted Majority Rule Ensemble Classifier in scikit-learn"
     ]
    },
    {
     "cell_type": "markdown",
     "metadata": {},
     "source": [
      "<br>\n",
      "<br>"
     ]
    },
    {
     "cell_type": "markdown",
     "metadata": {},
     "source": [
      "Here, I want to present a simple and conservative approach of implementing a weighted majority rule ensemble classifier in [scikit-learn](http://scikit-learn.org/stable/) that yielded remarkably good results when I tried it in a [kaggle](http://www.kaggle.com) competition. For me personally, kaggle competitions are just a nice way to try out and compare different approaches and ideas -- basically an opportunity to learn in a controlled environment with nice datasets.  \n",
      "\n",
      "Of course, there are other implementations of more sophisticated [ensemble methods](http://scikit-learn.org/stable/modules/ensemble.html) in scikit-learn, such as [bagging classifiers](http://scikit-learn.org/stable/modules/generated/sklearn.ensemble.BaggingClassifier.html), [random forests](http://scikit-learn.org/stable/modules/generated/sklearn.ensemble.RandomForestClassifier.html), or the famous [AdaBoost](http://scikit-learn.org/stable/modules/generated/sklearn.ensemble.AdaBoostClassifier.html) algorithm. However, as far as I am concerned, they all require the usage of a common \"base classifier.\"\n",
      "\n",
      "In contrast, my motivation for the following approach was to combine conceptually different machine learning classifiers and use a majority vote rule. The reason for this was that I had trained a set of equally well performing models, and I wanted to balance out their individual weaknesses."
     ]
    },
    {
     "cell_type": "markdown",
     "metadata": {},
     "source": [
      "<br>\n",
      "<br>"
     ]
    },
    {
     "cell_type": "heading",
     "level": 3,
     "metadata": {},
     "source": [
      "Sections"
     ]
    },
    {
     "cell_type": "markdown",
     "metadata": {},
     "source": [
      "- [Classifying Iris Flowers Using Different Classification Models](#Classifying-Iris-Flowers-Using-Different-Classification-Models)\n",
      "- [Implementing the Majority Voting Rule Ensemble Classifier](#Implementing-the-Majority-Voting-Rule-Ensemble-Classifier)\n",
      "- [Additional Note About the EnsembleClassifier Implementation: Class Labels vs. Probabilities](#Additional-Note-About-the-EnsembleClassifier-Implementation:-Class-Labels-vs.-Probabilities)\n",
      "- [EnsembleClassifier - Tuning Weights](#EnsembleClassifier---Tuning-Weights)\n",
      "- [EnsembleClassifier - Pipelines](#EnsembleClassifier---Pipelines)\n",
      "- [Some Final Words](#Some-Final-Words)"
     ]
    },
    {
     "cell_type": "markdown",
     "metadata": {},
     "source": [
      "<br>\n",
      "<br>"
     ]
    },
    {
     "cell_type": "heading",
     "level": 1,
     "metadata": {},
     "source": [
      "Classifying Iris Flowers Using Different Classification Models"
     ]
    },
    {
     "cell_type": "markdown",
     "metadata": {},
     "source": [
      "[[back to top](#Sections)]"
     ]
    },
    {
     "cell_type": "markdown",
     "metadata": {},
     "source": [
      "For a simple example, let us use three different classification models to classify the samples in the [Iris dataset](http://en.wikipedia.org/wiki/Iris_flower_data_set): Logistic regression, a naive Bayes classifier with a Gaussian kernel, and a random forest classifier -- an ensemble method itself. At this point, let's not worry about preprocessing the data and training and test sets. Also, we will only use 2 feature columns (sepal width and petal height) to make the classification problem harder. "
     ]
    },
    {
     "cell_type": "code",
     "collapsed": false,
     "input": [
      "from sklearn import datasets\n",
      "\n",
      "iris = datasets.load_iris()\n",
      "X, y = iris.data[:, 1:3], iris.target"
     ],
     "language": "python",
     "metadata": {},
     "outputs": [],
     "prompt_number": 3
    },
    {
     "cell_type": "code",
     "collapsed": false,
     "input": [
      "from sklearn import cross_validation\n",
      "from sklearn.linear_model import LogisticRegression\n",
      "from sklearn.naive_bayes import GaussianNB \n",
      "from sklearn.ensemble import RandomForestClassifier\n",
      "import numpy as np\n",
      "\n",
      "np.random.seed(123)\n",
      "\n",
      "clf1 = LogisticRegression()\n",
      "clf2 = RandomForestClassifier()\n",
      "clf3 = GaussianNB()\n",
      "\n",
      "print('5-fold cross validation:\\n')\n",
      "\n",
      "for clf, label in zip([clf1, clf2, clf3], ['Logistic Regression', 'Random Forest', 'naive Bayes']):\n",
      "\n",
      "    scores = cross_validation.cross_val_score(clf, X, y, cv=5, scoring='accuracy')\n",
      "    print(\"Accuracy: %0.2f (+/- %0.2f) [%s]\" % (scores.mean(), scores.std(), label))\n"
     ],
     "language": "python",
     "metadata": {},
     "outputs": [
      {
       "output_type": "stream",
       "stream": "stdout",
       "text": [
        "5-fold cross validation:\n",
        "\n",
        "Accuracy: 0.90 (+/- 0.05) [Logistic Regression]\n",
        "Accuracy: 0.92 (+/- 0.05) [Random Forest]"
       ]
      },
      {
       "output_type": "stream",
       "stream": "stdout",
       "text": [
        "\n",
        "Accuracy: 0.91 (+/- 0.04) [naive Bayes]\n"
       ]
      }
     ],
     "prompt_number": 4
    },
    {
     "cell_type": "markdown",
     "metadata": {},
     "source": [
      "As we can see from the cross-validation results above, the performance of the three models is almost equal."
     ]
    },
    {
     "cell_type": "markdown",
     "metadata": {},
     "source": [
      "<br>\n",
      "<br>"
     ]
    },
    {
     "cell_type": "heading",
     "level": 1,
     "metadata": {},
     "source": [
      "Implementing the Majority Voting Rule Ensemble Classifier"
     ]
    },
    {
     "cell_type": "markdown",
     "metadata": {},
     "source": [
      "[[back to top](#Sections)]"
     ]
    },
    {
     "cell_type": "markdown",
     "metadata": {},
     "source": [
      "Now, we will implement a simple `EnsembleClassifier` class that allows us to combine the three different classifiers. We define a `predict` method that let's us simply take the majority rule of the predictions by the classifiers.\n",
      "E.g., if the prediction for a sample is\n",
      "\n",
      "- classifier 1 -> class 1\n",
      "- classifier 2 -> class 1\n",
      "- classifier 3 -> class 2\n",
      "\n",
      "we would classify the sample as \"class 1.\""
     ]
    },
    {
     "cell_type": "markdown",
     "metadata": {},
     "source": [
      "Furthermore, we add a `weights` parameter, which let's us assign a specific weight to each classifier. In order to work with the weights, we collect the predicted class probabilities for each classifier, multiply it by the classifier weight, and take the average. Based on these weighted average probabilties, we can then assign the class label.\n",
      "\n",
      "To illustrate this with a simple example, let's assume we have 3 classifiers and a 3-class classification problems where we assign equal weights to all classifiers (the default): w1=1, w2=1, w3=1.\n",
      "\n",
      "The weighted average probabilities for a sample would then be calculated as follows:\n",
      "\n",
      "| classifier      | class 1  | class 2  | class 3  |\n",
      "|-----------------|----------|----------|----------|\n",
      "| classifier 1    | w1 * 0.2 | w1 * 0.5 | w1 * 0.3 |\n",
      "| classifier 2    | w2 * 0.6 | w2 * 0.3 | w2 * 0.1 |\n",
      "| classifier 3    | w3 * 0.3 | w3 * 0.4 | w3 * 0.3 |\n",
      "| weighted average| 0.37     | 0.4      | 0.3      |\n",
      "\n",
      "We can see in the table above that class 2 has the highest weighted average probability, thus we classify the sample as class 2."
     ]
    },
    {
     "cell_type": "markdown",
     "metadata": {},
     "source": [
      "Now, let's put it into code and apply it to our Iris classification."
     ]
    },
    {
     "cell_type": "code",
     "collapsed": false,
     "input": [
      "\"\"\"\n",
      "Soft Voting/Majority Rule classifier\n",
      "\n",
      "This module contains a Soft Voting/Majority Rule classifier for \n",
      "classification clfs.\n",
      "\n",
      "\n",
      "\"\"\"\n",
      "from sklearn.base import BaseEstimator\n",
      "from sklearn.base import ClassifierMixin\n",
      "from sklearn.base import TransformerMixin\n",
      "from sklearn.preprocessing import LabelEncoder\n",
      "import numpy as np\n",
      "import operator\n",
      "\n",
      "class EnsembleClassifier(BaseEstimator, ClassifierMixin, TransformerMixin):\n",
      "    \"\"\"\n",
      "    Soft Voting/Majority Rule classifier for classification clfs.\n",
      "    Parameters\n",
      "    ----------\n",
      "    clfs : array-like, shape = [n_classifiers]\n",
      "      A list of clfs for classification.\n",
      "    voting : str, {'hard', 'soft'} (default='hard')\n",
      "      If 'hard', uses predicted class labels for majority rule voting.\n",
      "      Else if 'soft', predicts the class label based on the argmax of\n",
      "      the sums of the predicted probalities.\n",
      "    weights : array-like, shape = [n_classifiers], optional (default=`None`)\n",
      "      Sequence of weights (`float` or `int`) to weight the occurances of\n",
      "      predicted class labels (`hard` voting) or class probabilities\n",
      "      before averaging (`soft` voting). Uses uniform weights if `None`.\n",
      "    Attributes\n",
      "    ----------\n",
      "    classes_ : array-like, shape = [n_predictions]\n",
      "    Examples\n",
      "    --------\n",
      "    >>> import numpy as np\n",
      "    >>> from sklearn.linear_model import LogisticRegression\n",
      "    >>> from sklearn.naive_bayes import GaussianNB\n",
      "    >>> from sklearn.ensemble import RandomForestClassifier\n",
      "    >>> clf1 = LogisticRegression(random_state=1)\n",
      "    >>> clf2 = RandomForestClassifier(random_state=1)\n",
      "    >>> clf3 = GaussianNB()\n",
      "    >>> X = np.array([[-1, -1], [-2, -1], [-3, -2], [1, 1], [2, 1], [3, 2]])\n",
      "    >>> y = np.array([1, 1, 1, 2, 2, 2])\n",
      "    >>> eclf1 = EnsembleClassifier(clfs=[clf1, clf2, clf3], voting='hard')\n",
      "    >>> eclf1 = eclf1.fit(X, y)\n",
      "    >>> print(eclf1.predict(X))\n",
      "    [1 1 1 2 2 2]\n",
      "    >>> eclf2 = EnsembleClassifier(clfs=[clf1, clf2, clf3], voting='soft')\n",
      "    >>> eclf2 = eclf2.fit(X, y)\n",
      "    >>> print(eclf2.predict(X))\n",
      "    [1 1 1 2 2 2]\n",
      "    >>> eclf3 = EnsembleClassifier(clfs=[clf1, clf2, clf3],\n",
      "    ...                          voting='soft', weights=[2,1,1])\n",
      "    >>> eclf3 = eclf3.fit(X, y)\n",
      "    >>> print(eclf3.predict(X))\n",
      "    [1 1 1 2 2 2]\n",
      "    >>>\n",
      "    \"\"\"\n",
      "    def __init__(self, clfs, voting='hard', weights=None):\n",
      "        self.clfs = clfs\n",
      "        self.voting = voting\n",
      "        self.weights = weights\n",
      "\n",
      "    def fit(self, X, y):\n",
      "        \"\"\"\n",
      "        Fits the clfs.\n",
      "        Parameters\n",
      "        ----------\n",
      "        X : {array-like, sparse matrix}, shape = [n_samples, n_features]\n",
      "            Training vectors, where n_samples is the number of samples and\n",
      "            n_features is the number of features.\n",
      "        y : array-like, shape = [n_samples]\n",
      "            Target values.\n",
      "        Returns\n",
      "        -------\n",
      "        self : object\n",
      "        \"\"\"\n",
      "\n",
      "        if isinstance(y, np.ndarray) and len(y.shape) > 1 and y.shape[1] > 1:\n",
      "            raise NotImplementedError('Multilabel classification'\n",
      "                                      ' not implemented, yet.')\n",
      "\n",
      "        if self.voting not in ('soft', 'hard'):\n",
      "            raise ValueError(\"Voting must be 'soft' or 'hard'; got (voting=%r)\"\n",
      "                             % voting)\n",
      "\n",
      "        if self.weights and len(self.weights) != len(self.clfs):\n",
      "            raise ValueError('Number of classifiers and weights must be equal'\n",
      "                             '; got %d weights, %d clfs'\n",
      "                             % (len(self.weights), len(self.clfs)))\n",
      "\n",
      "        self.le_ = LabelEncoder()\n",
      "        self.le_.fit(y)\n",
      "        self.classes_ = self.le_.classes_\n",
      "\n",
      "        for clf in self.clfs:\n",
      "            clf.fit(X, self.le_.transform(y))\n",
      "                   \n",
      "        return self\n",
      "            \n",
      "    def predict(self, X):\n",
      "        \"\"\"\n",
      "        Predict class labels for X.\n",
      "        \n",
      "        Parameters\n",
      "        ----------\n",
      "        X : {array-like, sparse matrix}, shape = [n_samples, n_features]\n",
      "            Training vectors, where n_samples is the number of samples and\n",
      "            n_features is the number of features.\n",
      "        \n",
      "        Returns\n",
      "        ----------\n",
      "        maj : array-like, shape = [n_samples]\n",
      "            Predicted class labels.\n",
      "        \n",
      "        \"\"\"\n",
      "        if self.voting == 'soft':\n",
      "            \n",
      "            maj = np.argmax(self.predict_proba(X), axis=1)\n",
      "        \n",
      "        else:  # 'hard' voting\n",
      "            predictions = self._predict(X)\n",
      "\n",
      "            maj = np.apply_along_axis(lambda x:\n",
      "                                      np.argmax(np.bincount(x, weights=self.weights)),\n",
      "                                      axis=1,\n",
      "                                      arr=predictions)\n",
      "        \n",
      "        maj = self.le_.inverse_transform(maj)\n",
      "        \n",
      "        return maj\n",
      "            \n",
      "    def predict_proba(self, X):\n",
      "        \"\"\" \n",
      "        Predict class probabilities for X.\n",
      "        \n",
      "        Parameters\n",
      "        ----------\n",
      "        X : {array-like, sparse matrix}, shape = [n_samples, n_features]\n",
      "            Training vectors, where n_samples is the number of samples and\n",
      "            n_features is the number of features.\n",
      "        \n",
      "        Returns\n",
      "        ----------\n",
      "        avg : array-like, shape = [n_samples, n_classes]\n",
      "            Weighted average probability for each class per sample.\n",
      "        \n",
      "        \"\"\"\n",
      "        avg = np.average(self._predict_probas(X), axis=0, weights=self.weights)\n",
      "        \n",
      "        return avg\n",
      "  \n",
      "    def transform(self, X):\n",
      "        \"\"\"\n",
      "        Return class labels or probabilities for X for each estimator.\n",
      "                 \n",
      "        Parameters\n",
      "        ----------\n",
      "        X : {array-like, sparse matrix}, shape = [n_samples, n_features]\n",
      "            Training vectors, where n_samples is the number of samples and\n",
      "            n_features is the number of features.\n",
      "      \n",
      "        Returns\n",
      "        -------\n",
      "        If `voting='soft'`:\n",
      "          array-like = [n_classifiers, n_samples, n_classes]\n",
      "            Class probabilties calculated by each classifier.\n",
      "        If `voting='hard'`:\n",
      "          array-like = [n_classifiers, n_samples]\n",
      "            Class labels predicted by each classifier.\n",
      "        \n",
      "        \"\"\"\n",
      "        if self.voting == 'soft':\n",
      "            return self._predict_probas(X)\n",
      "        else:\n",
      "            return self._predict(X)  \n",
      "    \n",
      "    def _predict(self, X):\n",
      "        \"\"\" Collects results from clf.predict calls. \"\"\"\n",
      "        \n",
      "        return np.asarray([clf.predict(X) for clf in self.clfs]).T\n",
      "        \n",
      "    def _predict_probas(self, X):\n",
      "        \"\"\" Collects results from clf.predict calls. \"\"\"\n",
      "        \n",
      "        return np.asarray([clf.predict_proba(X) for clf in self.clfs])\n",
      "        \n",
      "if __name__ == \"__main__\":\n",
      "    import doctest\n",
      "    doctest.testmod()"
     ],
     "language": "python",
     "metadata": {},
     "outputs": [],
     "prompt_number": 3
    },
    {
     "cell_type": "code",
     "collapsed": false,
     "input": [
      "# Majority Rule (hard) Voting\n",
      "\n",
      "np.random.seed(123)\n",
      "eclf = EnsembleClassifier(clfs=[clf1, clf2, clf3], voting='hard')\n",
      "\n",
      "for clf, label in zip([clf1, clf2, clf3, eclf], ['Logistic Regression', 'Random Forest', 'naive Bayes', 'Ensemble']):\n",
      "\n",
      "    scores = cross_validation.cross_val_score(clf, X, y, cv=5, scoring='accuracy')\n",
      "    print(\"Accuracy: %0.2f (+/- %0.2f) [%s]\" % (scores.mean(), scores.std(), label))"
     ],
     "language": "python",
     "metadata": {},
     "outputs": [
      {
       "output_type": "stream",
       "stream": "stdout",
       "text": [
        "Accuracy: 0.90 (+/- 0.05) [Logistic Regression]\n",
        "Accuracy: 0.92 (+/- 0.05) [Random Forest]"
       ]
      },
      {
       "output_type": "stream",
       "stream": "stdout",
       "text": [
        "\n",
        "Accuracy: 0.91 (+/- 0.04) [naive Bayes]\n",
        "Accuracy: 0.95 (+/- 0.05) [Ensemble]"
       ]
      },
      {
       "output_type": "stream",
       "stream": "stdout",
       "text": [
        "\n"
       ]
      }
     ],
     "prompt_number": 6
    },
    {
     "cell_type": "code",
     "collapsed": false,
     "input": [
      "# Average Probabilities (soft) Voting\n",
      "\n",
      "np.random.seed(123)\n",
      "eclf = EnsembleClassifier(clfs=[clf1, clf2, clf3], voting='soft', weights=[2,1,5])\n",
      "\n",
      "for clf, label in zip([clf1, clf2, clf3, eclf], ['Logistic Regression', 'Random Forest', 'naive Bayes', 'Ensemble']):\n",
      "\n",
      "    scores = cross_validation.cross_val_score(clf, X, y, cv=5, scoring='accuracy')\n",
      "    print(\"Accuracy: %0.2f (+/- %0.2f) [%s]\" % (scores.mean(), scores.std(), label))\n",
      "\n"
     ],
     "language": "python",
     "metadata": {},
     "outputs": [
      {
       "output_type": "stream",
       "stream": "stdout",
       "text": [
        "Accuracy: 0.90 (+/- 0.05) [Logistic Regression]\n",
        "Accuracy: 0.92 (+/- 0.05) [Random Forest]"
       ]
      },
      {
       "output_type": "stream",
       "stream": "stdout",
       "text": [
        "\n",
        "Accuracy: 0.91 (+/- 0.04) [naive Bayes]\n",
        "Accuracy: 0.94 (+/- 0.04) [Ensemble]"
       ]
      },
      {
       "output_type": "stream",
       "stream": "stdout",
       "text": [
        "\n"
       ]
      }
     ],
     "prompt_number": 7
    },
    {
     "cell_type": "markdown",
     "metadata": {},
     "source": [
      "<br>\n",
      "<br>"
     ]
    },
    {
     "cell_type": "heading",
     "level": 1,
     "metadata": {},
     "source": [
      "EnsembleClassifier - Tuning Weights"
     ]
    },
    {
     "cell_type": "markdown",
     "metadata": {},
     "source": [
      "[[back to top](#Sections)]"
     ]
    },
    {
     "cell_type": "markdown",
     "metadata": {},
     "source": [
      "Let's get back to our `weights` parameter. Here, we will use a naive brute-force approach to find the optimal weights for each classifier to increase the prediction accuracy."
     ]
    },
    {
     "cell_type": "code",
     "collapsed": false,
     "input": [
      "import pandas as pd\n",
      "\n",
      "np.random.seed(123)\n",
      "\n",
      "df = pd.DataFrame(columns=('w1', 'w2', 'w3', 'mean', 'std'))\n",
      "\n",
      "i = 0\n",
      "for w1 in range(1,4):\n",
      "    for w2 in range(1,4):\n",
      "        for w3 in range(1,4):\n",
      "            \n",
      "            if len(set((w1,w2,w3))) == 1: # skip if all weights are equal\n",
      "                continue\n",
      "            \n",
      "            eclf = EnsembleClassifier(clfs=[clf1, clf2, clf3], voting='soft', weights=[w1,w2,w3])\n",
      "            scores = cross_validation.cross_val_score(\n",
      "                                            estimator=eclf,\n",
      "                                            X=X, \n",
      "                                            y=y, \n",
      "                                            cv=5, \n",
      "                                            scoring='accuracy',\n",
      "                                            n_jobs=1)\n",
      "            \n",
      "            df.loc[i] = [w1, w2, w3, scores.mean(), scores.std()]\n",
      "            i += 1\n",
      "            \n",
      "df.sort(columns=['mean', 'std'], ascending=False)"
     ],
     "language": "python",
     "metadata": {},
     "outputs": [
      {
       "html": [
        "<div style=\"max-height:1000px;max-width:1500px;overflow:auto;\">\n",
        "<table border=\"1\" class=\"dataframe\">\n",
        "  <thead>\n",
        "    <tr style=\"text-align: right;\">\n",
        "      <th></th>\n",
        "      <th>w1</th>\n",
        "      <th>w2</th>\n",
        "      <th>w3</th>\n",
        "      <th>mean</th>\n",
        "      <th>std</th>\n",
        "    </tr>\n",
        "  </thead>\n",
        "  <tbody>\n",
        "    <tr>\n",
        "      <th>2 </th>\n",
        "      <td> 1</td>\n",
        "      <td> 2</td>\n",
        "      <td> 1</td>\n",
        "      <td> 0.953333</td>\n",
        "      <td> 0.033993</td>\n",
        "    </tr>\n",
        "    <tr>\n",
        "      <th>17</th>\n",
        "      <td> 3</td>\n",
        "      <td> 1</td>\n",
        "      <td> 2</td>\n",
        "      <td> 0.953333</td>\n",
        "      <td> 0.033993</td>\n",
        "    </tr>\n",
        "    <tr>\n",
        "      <th>16</th>\n",
        "      <td> 3</td>\n",
        "      <td> 1</td>\n",
        "      <td> 1</td>\n",
        "      <td> 0.946667</td>\n",
        "      <td> 0.045216</td>\n",
        "    </tr>\n",
        "    <tr>\n",
        "      <th>20</th>\n",
        "      <td> 3</td>\n",
        "      <td> 2</td>\n",
        "      <td> 2</td>\n",
        "      <td> 0.946667</td>\n",
        "      <td> 0.045216</td>\n",
        "    </tr>\n",
        "    <tr>\n",
        "      <th>1 </th>\n",
        "      <td> 1</td>\n",
        "      <td> 1</td>\n",
        "      <td> 3</td>\n",
        "      <td> 0.946667</td>\n",
        "      <td> 0.040000</td>\n",
        "    </tr>\n",
        "    <tr>\n",
        "      <th>6 </th>\n",
        "      <td> 1</td>\n",
        "      <td> 3</td>\n",
        "      <td> 2</td>\n",
        "      <td> 0.946667</td>\n",
        "      <td> 0.033993</td>\n",
        "    </tr>\n",
        "    <tr>\n",
        "      <th>7 </th>\n",
        "      <td> 1</td>\n",
        "      <td> 3</td>\n",
        "      <td> 3</td>\n",
        "      <td> 0.946667</td>\n",
        "      <td> 0.033993</td>\n",
        "    </tr>\n",
        "    <tr>\n",
        "      <th>11</th>\n",
        "      <td> 2</td>\n",
        "      <td> 2</td>\n",
        "      <td> 1</td>\n",
        "      <td> 0.946667</td>\n",
        "      <td> 0.033993</td>\n",
        "    </tr>\n",
        "    <tr>\n",
        "      <th>13</th>\n",
        "      <td> 2</td>\n",
        "      <td> 3</td>\n",
        "      <td> 1</td>\n",
        "      <td> 0.946667</td>\n",
        "      <td> 0.033993</td>\n",
        "    </tr>\n",
        "    <tr>\n",
        "      <th>14</th>\n",
        "      <td> 2</td>\n",
        "      <td> 3</td>\n",
        "      <td> 2</td>\n",
        "      <td> 0.946667</td>\n",
        "      <td> 0.033993</td>\n",
        "    </tr>\n",
        "    <tr>\n",
        "      <th>18</th>\n",
        "      <td> 3</td>\n",
        "      <td> 1</td>\n",
        "      <td> 3</td>\n",
        "      <td> 0.946667</td>\n",
        "      <td> 0.033993</td>\n",
        "    </tr>\n",
        "    <tr>\n",
        "      <th>22</th>\n",
        "      <td> 3</td>\n",
        "      <td> 3</td>\n",
        "      <td> 1</td>\n",
        "      <td> 0.946667</td>\n",
        "      <td> 0.033993</td>\n",
        "    </tr>\n",
        "    <tr>\n",
        "      <th>23</th>\n",
        "      <td> 3</td>\n",
        "      <td> 3</td>\n",
        "      <td> 2</td>\n",
        "      <td> 0.946667</td>\n",
        "      <td> 0.033993</td>\n",
        "    </tr>\n",
        "    <tr>\n",
        "      <th>19</th>\n",
        "      <td> 3</td>\n",
        "      <td> 2</td>\n",
        "      <td> 1</td>\n",
        "      <td> 0.940000</td>\n",
        "      <td> 0.057349</td>\n",
        "    </tr>\n",
        "    <tr>\n",
        "      <th>5 </th>\n",
        "      <td> 1</td>\n",
        "      <td> 3</td>\n",
        "      <td> 1</td>\n",
        "      <td> 0.940000</td>\n",
        "      <td> 0.044222</td>\n",
        "    </tr>\n",
        "    <tr>\n",
        "      <th>8 </th>\n",
        "      <td> 2</td>\n",
        "      <td> 1</td>\n",
        "      <td> 1</td>\n",
        "      <td> 0.940000</td>\n",
        "      <td> 0.044222</td>\n",
        "    </tr>\n",
        "    <tr>\n",
        "      <th>9 </th>\n",
        "      <td> 2</td>\n",
        "      <td> 1</td>\n",
        "      <td> 2</td>\n",
        "      <td> 0.940000</td>\n",
        "      <td> 0.044222</td>\n",
        "    </tr>\n",
        "    <tr>\n",
        "      <th>12</th>\n",
        "      <td> 2</td>\n",
        "      <td> 2</td>\n",
        "      <td> 3</td>\n",
        "      <td> 0.940000</td>\n",
        "      <td> 0.044222</td>\n",
        "    </tr>\n",
        "    <tr>\n",
        "      <th>21</th>\n",
        "      <td> 3</td>\n",
        "      <td> 2</td>\n",
        "      <td> 3</td>\n",
        "      <td> 0.940000</td>\n",
        "      <td> 0.044222</td>\n",
        "    </tr>\n",
        "    <tr>\n",
        "      <th>4 </th>\n",
        "      <td> 1</td>\n",
        "      <td> 2</td>\n",
        "      <td> 3</td>\n",
        "      <td> 0.940000</td>\n",
        "      <td> 0.038873</td>\n",
        "    </tr>\n",
        "    <tr>\n",
        "      <th>3 </th>\n",
        "      <td> 1</td>\n",
        "      <td> 2</td>\n",
        "      <td> 2</td>\n",
        "      <td> 0.940000</td>\n",
        "      <td> 0.032660</td>\n",
        "    </tr>\n",
        "    <tr>\n",
        "      <th>10</th>\n",
        "      <td> 2</td>\n",
        "      <td> 1</td>\n",
        "      <td> 3</td>\n",
        "      <td> 0.940000</td>\n",
        "      <td> 0.032660</td>\n",
        "    </tr>\n",
        "    <tr>\n",
        "      <th>0 </th>\n",
        "      <td> 1</td>\n",
        "      <td> 1</td>\n",
        "      <td> 2</td>\n",
        "      <td> 0.933333</td>\n",
        "      <td> 0.047140</td>\n",
        "    </tr>\n",
        "    <tr>\n",
        "      <th>15</th>\n",
        "      <td> 2</td>\n",
        "      <td> 3</td>\n",
        "      <td> 3</td>\n",
        "      <td> 0.933333</td>\n",
        "      <td> 0.047140</td>\n",
        "    </tr>\n",
        "  </tbody>\n",
        "</table>\n",
        "</div>"
       ],
       "metadata": {},
       "output_type": "pyout",
       "prompt_number": 8,
       "text": [
        "    w1  w2  w3      mean       std\n",
        "2    1   2   1  0.953333  0.033993\n",
        "17   3   1   2  0.953333  0.033993\n",
        "16   3   1   1  0.946667  0.045216\n",
        "20   3   2   2  0.946667  0.045216\n",
        "1    1   1   3  0.946667  0.040000\n",
        "6    1   3   2  0.946667  0.033993\n",
        "7    1   3   3  0.946667  0.033993\n",
        "11   2   2   1  0.946667  0.033993\n",
        "13   2   3   1  0.946667  0.033993\n",
        "14   2   3   2  0.946667  0.033993\n",
        "18   3   1   3  0.946667  0.033993\n",
        "22   3   3   1  0.946667  0.033993\n",
        "23   3   3   2  0.946667  0.033993\n",
        "19   3   2   1  0.940000  0.057349\n",
        "5    1   3   1  0.940000  0.044222\n",
        "8    2   1   1  0.940000  0.044222\n",
        "9    2   1   2  0.940000  0.044222\n",
        "12   2   2   3  0.940000  0.044222\n",
        "21   3   2   3  0.940000  0.044222\n",
        "4    1   2   3  0.940000  0.038873\n",
        "3    1   2   2  0.940000  0.032660\n",
        "10   2   1   3  0.940000  0.032660\n",
        "0    1   1   2  0.933333  0.047140\n",
        "15   2   3   3  0.933333  0.047140"
       ]
      }
     ],
     "prompt_number": 8
    },
    {
     "cell_type": "markdown",
     "metadata": {},
     "source": [
      "<br>\n",
      "<br>"
     ]
    },
    {
     "cell_type": "heading",
     "level": 1,
     "metadata": {},
     "source": [
      "EnsembleClassifier - Pipelines"
     ]
    },
    {
     "cell_type": "markdown",
     "metadata": {},
     "source": [
      "[[back to top](#Sections)]"
     ]
    },
    {
     "cell_type": "markdown",
     "metadata": {},
     "source": [
      "Of course, we can also use the `EnsembleClassifier` in `Pipelines`. This is especially useful if a certain classifier does a pretty good job on a certain feature subset or requires different `preprocessing` steps. For demonstration purposes, let us implement a simple `ColumnSelector` class."
     ]
    },
    {
     "cell_type": "code",
     "collapsed": false,
     "input": [
      "class ColumnSelector(object):\n",
      "    \"\"\" \n",
      "    A feature selector for scikit-learn's Pipeline class that returns\n",
      "    specified columns from a numpy array.\n",
      "    \n",
      "    \"\"\"\n",
      "    \n",
      "    def __init__(self, cols):\n",
      "        self.cols = cols\n",
      "        \n",
      "    def transform(self, X, y=None):\n",
      "        return X[:, self.cols]\n",
      "\n",
      "    def fit(self, X, y=None):\n",
      "        return self"
     ],
     "language": "python",
     "metadata": {},
     "outputs": [],
     "prompt_number": 9
    },
    {
     "cell_type": "code",
     "collapsed": false,
     "input": [
      "from sklearn.pipeline import Pipeline \n",
      "from sklearn.lda import LDA\n",
      "\n",
      "pipe1 = Pipeline([\n",
      "               ('sel', ColumnSelector([1])),    # use only the 1st feature\n",
      "               ('clf', GaussianNB())])\n",
      "\n",
      "pipe2 = Pipeline([\n",
      "               ('sel', ColumnSelector([0, 1])), # use the 1st and 2nd feature\n",
      "               ('dim', LDA(n_components=1)),    # Dimensionality reduction via LDA\n",
      "               ('clf', LogisticRegression())])\n",
      "\n",
      "eclf = EnsembleClassifier([pipe1, pipe2])\n",
      "scores = cross_validation.cross_val_score(eclf, X, y, cv=5, scoring='accuracy')\n",
      "print(\"Accuracy: %0.2f (+/- %0.2f) [%s]\" % (scores.mean(), scores.std(), label))"
     ],
     "language": "python",
     "metadata": {},
     "outputs": [
      {
       "output_type": "stream",
       "stream": "stdout",
       "text": [
        "Accuracy: 0.95 (+/- 0.03) [Ensemble]\n"
       ]
      }
     ],
     "prompt_number": 10
    },
    {
     "cell_type": "markdown",
     "metadata": {},
     "source": [
      "<br>\n",
      "<br>"
     ]
    },
    {
     "cell_type": "heading",
     "level": 1,
     "metadata": {},
     "source": [
      "Ensemble EnsembleClassifier"
     ]
    },
    {
     "cell_type": "markdown",
     "metadata": {},
     "source": [
      "[[back to top](#Sections)]"
     ]
    },
    {
     "cell_type": "markdown",
     "metadata": {},
     "source": [
      "If one `EnsembleClassifier` is not yet enough, we can also build an ensemble classifier of ensemble classifiers. Just like the other examples above, the following code is just meant to be a technical demonstration:"
     ]
    },
    {
     "cell_type": "code",
     "collapsed": false,
     "input": [
      "eclf1 = EnsembleClassifier(clfs=[clf1, clf2, clf3], voting='soft', weights=[5,2,1])\n",
      "eclf2 = EnsembleClassifier(clfs=[clf1, clf2, clf3], voting='soft', weights=[4,2,1])\n",
      "eclf3 = EnsembleClassifier(clfs=[clf1, clf2, clf3], voting='soft', weights=[1,2,4])\n",
      "\n",
      "eclf = EnsembleClassifier(clfs=[eclf1, eclf2, eclf3], voting='soft', weights=[2,1,1])\n",
      "\n",
      "scores = cross_validation.cross_val_score(eclf, X, y, cv=5, scoring='accuracy')\n",
      "print(\"Accuracy: %0.2f (+/- %0.2f) [%s]\" % (scores.mean(), scores.std(), label))"
     ],
     "language": "python",
     "metadata": {},
     "outputs": [
      {
       "output_type": "stream",
       "stream": "stdout",
       "text": [
        "Accuracy: 0.95 (+/- 0.03) [Ensemble]\n"
       ]
      }
     ],
     "prompt_number": 11
    },
    {
     "cell_type": "markdown",
     "metadata": {},
     "source": [
      "<br>\n",
      "<br>"
     ]
    },
    {
     "cell_type": "heading",
     "level": 1,
     "metadata": {},
     "source": [
      "Some Final Words"
     ]
    },
    {
     "cell_type": "markdown",
     "metadata": {},
     "source": [
      "[[back to top](#Sections)]"
     ]
    },
    {
     "cell_type": "markdown",
     "metadata": {},
     "source": [
      "When we applied the `EnsembleClassifier` to the iris example above, the results surely looked nice. But we have to keep in mind that this is just a toy example. The majority rule voting approach might not always work so well in practice, especially if the ensemble consists of more \"weak\" than \"strong\" classification models. Also, although we used a cross-validation approach to overcome the overfitting challenge, please always keep a spare validation dataset to evaluate the results."
     ]
    },
    {
     "cell_type": "markdown",
     "metadata": {},
     "source": [
      "Anyway, if you are interested in those approaches, I added them to my [`mlxtend`](https://github.com/rasbt/mlxtend) Python module; in `mlxtend` (short for \"machine learning library extensions\"), I collect certain things that I personally find useful but are not available in other packages yet.\n",
      "\n",
      "You can install `mlxtend` via\n",
      "\n",
      "    pip install mlxtend\n",
      "\n",
      "and then load the `ColumnSelector` or `EnsembleClassifier` via\n",
      "\n",
      "    from mlxtend.sklearn import ColumnSelector\n",
      "    from mlxtend.sklearn import EnsembleClassifier"
     ]
    },
    {
     "cell_type": "heading",
     "level": 1,
     "metadata": {},
     "source": [
      "<br>\n",
      "<br>"
     ]
    },
    {
     "cell_type": "heading",
     "level": 1,
     "metadata": {},
     "source": [
      "Example"
     ]
    },
    {
     "cell_type": "code",
     "collapsed": false,
     "input": [
      "from sklearn.linear_model import LogisticRegression\n",
      "from sklearn.naive_bayes import GaussianNB\n",
      "from sklearn.ensemble import RandomForestClassifier\n",
      "import matplotlib.pyplot as plt\n",
      "%matplotlib inline\n",
      "\n",
      "clf1 = LogisticRegression(random_state=123)\n",
      "clf2 = RandomForestClassifier(random_state=123)\n",
      "clf3 = GaussianNB()\n",
      "X = np.array([[-1.0, -1.0], [-1.2, -1.4], [-3.4, -2.2], [1.1, 1.2]])\n",
      "y = np.array([1, 1, 2, 2])\n",
      "\n",
      "eclf = EnsembleClassifier(clfs=[clf1, clf2, clf3], \n",
      "                        voting='soft', \n",
      "                        weights=[1, 1, 5])\n",
      "\n",
      "# predict class probabilities for all classifiers\n",
      "probas = [c.fit(X, y).predict_proba(X) for c in (clf1, clf2, clf3, eclf)]\n",
      "\n",
      "# get class probabilities for the first sample in the dataset\n",
      "class1_1 = [pr[0,0] for pr in probas]\n",
      "class2_1 = [pr[0,1] for pr in probas]\n",
      "\n",
      "#####################\n",
      "# plotting \n",
      "\n",
      "N = 4  # number of groups\n",
      "ind = np.arange(N)  # group positions\n",
      "width = 0.35  # bar width\n",
      "\n",
      "fig, ax = plt.subplots(figsize=(7,5))\n",
      "\n",
      "# bars for classifier 1-3\n",
      "p1 = ax.bar(ind, np.hstack(([class1_1[:-1],[0]])), width, color='green')\n",
      "p2 = ax.bar(ind + width, np.hstack(([class2_1[:-1],[0]])), width, color='lightgreen')\n",
      "\n",
      "# bars for VotingClassifier\n",
      "p3 = ax.bar(ind, [0, 0, 0, class1_1[-1]], width, color='blue')\n",
      "p4 = ax.bar(ind + width, [0, 0, 0, class2_1[-1]], width, color='steelblue')\n",
      "\n",
      "# plot annotations\n",
      "plt.axvline(2.8, color='k', linestyle='dashed')\n",
      "ax.set_xticks(ind + width)\n",
      "ax.set_xticklabels(['LogisticRegression\\nweight 1', \n",
      "                    'GaussianNB\\nweight 1', \n",
      "                    'RandomForestClassifier\\nweight 5', \n",
      "                    'VotingClassifier\\n(average probabilities)'],\n",
      "                   rotation=40,\n",
      "                   ha='right')\n",
      "plt.ylim([0,1])\n",
      "plt.ylabel('probability')\n",
      "plt.title('Class probabilities for sample 1 by different classifiers')\n",
      "plt.legend([p1[0], p2[0]], ['class 1', 'class 2'] , loc='upper left')\n",
      "plt.tight_layout()\n",
      "#plt.savefig('../../images/sklean_ensemble_probas.png')\n",
      "plt.show()"
     ],
     "language": "python",
     "metadata": {},
     "outputs": [
      {
       "metadata": {},
       "output_type": "display_data",
       "png": "[encoded data removed]",
       "text": [
        "<matplotlib.figure.Figure at 0x107661898>"
       ]
      }
     ],
     "prompt_number": 11
    },
    {
     "cell_type": "code",
     "collapsed": false,
     "input": [],
     "language": "python",
     "metadata": {},
     "outputs": []
    }
   ],
   "metadata": {}
  }
 ]
}