{
 "cells": [
  {
   "cell_type": "code",
   "execution_count": 236,
   "metadata": {
    "collapsed": true
   },
   "outputs": [],
   "source": [
    "import sys\n",
    "sys.path = ['/Users/sebastian/github/mlxtend/'] + sys.path\n",
    "from mlxtend.regression import LinearRegression"
   ]
  },
  {
   "cell_type": "code",
   "execution_count": 238,
   "metadata": {
    "collapsed": false
   },
   "outputs": [
    {
     "name": "stdout",
     "output_type": "stream",
     "text": [
      "Sebastian Raschka 12/06/2015 \n",
      "\n",
      "CPython 3.4.3\n",
      "IPython 3.1.0\n",
      "\n",
      "mlxtend 0.2.0\n"
     ]
    }
   ],
   "source": [
    "%load_ext watermark\n",
    "%watermark -a 'Sebastian Raschka' -d -v -p mlxtend"
   ]
  },
  {
   "cell_type": "markdown",
   "metadata": {},
   "source": [
    "# Ordinary Least Squares Linear Regression examples"
   ]
  },
  {
   "cell_type": "markdown",
   "metadata": {},
   "source": [
    "The linear regression model is defined as"
   ]
  },
  {
   "cell_type": "markdown",
   "metadata": {},
   "source": [
    "$$ y = w_0 x_0 + w_1x_1 + \\dots + w_m x_m \\\\\n",
    " = \\sum_{i=1}^{n} w_i x_i = \\mathbf{w}^T \\mathbf{x},$$\n",
    "\n",
    "where $\\mathbf{w}$ is a vector with the coefficients, $\\mathbf{x}$ is the feature vector (exploratory variables), and $y$ is the target value; $w_0$ is the y-axis intercept and $x_0=1$."
   ]
  },
  {
   "cell_type": "markdown",
   "metadata": {},
   "source": [
    "<br>\n",
    "<br>"
   ]
  },
  {
   "cell_type": "markdown",
   "metadata": {},
   "source": [
    "A function to visualize the linear regression fit and some toy data:"
   ]
  },
  {
   "cell_type": "code",
   "execution_count": 138,
   "metadata": {
    "collapsed": true
   },
   "outputs": [],
   "source": [
    "%matplotlib inline\n",
    "import matplotlib.pyplot as plt\n",
    "def lin_regplot(X, y, model):\n",
    "    plt.scatter(X, y, c='blue')\n",
    "    plt.plot(X, model.predict(X), color='red')    \n",
    "    return"
   ]
  },
  {
   "cell_type": "code",
   "execution_count": 166,
   "metadata": {
    "collapsed": true
   },
   "outputs": [],
   "source": [
    "X = np.array([ 1, 2, 3, 4, 5])[:, np.newaxis]\n",
    "y = np.array([ 1, 2, 3, 4, 5])"
   ]
  },
  {
   "cell_type": "markdown",
   "metadata": {},
   "source": [
    "<br>\n",
    "<br>"
   ]
  },
  {
   "cell_type": "markdown",
   "metadata": {},
   "source": [
    "# Normal Equation"
   ]
  },
  {
   "cell_type": "markdown",
   "metadata": {},
   "source": [
    "Solving the parameters using the closed-form solution (normal equation)\n",
    "\n",
    "$$\\mathbf{w} = (\\mathbf{X}^T\\mathbf{X})^{-1}\\mathbf{X}^T\\mathbf{y},$$\n",
    "\n",
    "and the intercept can be calculated via\n",
    "\n",
    "$$w_0 = \\mu_{y} - \\mu_{\\hat{y}},$$\n",
    "where $\\mu_{y}$ is the mean of the target variables and $\\mu_{\\hat{y}}$ is the mean of the predicted target values.\n"
   ]
  },
  {
   "cell_type": "code",
   "execution_count": 167,
   "metadata": {
    "collapsed": false
   },
   "outputs": [
    {
     "name": "stdout",
     "output_type": "stream",
     "text": [
      "Intercept: 0.00\n",
      "Slope: 1.00\n"
     ]
    }
   ],
   "source": [
    "ne_lr = LinearRegression(solver='normal_equation')\n",
    "ne_lr.fit(X, y)\n",
    "print('Intercept: %.2f' % ne_lr.w_[0])\n",
    "print('Slope: %.2f' % ne_lr.w_[1])"
   ]
  },
  {
   "cell_type": "code",
   "execution_count": 168,
   "metadata": {
    "collapsed": false
   },
   "outputs": [
    {
     "data": {
      "image/png": "[encoded data removed]",
      "text/plain": [
       "<matplotlib.figure.Figure at 0x106795208>"
      ]
     },
     "metadata": {},
     "output_type": "display_data"
    }
   ],
   "source": [
    "lin_regplot(X, y, ne_lr)"
   ]
  },
  {
   "cell_type": "markdown",
   "metadata": {},
   "source": [
    "<br>\n",
    "<br>"
   ]
  },
  {
   "cell_type": "markdown",
   "metadata": {},
   "source": [
    "# Gradient Descent"
   ]
  },
  {
   "cell_type": "markdown",
   "metadata": {},
   "source": [
    "Gradient decent implementation optimizing the cost sum of squared error cost function $J(\\mathbf{w})$:\n",
    "\n",
    "$$J(\\mathbf{w})  = \\frac{1}{2} \\sum_{i} (\\text{target}^{(i)} - \\text{output}^{(i)})^2 \\quad \\quad \\text{output}^{(i)} \\in \\mathbb{R}$$\n",
    "\n",
    "And update the weights after each epoch via \n",
    "\n",
    "$$\\Delta w_j = - \\eta \\frac{\\partial J}{\\partial w_j}$$ where $\\eta$ is the learning rate. The weights are updated after each epoch (pass over the training dataset):\n",
    "\n",
    "$$\\mathbf{w} := \\mathbf{w} + \\Delta \\mathbf{w},$$\n",
    "\n",
    "where\n",
    "\n",
    "$$\\Delta w_j = - \\eta \\frac{\\partial J}{\\partial w_j} = - \\eta \\sum_i  (t^{(i)} - o^{(i)})(- x^{(i)}_{j}) = \\eta \\sum_i (t^{(i)} - o^{(i)})x^{(i)}_{j}$$\n",
    "(o = output, t = target)."
   ]
  },
  {
   "cell_type": "code",
   "execution_count": 187,
   "metadata": {
    "collapsed": false
   },
   "outputs": [
    {
     "name": "stdout",
     "output_type": "stream",
     "text": [
      "Intercept: 0.00\n",
      "Slope: 1.00\n"
     ]
    }
   ],
   "source": [
    "gd_lr = LinearRegression(solver='gd', eta=0.005, epochs=1500, random_seed=0)\n",
    "gd_lr.fit(X, y)\n",
    "print('Intercept: %.2f' % gd_lr.w_[0])\n",
    "print('Slope: %.2f' % gd_lr.w_[1])"
   ]
  },
  {
   "cell_type": "code",
   "execution_count": 185,
   "metadata": {
    "collapsed": false
   },
   "outputs": [
    {
     "data": {
      "image/png": "[encoded data removed]",
      "text/plain": [
       "<matplotlib.figure.Figure at 0x1067bb9e8>"
      ]
     },
     "metadata": {},
     "output_type": "display_data"
    }
   ],
   "source": [
    "plt.plot(range(1, gd_lr.epochs+1), gd_lr.cost_)\n",
    "plt.xlabel('Epochs')\n",
    "plt.ylabel('Cost')\n",
    "plt.tight_layout()\n",
    "plt.show()"
   ]
  },
  {
   "cell_type": "code",
   "execution_count": 141,
   "metadata": {
    "collapsed": false
   },
   "outputs": [
    {
     "data": {
      "image/png": "[encoded data removed]",
      "text/plain": [
       "<matplotlib.figure.Figure at 0x10cb23cc0>"
      ]
     },
     "metadata": {},
     "output_type": "display_data"
    }
   ],
   "source": [
    "lin_regplot(X, y, gd_lr)"
   ]
  },
  {
   "cell_type": "markdown",
   "metadata": {},
   "source": [
    "<br>\n",
    "<br>"
   ]
  },
  {
   "cell_type": "markdown",
   "metadata": {},
   "source": [
    "# Gradient Descent with Standardized variables"
   ]
  },
  {
   "cell_type": "markdown",
   "metadata": {},
   "source": [
    "For better convergence, it is typically recommended to standardize the variables prior to using gradient descent for better convergence:\n",
    "    \n",
    "$$\\mathbf{x}_{j, std} = \\frac{\\mathbf{x}_j - \\mathbf{\\mu}_j}{\\mathbf{\\sigma}_j},$$\n",
    "\n",
    "where $\\mathbf{\\mu}$ is the mean of the feature column, and $\\mathbf{\\sigma}$ is its standard deviation."
   ]
  },
  {
   "cell_type": "code",
   "execution_count": 188,
   "metadata": {
    "collapsed": true
   },
   "outputs": [],
   "source": [
    "X_std = (X - np.mean(X)) / X.std()\n",
    "y_std = (y - np.mean(y)) / y.std()"
   ]
  },
  {
   "cell_type": "code",
   "execution_count": 193,
   "metadata": {
    "collapsed": false
   },
   "outputs": [
    {
     "name": "stdout",
     "output_type": "stream",
     "text": [
      "Intercept: 0.00\n",
      "Slope: 1.00\n"
     ]
    }
   ],
   "source": [
    "gd_lr = LinearRegression(solver='gd', eta=0.1, epochs=10, random_seed=0)\n",
    "gd_lr.fit(X_std, y_std)\n",
    "print('Intercept: %.2f' % gd_lr.w_[0])\n",
    "print('Slope: %.2f' % gd_lr.w_[1])"
   ]
  },
  {
   "cell_type": "code",
   "execution_count": 194,
   "metadata": {
    "collapsed": false
   },
   "outputs": [
    {
     "data": {
      "image/png": "[encoded data removed]",
      "text/plain": [
       "<matplotlib.figure.Figure at 0x1066b9d30>"
      ]
     },
     "metadata": {},
     "output_type": "display_data"
    }
   ],
   "source": [
    "plt.plot(range(1, gd_lr.epochs+1), gd_lr.cost_)\n",
    "plt.xlabel('Epochs')\n",
    "plt.ylabel('Cost')\n",
    "plt.tight_layout()\n",
    "plt.show()"
   ]
  },
  {
   "cell_type": "code",
   "execution_count": 195,
   "metadata": {
    "collapsed": false
   },
   "outputs": [
    {
     "data": {
      "image/png": "[encoded data removed]",
      "text/plain": [
       "<matplotlib.figure.Figure at 0x10ca021d0>"
      ]
     },
     "metadata": {},
     "output_type": "display_data"
    }
   ],
   "source": [
    "lin_regplot(X_std, y_std, gd_lr)"
   ]
  },
  {
   "cell_type": "markdown",
   "metadata": {},
   "source": [
    "<br>\n",
    "<br>"
   ]
  },
  {
   "cell_type": "markdown",
   "metadata": {},
   "source": [
    "# Stochastic Gradient Descent"
   ]
  },
  {
   "cell_type": "markdown",
   "metadata": {},
   "source": [
    "In gradient descent the cost function is minimized based on the complete training data set; stochastic gradient descent updates the weights incrementally after each individual training sample."
   ]
  },
  {
   "cell_type": "code",
   "execution_count": 199,
   "metadata": {
    "collapsed": false
   },
   "outputs": [
    {
     "name": "stdout",
     "output_type": "stream",
     "text": [
      "Intercept: 0.00\n",
      "Slope: 1.00\n"
     ]
    }
   ],
   "source": [
    "sgd_lr = LinearRegression(solver='sgd', eta=0.1, epochs=10, random_seed=0)\n",
    "sgd_lr.fit(X_std, y_std)\n",
    "print('Intercept: %.2f' % sgd_lr.w_[0])\n",
    "print('Slope: %.2f' % sgd_lr.w_[1])"
   ]
  },
  {
   "cell_type": "code",
   "execution_count": 200,
   "metadata": {
    "collapsed": false
   },
   "outputs": [
    {
     "data": {
      "image/png": "[encoded data removed]",
      "text/plain": [
       "<matplotlib.figure.Figure at 0x10ce92240>"
      ]
     },
     "metadata": {},
     "output_type": "display_data"
    }
   ],
   "source": [
    "plt.plot(range(1, sgd_lr.epochs+1), sgd_lr.cost_)\n",
    "plt.xlabel('Epochs')\n",
    "plt.ylabel('Cost')\n",
    "plt.tight_layout()\n",
    "plt.show()"
   ]
  },
  {
   "cell_type": "code",
   "execution_count": 201,
   "metadata": {
    "collapsed": false
   },
   "outputs": [
    {
     "data": {
      "image/png": "[encoded data removed]",
      "text/plain": [
       "<matplotlib.figure.Figure at 0x109d27e80>"
      ]
     },
     "metadata": {},
     "output_type": "display_data"
    }
   ],
   "source": [
    "lin_regplot(X, y, sgd_lr)"
   ]
  }
 ],
 "metadata": {
  "kernelspec": {
   "display_name": "Python 3",
   "language": "python",
   "name": "python3"
  },
  "language_info": {
   "codemirror_mode": {
    "name": "ipython",
    "version": 3
   },
   "file_extension": ".py",
   "mimetype": "text/x-python",
   "name": "python",
   "nbconvert_exporter": "python",
   "pygments_lexer": "ipython3",
   "version": "3.4.3"
  }
 },
 "nbformat": 4,
 "nbformat_minor": 0
}
