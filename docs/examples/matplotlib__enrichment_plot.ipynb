{
 "cells": [
  {
   "cell_type": "code",
   "execution_count": 1,
   "metadata": {
    "collapsed": false
   },
   "outputs": [
    {
     "name": "stdout",
     "output_type": "stream",
     "text": [
      "Sebastian Raschka \n",
      "Last updated: \n",
      "\n",
      "CPython 3.4.3\n",
      "IPython 3.1.0\n",
      "\n",
      "matplotlib 1.4.3\n",
      "pandas 0.16.0\n",
      "mlxtend 0.2.0\n"
     ]
    }
   ],
   "source": [
    "%load_ext watermark\n",
    "%watermark -a 'Sebastian Raschka' -u -v -p matplotlib,pandas,mlxtend"
   ]
  },
  {
   "cell_type": "markdown",
   "metadata": {},
   "source": [
    "# Enrichment Plots"
   ]
  },
  {
   "cell_type": "code",
   "execution_count": 55,
   "metadata": {
    "collapsed": true
   },
   "outputs": [],
   "source": [
    "import matplotlib.pyplot as plt\n",
    "import pandas as pd\n",
    "import numpy as np\n",
    "from itertools import cycle\n",
    "\n",
    "def enrichment_plot(df, colors='bgrkcy', markers=' ', linestyles='-', alpha=0.5, lw=2,\n",
    "                    legend=True, where='post', grid=True, count_label='Count',\n",
    "                    xlim='auto', ylim='auto', invert_axes=False, ax=None):\n",
    "    \"\"\"\n",
    "    Function to plot stacked barplots\n",
    "\n",
    "    Parameters\n",
    "    ----------\n",
    "    df : pandas.DataFrame\n",
    "      A pandas DataFrame where columns represent the different categories.\n",
    "\n",
    "    colors: str (default: 'bgrcky')\n",
    "      The colors of the bars.\n",
    "      \n",
    "    markers: str (default: ' ')\n",
    "      Matplotlib markerstyles, e.g,\n",
    "      'sov' for square,circle, and triangle markers.\n",
    "\n",
    "    linestyles: str (default: '-')\n",
    "      Matplotlib linestyles, e.g., \n",
    "      '-,--' to cycle normal and dashed lines. Note\n",
    "      that the different linestyles need to be separated by commas.\n",
    "\n",
    "    alpha: float (default: 0.5)\n",
    "      Transparency level from 0.0 to 1.0.\n",
    "\n",
    "    lw: int or float (default: 2)\n",
    "      Linewidth parameter.\n",
    "\n",
    "    legend: bool (default: True)\n",
    "      Plots legend if True.\n",
    "\n",
    "    where: {'post', 'pre', 'mid'} (default: 'post')\n",
    "      Starting location of the steps.\n",
    "\n",
    "    grid: bool (default: True)\n",
    "      Plots a grid if True.\n",
    "\n",
    "    ylabel: str (default: 'Count')\n",
    "      y-axis label.\n",
    "\n",
    "    xlim: 'auto' or array-like [min, max]\n",
    "      Min and maximum position of the x-axis range.\n",
    "\n",
    "    ylim: 'auto' or array-like [min, max]\n",
    "      Min and maximum position of the y-axis range.\n",
    "\n",
    "    ax: matplotlib axis, optional (default: None)\n",
    "      Use this axis for plotting or make a new one otherwise\n",
    "\n",
    "    Returns\n",
    "    ----------\n",
    "    ax: matplotlib axis\n",
    "\n",
    "    \"\"\"\n",
    "    if isinstance(df, pd.Series):\n",
    "        df_temp = pd.DataFrame(df)\n",
    "    else:\n",
    "        df_temp = df\n",
    "\n",
    "    if ax is None:\n",
    "        ax = plt.gca()\n",
    "        \n",
    "    color_gen = cycle(colors)\n",
    "    marker_gen = cycle(markers)\n",
    "    linestyle_gen = cycle(linestyles.split(','))\n",
    "    r = range(1, len(df_temp.index)+1)\n",
    "    labels = df_temp.columns\n",
    "    \n",
    "    x_data = df_temp \n",
    "    y_data = r\n",
    "\n",
    "    for lab in labels:\n",
    "        x, y = sorted(x_data[lab]), y_data \n",
    "        if invert_axes:\n",
    "            x, y = y, x\n",
    "        \n",
    "        ax.step(x,\n",
    "                y, \n",
    "                where=where, \n",
    "                label=lab, \n",
    "                color=next(color_gen), \n",
    "                alpha=alpha, \n",
    "                lw=lw, \n",
    "                marker=next(marker_gen),\n",
    "                linestyle=next(linestyle_gen))\n",
    "\n",
    "    if ylim == 'auto':\n",
    "        ax.set_ylim([np.min(y_data)-1, np.max(y_data)+1])\n",
    "    else:\n",
    "        ax.set_ylim(ylim)\n",
    "\n",
    "    if xlim == 'auto':\n",
    "        df_min, df_max = np.min(x_data.min()), np.max(x_data.max())\n",
    "        ax.set_xlim([df_min-1, df_max+1])\n",
    "    else:\n",
    "        ax.set_xlim(xlim)\n",
    "\n",
    "    if legend:\n",
    "        plt.legend(loc='best', numpoints=1)\n",
    "\n",
    "    if grid:\n",
    "        plt.grid()\n",
    "\n",
    "    if count_label:\n",
    "        if invert_axes:\n",
    "            plt.xlabel(count_label) \n",
    "        else:\n",
    "            plt.ylabel(count_label)\n",
    "           \n"
   ]
  },
  {
   "cell_type": "code",
   "execution_count": 56,
   "metadata": {
    "collapsed": false
   },
   "outputs": [
    {
     "data": {
      "image/png": "[encoded data removed]",
      "text/plain": [
       "<matplotlib.figure.Figure at 0x1077b2160>"
      ]
     },
     "metadata": {},
     "output_type": "display_data"
    }
   ],
   "source": [
    "enrichment_plot(df, invert_axes=True)"
   ]
  },
  {
   "cell_type": "code",
   "execution_count": 57,
   "metadata": {
    "collapsed": false
   },
   "outputs": [
    {
     "data": {
      "text/html": [
       "<div style=\"max-height:1000px;max-width:1500px;overflow:auto;\">\n",
       "<table border=\"1\" class=\"dataframe\">\n",
       "  <thead>\n",
       "    <tr style=\"text-align: right;\">\n",
       "      <th></th>\n",
       "      <th>X1</th>\n",
       "      <th>X2</th>\n",
       "    </tr>\n",
       "  </thead>\n",
       "  <tbody>\n",
       "    <tr>\n",
       "      <th>0</th>\n",
       "      <td>1.1</td>\n",
       "      <td>1.5</td>\n",
       "    </tr>\n",
       "    <tr>\n",
       "      <th>1</th>\n",
       "      <td>2.1</td>\n",
       "      <td>1.8</td>\n",
       "    </tr>\n",
       "    <tr>\n",
       "      <th>2</th>\n",
       "      <td>3.1</td>\n",
       "      <td>2.1</td>\n",
       "    </tr>\n",
       "    <tr>\n",
       "      <th>3</th>\n",
       "      <td>3.9</td>\n",
       "      <td>2.5</td>\n",
       "    </tr>\n",
       "  </tbody>\n",
       "</table>\n",
       "</div>"
      ],
      "text/plain": [
       "    X1   X2\n",
       "0  1.1  1.5\n",
       "1  2.1  1.8\n",
       "2  3.1  2.1\n",
       "3  3.9  2.5"
      ]
     },
     "execution_count": 57,
     "metadata": {},
     "output_type": "execute_result"
    }
   ],
   "source": [
    "import pandas as pd\n",
    "s1 = [1.1, 1.5]\n",
    "s2 = [2.1, 1.8]\n",
    "s3 = [3.1, 2.1]\n",
    "s4 = [3.9, 2.5]\n",
    "data = [s1, s2, s3, s4]\n",
    "df = pd.DataFrame(data, columns=['X1', 'X2'])\n",
    "df"
   ]
  },
  {
   "cell_type": "code",
   "execution_count": 58,
   "metadata": {
    "collapsed": false
   },
   "outputs": [
    {
     "data": {
      "image/png": "[encoded data removed]",
      "text/plain": [
       "<matplotlib.figure.Figure at 0x108206128>"
      ]
     },
     "metadata": {},
     "output_type": "display_data"
    }
   ],
   "source": [
    "%matplotlib inline\n",
    "#from mlxtend.matplotlib import enrichment_plot\n",
    "enrichment_plot(df)"
   ]
  },
  {
   "cell_type": "code",
   "execution_count": 59,
   "metadata": {
    "collapsed": false
   },
   "outputs": [
    {
     "data": {
      "image/png": "[encoded data removed]",
      "text/plain": [
       "<matplotlib.figure.Figure at 0x1081321d0>"
      ]
     },
     "metadata": {},
     "output_type": "display_data"
    }
   ],
   "source": [
    "enrichment_plot(df, markers='os', ylim=[0,5])"
   ]
  },
  {
   "cell_type": "code",
   "execution_count": 29,
   "metadata": {
    "collapsed": false
   },
   "outputs": [
    {
     "data": {
      "image/png": "[encoded data removed]",
      "text/plain": [
       "<matplotlib.figure.Figure at 0x107e88518>"
      ]
     },
     "metadata": {},
     "output_type": "display_data"
    }
   ],
   "source": [
    "enrichment_plot(df, markers='os', linestyles='-,--')"
   ]
  },
  {
   "cell_type": "code",
   "execution_count": 60,
   "metadata": {
    "collapsed": false
   },
   "outputs": [
    {
     "data": {
      "image/png": "[encoded data removed]",
      "text/plain": [
       "<matplotlib.figure.Figure at 0x107e514a8>"
      ]
     },
     "metadata": {},
     "output_type": "display_data"
    }
   ],
   "source": [
    "enrichment_plot(df, markers='os', linestyles='-,--', invert_axes=True)"
   ]
  },
  {
   "cell_type": "code",
   "execution_count": null,
   "metadata": {
    "collapsed": true
   },
   "outputs": [],
   "source": []
  }
 ],
 "metadata": {
  "kernelspec": {
   "display_name": "Python 3",
   "language": "python",
   "name": "python3"
  },
  "language_info": {
   "codemirror_mode": {
    "name": "ipython",
    "version": 3
   },
   "file_extension": ".py",
   "mimetype": "text/x-python",
   "name": "python",
   "nbconvert_exporter": "python",
   "pygments_lexer": "ipython3",
   "version": "3.4.3"
  }
 },
 "nbformat": 4,
 "nbformat_minor": 0
}
