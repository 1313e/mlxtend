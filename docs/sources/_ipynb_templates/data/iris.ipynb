{
 "cells": [
  {
   "cell_type": "markdown",
   "metadata": {},
   "source": [
    "Sebastian Raschka, 2015  \n",
    "`mlxtend`, a library of extension and helper modules for Python's data analysis and machine learning libraries\n",
    "\n",
    "- GitHub repository: https://github.com/rasbt/mlxtend\n",
    "- Documentation: http://rasbt.github.io/mlxtend/\n",
    "\n",
    "View this page in [jupyter nbviewer](http://nbviewer.ipython.org/github/rasbt/mlxtend/blob/master/docs/sources/_ipynb_templates/data/iris.ipynb)"
   ]
  },
  {
   "cell_type": "code",
   "execution_count": 2,
   "metadata": {
    "collapsed": false
   },
   "outputs": [
    {
     "name": "stdout",
     "output_type": "stream",
     "text": [
      "Sebastian Raschka \n",
      "Last updated: 10/22/2015 \n",
      "\n",
      "CPython 3.5.0\n",
      "IPython 4.0.0\n",
      "\n",
      "matplotlib 1.4.3\n",
      "numpy 1.9.3\n",
      "scipy 0.16.0\n"
     ]
    }
   ],
   "source": [
    "%load_ext watermark\n",
    "%watermark -a 'Sebastian Raschka' -u -d -v -p matplotlib,numpy,scipy"
   ]
  },
  {
   "cell_type": "code",
   "execution_count": 3,
   "metadata": {
    "collapsed": false
   },
   "outputs": [
    {
     "data": {
      "text/plain": [
       "'0.3.0dev'"
      ]
     },
     "execution_count": 3,
     "metadata": {},
     "output_type": "execute_result"
    }
   ],
   "source": [
    "import sys\n",
    "sys.path.insert(0, '../../../../../github_mlxtend/')\n",
    "\n",
    "import mlxtend\n",
    "mlxtend.__version__"
   ]
  },
  {
   "cell_type": "markdown",
   "metadata": {},
   "source": [
    "# Iris Dataset"
   ]
  },
  {
   "cell_type": "markdown",
   "metadata": {},
   "source": [
    "A function that loads the `iris` dataset into NumPy arrays."
   ]
  },
  {
   "cell_type": "markdown",
   "metadata": {},
   "source": [
    "> from mlxtend.data import iris_data"
   ]
  },
  {
   "cell_type": "markdown",
   "metadata": {},
   "source": [
    "# Overview"
   ]
  },
  {
   "cell_type": "markdown",
   "metadata": {},
   "source": [
    "The Iris dataset for classification.\n",
    "\n",
    "**Features**\n",
    "\n",
    "1. Sepal length\n",
    "2. Sepal width\n",
    "3. Petal length\n",
    "4. Petal width\n",
    "\n",
    "\n",
    "- Number of samples: 150\n",
    "\n",
    "\n",
    "- Target variable (discrete): {50x Setosa, 50x Versicolor, 50x Virginica}\n"
   ]
  },
  {
   "cell_type": "markdown",
   "metadata": {},
   "source": [
    "### References\n",
    "\n",
    "- Source: [https://archive.ics.uci.edu/ml/datasets/Iris](https://archive.ics.uci.edu/ml/datasets/Iris) \n",
    "- Bache, K. & Lichman, M. (2013). UCI Machine Learning Repository. Irvine, CA: University of California, School of Information and Computer Science.\n"
   ]
  },
  {
   "cell_type": "markdown",
   "metadata": {},
   "source": [
    "### Related Topics\n",
    "\n",
    "- [Boston Housing Data](boston_housing.html)\n",
    "- [Auto MPG](./autompg.html)\n",
    "- [MNIST](./mnist.html)\n",
    "- [Wine Dataset](./wine.html)"
   ]
  },
  {
   "cell_type": "markdown",
   "metadata": {},
   "source": [
    "# Examples"
   ]
  },
  {
   "cell_type": "markdown",
   "metadata": {},
   "source": [
    "## Example - Dataset overview"
   ]
  },
  {
   "cell_type": "code",
   "execution_count": 5,
   "metadata": {
    "collapsed": false
   },
   "outputs": [
    {
     "name": "stdout",
     "output_type": "stream",
     "text": [
      "Dimensions: 150 x 4\n",
      "\n",
      "Header: ['sepal length', 'sepal width', 'petal length', 'petal width']\n",
      "1st row [ 5.1  3.5  1.4  0.2]\n"
     ]
    }
   ],
   "source": [
    "from mlxtend.data import iris_data\n",
    "X, y = iris_data()\n",
    "\n",
    "print('Dimensions: %s x %s' % (X.shape[0], X.shape[1]))\n",
    "print('\\nHeader: %s' % ['sepal length', 'sepal width',\n",
    "                        'petal length', 'petal width'])\n",
    "print('1st row', X[0])"
   ]
  },
  {
   "cell_type": "code",
   "execution_count": 8,
   "metadata": {
    "collapsed": false
   },
   "outputs": [
    {
     "name": "stdout",
     "output_type": "stream",
     "text": [
      "Classes: Setosa, Versicolor, Virginica\n",
      "[0 1 2]\n",
      "Class distribution: [50 50 50]\n"
     ]
    }
   ],
   "source": [
    "import numpy as np\n",
    "print('Classes: Setosa, Versicolor, Virginica')\n",
    "print(np.unique(y))\n",
    "print('Class distribution: %s' % np.bincount(y))"
   ]
  },
  {
   "cell_type": "markdown",
   "metadata": {},
   "source": [
    "# API"
   ]
  },
  {
   "cell_type": "code",
   "execution_count": 4,
   "metadata": {
    "collapsed": false
   },
   "outputs": [
    {
     "name": "stdout",
     "output_type": "stream",
     "text": [
      "Help on function iris_data in module mlxtend.data.iris:\n",
      "\n",
      "iris_data()\n",
      "    Iris flower dataset.\n",
      "    \n",
      "    Source: https://archive.ics.uci.edu/ml/datasets/Iris\n",
      "    Number of samples: 150\n",
      "    Class labels: {0, 1, 2}, distribution: [50, 50, 50]\n",
      "        0 = setosa, 1 = versicolor, 2 = virginica.\n",
      "    \n",
      "    Attributes:\n",
      "    1) sepal length [cm]\n",
      "    2) sepal width [cm]\n",
      "    3) petal length [cm]\n",
      "    4) petal width [cm]\n",
      "    \n",
      "    Returns\n",
      "    --------\n",
      "    X, y : [n_samples, n_features], [n_class_labels]\n",
      "      X is the feature matrix with 150 flower samples as rows,\n",
      "      and 4 feature columns sepal length, sepal width,\n",
      "      petal length, and petal width.\n",
      "      y is a 1-dimensional array of the class labels {0, 1, 2}\n",
      "\n"
     ]
    }
   ],
   "source": [
    "from mlxtend.data import iris_data\n",
    "help(iris_data)"
   ]
  }
 ],
 "metadata": {
  "kernelspec": {
   "display_name": "Python 3",
   "language": "python",
   "name": "python3"
  },
  "language_info": {
   "codemirror_mode": {
    "name": "ipython",
    "version": 3
   },
   "file_extension": ".py",
   "mimetype": "text/x-python",
   "name": "python",
   "nbconvert_exporter": "python",
   "pygments_lexer": "ipython3",
   "version": "3.5.0"
  }
 },
 "nbformat": 4,
 "nbformat_minor": 0
}
