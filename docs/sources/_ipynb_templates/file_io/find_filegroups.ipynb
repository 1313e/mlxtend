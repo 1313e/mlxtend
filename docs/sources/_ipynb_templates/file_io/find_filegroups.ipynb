{
 "cells": [
  {
   "cell_type": "markdown",
   "metadata": {},
   "source": [
    "Sebastian Raschka, 2015  \n",
    "`mlxtend`, a library of extension and helper modules for Python's data analysis and machine learning libraries\n",
    "\n",
    "- GitHub repository: https://github.com/rasbt/mlxtend\n",
    "- Documentation: http://rasbt.github.io/mlxtend/\n",
    "\n",
    "View this page in [jupyter nbviewer](http://nbviewer.ipython.org/github/rasbt/mlxtend/blob/master/docs/sources/_ipynb_templates/file_io/find_filegroups.ipynb)"
   ]
  },
  {
   "cell_type": "code",
   "execution_count": 1,
   "metadata": {
    "collapsed": false
   },
   "outputs": [
    {
     "name": "stdout",
     "output_type": "stream",
     "text": [
      "Sebastian Raschka \n",
      "Last updated: 11/15/2015 \n",
      "\n",
      "CPython 3.5.0\n",
      "IPython 4.0.0\n",
      "\n",
      "matplotlib 1.5.0\n",
      "numpy 1.10.1\n",
      "scipy 0.16.0\n"
     ]
    }
   ],
   "source": [
    "%load_ext watermark\n",
    "%watermark -a 'Sebastian Raschka' -u -d -v -p matplotlib,numpy,scipy"
   ]
  },
  {
   "cell_type": "code",
   "execution_count": 2,
   "metadata": {
    "collapsed": false
   },
   "outputs": [
    {
     "data": {
      "text/plain": [
       "'0.3.0dev'"
      ]
     },
     "execution_count": 2,
     "metadata": {},
     "output_type": "execute_result"
    }
   ],
   "source": [
    "import sys\n",
    "sys.path.insert(0, '../../../github_mlxtend/')\n",
    "\n",
    "import mlxtend\n",
    "mlxtend.__version__"
   ]
  },
  {
   "cell_type": "markdown",
   "metadata": {},
   "source": [
    "# Find Filegroups"
   ]
  },
  {
   "cell_type": "markdown",
   "metadata": {},
   "source": [
    "A function that finds files that belong together (i.e., differ only by file extension) in different directories and collects them in a Python dictionary for further processing tasks. "
   ]
  },
  {
   "cell_type": "markdown",
   "metadata": {},
   "source": [
    "> from mlxtend.file_io import find_filegroups"
   ]
  },
  {
   "cell_type": "markdown",
   "metadata": {},
   "source": [
    "# Overview"
   ]
  },
  {
   "cell_type": "markdown",
   "metadata": {},
   "source": [
    "This function finds files that are related to each other based on their file names. This can be useful for parsing collections files that have been stored in different subdirectories, for examples:\n",
    "\n",
    "    input_dir/\n",
    "        task01.txt\n",
    "        task02.txt\n",
    "        ...\n",
    "    log_dir/\n",
    "        task01.log\n",
    "        task02.log\n",
    "        ...\n",
    "    output_dir/\n",
    "        task01.dat\n",
    "        task02.dat\n",
    "        ..."
   ]
  },
  {
   "cell_type": "markdown",
   "metadata": {},
   "source": [
    "### References\n",
    "\n",
    "- -"
   ]
  },
  {
   "cell_type": "markdown",
   "metadata": {},
   "source": [
    "### Related Topics\n",
    "\n",
    "- [Find Files](./find_files.html)"
   ]
  },
  {
   "cell_type": "markdown",
   "metadata": {},
   "source": [
    "# Examples"
   ]
  },
  {
   "cell_type": "markdown",
   "metadata": {},
   "source": [
    "## Example 1 - Grouping related files in a dictionary"
   ]
  },
  {
   "cell_type": "markdown",
   "metadata": {},
   "source": [
    "Given the following directory and file structure\n",
    "\n",
    "    dir_1/\n",
    "        file_1.log\n",
    "        file_2.log\n",
    "        file_3.log\n",
    "    dir_2/\n",
    "        file_1.csv\n",
    "        file_2.csv\n",
    "        file_3.csv\n",
    "    dir_3/\n",
    "        file_1.txt\n",
    "        file_2.txt\n",
    "        file_3.txt\n",
    "        \n",
    "we can use `find_filegroups` to group related files as items of a dictionary as shown below:"
   ]
  },
  {
   "cell_type": "code",
   "execution_count": 6,
   "metadata": {
    "collapsed": false
   },
   "outputs": [
    {
     "data": {
      "text/plain": [
       "{'file_1': ['./data_find_filegroups/dir_1/file_1.log',\n",
       "  './data_find_filegroups/dir_2/file_1.csv',\n",
       "  './data_find_filegroups/dir_3/file_1.txt'],\n",
       " 'file_2': ['./data_find_filegroups/dir_1/file_2.log',\n",
       "  './data_find_filegroups/dir_2/file_2.csv',\n",
       "  './data_find_filegroups/dir_3/file_2.txt'],\n",
       " 'file_3': ['./data_find_filegroups/dir_1/file_3.log',\n",
       "  './data_find_filegroups/dir_2/file_3.csv',\n",
       "  './data_find_filegroups/dir_3/file_3.txt']}"
      ]
     },
     "execution_count": 6,
     "metadata": {},
     "output_type": "execute_result"
    }
   ],
   "source": [
    "from mlxtend.file_io import find_filegroups\n",
    "\n",
    "find_filegroups(paths=['./data_find_filegroups/dir_1', \n",
    "                       './data_find_filegroups/dir_2', \n",
    "                       './data_find_filegroups/dir_3'], \n",
    "                substring='file_')"
   ]
  },
  {
   "cell_type": "markdown",
   "metadata": {},
   "source": [
    "# API"
   ]
  },
  {
   "cell_type": "code",
   "execution_count": 7,
   "metadata": {
    "collapsed": false
   },
   "outputs": [
    {
     "name": "stdout",
     "output_type": "stream",
     "text": [
      "Help on function find_filegroups in module mlxtend.file_io.find:\n",
      "\n",
      "find_filegroups(paths, substring='', extensions=None, validity_check=True, ignore_invisible=True, rstrip='', ignore_substring=None)\n",
      "    Function that finds and groups files from different directories in a python dictionary.\n",
      "    \n",
      "    Parameters\n",
      "    ----------\n",
      "    \n",
      "    paths : `list`\n",
      "      Paths of the directories to be searched. Dictionary keys are build from\n",
      "        the first directory.\n",
      "    \n",
      "    substring : `str`\n",
      "      Substring that all files have to contain to be considered.\n",
      "    \n",
      "    extensions : `list`\n",
      "      `None` or `list` of allowed file extensions for each path. If provided, the number\n",
      "        of extensions must match the number of `paths`.\n",
      "    \n",
      "    validity_check : `bool`\n",
      "      If `True`, checks if all dictionary values have the same number of file paths. Prints\n",
      "        a warning and returns an empty dictionary if the validity check failed.\n",
      "    \n",
      "    ignore_invisible : `bool`\n",
      "      If `True`, ignores invisible files (i.e., files starting with a period).\n",
      "    \n",
      "    rstrip : `str` (default: \"\")\n",
      "      If provided, strips characters from right side of the file base names after splitting\n",
      "      the extension. Useful to trim different filenames to a common stem. E.g,.\n",
      "      \"abc_d.txt\" and \"abc_d_.csv\" would share the stem \"abc_d\" if rstrip is set to \"_\".\n",
      "    \n",
      "    \n",
      "    \n",
      "    ignore_substring : `str`\n",
      "      Ignores files that contain the specified substring.\n",
      "    \n",
      "    Returns\n",
      "    ----------\n",
      "    groups : `dict`\n",
      "      Dictionary of files paths. Keys are the file names found in the first directory listed\n",
      "        in `paths` (without file extension).\n",
      "\n"
     ]
    }
   ],
   "source": [
    "from mlxtend.file_io import find_filegroups\n",
    "help(find_filegroups)"
   ]
  },
  {
   "cell_type": "code",
   "execution_count": null,
   "metadata": {
    "collapsed": true
   },
   "outputs": [],
   "source": []
  }
 ],
 "metadata": {
  "kernelspec": {
   "display_name": "Python 3",
   "language": "python",
   "name": "python3"
  },
  "language_info": {
   "codemirror_mode": {
    "name": "ipython",
    "version": 3
   },
   "file_extension": ".py",
   "mimetype": "text/x-python",
   "name": "python",
   "nbconvert_exporter": "python",
   "pygments_lexer": "ipython3",
   "version": "3.5.0"
  }
 },
 "nbformat": 4,
 "nbformat_minor": 0
}
