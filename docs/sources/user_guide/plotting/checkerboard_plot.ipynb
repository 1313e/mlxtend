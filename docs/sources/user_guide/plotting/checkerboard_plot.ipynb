{
 "cells": [
  {
   "cell_type": "markdown",
   "metadata": {},
   "source": [
    "Sebastian Raschka, 2016\n",
    "`mlxtend`, a library of extension and helper modules for Python's data analysis and machine learning libraries\n",
    "\n",
    "- GitHub repository: https://github.com/rasbt/mlxtend\n",
    "- Documentation: http://rasbt.github.io/mlxtend/"
   ]
  },
  {
   "cell_type": "code",
   "execution_count": 1,
   "metadata": {
    "collapsed": false
   },
   "outputs": [
    {
     "name": "stdout",
     "output_type": "stream",
     "text": [
      "Sebastian Raschka \n",
      "last updated: 2016-10-27 \n",
      "\n",
      "CPython 3.5.2\n",
      "IPython 5.1.0\n",
      "\n",
      "matplotlib 1.5.1\n",
      "numpy 1.11.1\n",
      "scipy 0.18.1\n"
     ]
    }
   ],
   "source": [
    "%load_ext watermark\n",
    "%watermark -a 'Sebastian Raschka' -u -d -v -p matplotlib,numpy,scipy"
   ]
  },
  {
   "cell_type": "code",
   "execution_count": 2,
   "metadata": {
    "collapsed": true
   },
   "outputs": [],
   "source": [
    "%matplotlib inline"
   ]
  },
  {
   "cell_type": "markdown",
   "metadata": {},
   "source": [
    "# Checkerboard Plot"
   ]
  },
  {
   "cell_type": "markdown",
   "metadata": {},
   "source": [
    "Function to plot a checkerboard plot / heat map via matplotlib"
   ]
  },
  {
   "cell_type": "markdown",
   "metadata": {},
   "source": [
    "> `from mlxtend.plotting import checkerboard plot`"
   ]
  },
  {
   "cell_type": "markdown",
   "metadata": {},
   "source": [
    "## Overview"
   ]
  },
  {
   "cell_type": "markdown",
   "metadata": {},
   "source": [
    "Function to plot a checkerboard plot / heat map via matplotlib."
   ]
  },
  {
   "cell_type": "markdown",
   "metadata": {},
   "source": [
    "### References\n",
    "\n",
    "- -"
   ]
  },
  {
   "cell_type": "markdown",
   "metadata": {},
   "source": [
    "## Examples"
   ]
  },
  {
   "cell_type": "markdown",
   "metadata": {},
   "source": [
    "### Example 1 - Default"
   ]
  },
  {
   "cell_type": "code",
   "execution_count": 3,
   "metadata": {
    "collapsed": false
   },
   "outputs": [
    {
     "data": {
      "image/png": "[encoded data removed]",
      "text/plain": [
       "<matplotlib.figure.Figure at 0x104846908>"
      ]
     },
     "metadata": {},
     "output_type": "display_data"
    }
   ],
   "source": [
    "from mlxtend.plotting import checkerboard_plot\n",
    "import matplotlib.pyplot as plt\n",
    "import numpy as np\n",
    "\n",
    "ary = np.random.random((5, 4))\n",
    "\n",
    "brd = checkerboard_plot(ary)\n",
    "plt.show()"
   ]
  },
  {
   "cell_type": "markdown",
   "metadata": {},
   "source": [
    "### Example 2 - Changing colors and labels"
   ]
  },
  {
   "cell_type": "code",
   "execution_count": 4,
   "metadata": {
    "collapsed": false
   },
   "outputs": [
    {
     "data": {
      "image/png": "[encoded data removed]",
      "text/plain": [
       "<matplotlib.figure.Figure at 0x1154a9f28>"
      ]
     },
     "metadata": {},
     "output_type": "display_data"
    }
   ],
   "source": [
    "from mlxtend.plotting import checkerboard_plot\n",
    "import matplotlib.pyplot as plt\n",
    "import numpy as np\n",
    "\n",
    "checkerboard_plot(ary, \n",
    "                  col_labels=['abc', 'def', 'ghi', 'jkl'],\n",
    "                  row_labels=['sample %d' % i for i in range(1, 6)],\n",
    "                  cell_colors=['skyblue', 'whitesmoke'],\n",
    "                  font_colors=['black', 'black'],\n",
    "                  figsize=(4.5, 5))\n",
    "plt.show()"
   ]
  },
  {
   "cell_type": "markdown",
   "metadata": {},
   "source": [
    "## API"
   ]
  },
  {
   "cell_type": "code",
   "execution_count": 5,
   "metadata": {
    "collapsed": false
   },
   "outputs": [
    {
     "name": "stdout",
     "output_type": "stream",
     "text": [
      "## checkerboard_plot\n",
      "\n",
      "*checkerboard_plot(ary, cell_colors=('white', 'black'), font_colors=('black', 'white'), fmt='%.1f', figsize=None, row_labels=None, col_labels=None, fontsize=None)*\n",
      "\n",
      "Plot a checkerboard table / heatmap via matplotlib.\n",
      "\n",
      "**Parameters**\n",
      "\n",
      "- `ary` : array-like, shape = [n, m]\n",
      "\n",
      "    A 2D Nnumpy array.\n",
      "\n",
      "- `cell_colors` : tuple or list (default: ('white', 'black'))\n",
      "\n",
      "    Tuple or list containing the two colors of the\n",
      "    checkerboard pattern.\n",
      "\n",
      "- `font_colors` : tuple or list (default: ('black', 'white'))\n",
      "\n",
      "    Font colors corresponding to the cell colors.\n",
      "\n",
      "- `figsize` : tuple (default: (2.5, 2.5))\n",
      "\n",
      "    Height and width of the figure\n",
      "\n",
      "- `fmt` : str (default: '%.1f')\n",
      "\n",
      "    Python string formatter for cell values.\n",
      "    The default '%.1f' results in floats with 1 digit after\n",
      "    the decimal point. Use '%d' to show numbers as integers.\n",
      "\n",
      "- `row_labels` : list (default: None)\n",
      "\n",
      "    List of the row labels. Uses the array row\n",
      "    indices 0 to n by default.\n",
      "\n",
      "- `col_labels` : list (default: None)\n",
      "\n",
      "    List of the column labels. Uses the array column\n",
      "    indices 0 to m by default.\n",
      "\n",
      "- `fontsize` : int (default: None)\n",
      "\n",
      "    Specifies the font size of the checkerboard table.\n",
      "    Uses matplotlib's default if None.\n",
      "\n",
      "**Returns**\n",
      "\n",
      "- `fig` : matplotlib Figure object.\n",
      "\n",
      "\n",
      "\n"
     ]
    }
   ],
   "source": [
    "with open('../../api_modules/mlxtend.plotting/checkerboard_plot.md', 'r') as f:\n",
    "    s = f.read() \n",
    "print(s)"
   ]
  }
 ],
 "metadata": {
  "kernelspec": {
   "display_name": "Python 3",
   "language": "python",
   "name": "python3"
  },
  "language_info": {
   "codemirror_mode": {
    "name": "ipython",
    "version": 3
   },
   "file_extension": ".py",
   "mimetype": "text/x-python",
   "name": "python",
   "nbconvert_exporter": "python",
   "pygments_lexer": "ipython3",
   "version": "3.5.2"
  }
 },
 "nbformat": 4,
 "nbformat_minor": 0
}
