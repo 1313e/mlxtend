{
 "cells": [
  {
   "cell_type": "markdown",
   "metadata": {},
   "source": [
    "Sebastian Raschka, 2015  \n",
    "`mlxtend`, a library of extension and helper modules for Python's data analysis and machine learning libraries\n",
    "\n",
    "- GitHub repository: https://github.com/rasbt/mlxtend\n",
    "- Documentation: http://rasbt.github.io/mlxtend/\n",
    "\n",
    "View this page in [jupyter nbviewer](http://nbviewer.ipython.org/github/rasbt/mlxtend/blob/master/docs/sources/_ipynb_templates/file_io/find_files.ipynb)"
   ]
  },
  {
   "cell_type": "code",
   "execution_count": 1,
   "metadata": {
    "collapsed": false
   },
   "outputs": [
    {
     "name": "stdout",
     "output_type": "stream",
     "text": [
      "Sebastian Raschka \n",
      "Last updated: 11/15/2015 \n",
      "\n",
      "CPython 3.5.0\n",
      "IPython 4.0.0\n",
      "\n",
      "matplotlib 1.5.0\n",
      "numpy 1.10.1\n",
      "scipy 0.16.0\n"
     ]
    }
   ],
   "source": [
    "%load_ext watermark\n",
    "%watermark -a 'Sebastian Raschka' -u -d -v -p matplotlib,numpy,scipy"
   ]
  },
  {
   "cell_type": "code",
   "execution_count": 2,
   "metadata": {
    "collapsed": false
   },
   "outputs": [
    {
     "data": {
      "text/plain": [
       "'0.3.0dev'"
      ]
     },
     "execution_count": 2,
     "metadata": {},
     "output_type": "execute_result"
    }
   ],
   "source": [
    "import sys\n",
    "sys.path.insert(0, '../../../github_mlxtend/')\n",
    "\n",
    "import mlxtend\n",
    "mlxtend.__version__"
   ]
  },
  {
   "cell_type": "markdown",
   "metadata": {},
   "source": [
    "# Find Filegroups"
   ]
  },
  {
   "cell_type": "markdown",
   "metadata": {},
   "source": [
    "A function that finds files in a given directory based on substring matches and returns a list of the file names found."
   ]
  },
  {
   "cell_type": "markdown",
   "metadata": {},
   "source": [
    "> from mlxtend.file_io import find_files"
   ]
  },
  {
   "cell_type": "markdown",
   "metadata": {},
   "source": [
    "# Overview"
   ]
  },
  {
   "cell_type": "markdown",
   "metadata": {},
   "source": [
    "This function finds files based on substring search. This is especially useful if we want to find specific files in a directory tree and return their absolute paths for further processing in Python."
   ]
  },
  {
   "cell_type": "markdown",
   "metadata": {},
   "source": [
    "### References\n",
    "\n",
    "- -"
   ]
  },
  {
   "cell_type": "markdown",
   "metadata": {},
   "source": [
    "### Related Topics\n",
    "\n",
    "- [Find Files](./find_files.html)"
   ]
  },
  {
   "cell_type": "markdown",
   "metadata": {},
   "source": [
    "# Examples"
   ]
  },
  {
   "cell_type": "markdown",
   "metadata": {},
   "source": [
    "## Example 1 - Grouping related files in a dictionary"
   ]
  },
  {
   "cell_type": "markdown",
   "metadata": {},
   "source": [
    "Given the following directory and file structure\n",
    "\n",
    "    dir_1/\n",
    "        file_1.log\n",
    "        file_2.log\n",
    "        file_3.log\n",
    "    dir_2/\n",
    "        file_1.csv\n",
    "        file_2.csv\n",
    "        file_3.csv\n",
    "    dir_3/\n",
    "        file_1.txt\n",
    "        file_2.txt\n",
    "        file_3.txt\n",
    "        \n",
    "we can use `find_files` to return the paths to all files that contain the substring `_2` as follows: "
   ]
  },
  {
   "cell_type": "code",
   "execution_count": 6,
   "metadata": {
    "collapsed": false
   },
   "outputs": [
    {
     "data": {
      "text/plain": [
       "['./data_find_filegroups/dir_1/file_2.log',\n",
       " './data_find_filegroups/dir_2/file_2.csv',\n",
       " './data_find_filegroups/dir_3/file_2.txt']"
      ]
     },
     "execution_count": 6,
     "metadata": {},
     "output_type": "execute_result"
    }
   ],
   "source": [
    "from mlxtend.file_io import find_files\n",
    "\n",
    "find_files(substring='_2', path='./data_find_filegroups/', recursive=True)"
   ]
  },
  {
   "cell_type": "markdown",
   "metadata": {},
   "source": [
    "# API"
   ]
  },
  {
   "cell_type": "code",
   "execution_count": 7,
   "metadata": {
    "collapsed": false
   },
   "outputs": [
    {
     "name": "stdout",
     "output_type": "stream",
     "text": [
      "Help on function find_files in module mlxtend.file_io.find:\n",
      "\n",
      "find_files(substring, path, recursive=False, check_ext=None, ignore_invisible=True, ignore_substring=None)\n",
      "    Function that finds files in a directory based on substring matching.\n",
      "    \n",
      "    Parameters\n",
      "    ----------\n",
      "    \n",
      "    substring : `str`\n",
      "      Substring of the file to be matched.\n",
      "    \n",
      "    path : `str`\n",
      "      Path where to look.\n",
      "    \n",
      "    recursive: `bool`\n",
      "      If true, searches subdirectories recursively.\n",
      "    \n",
      "    check_ext: `str`\n",
      "      If string (e.g., '.txt'), only returns files that\n",
      "        match the specified file extension.\n",
      "    \n",
      "    ignore_invisible : `bool`\n",
      "      If `True`, ignores invisible files (i.e., files starting with a period).\n",
      "    \n",
      "    ignore_substring : `str`\n",
      "      Ignores files that contain the specified substring.\n",
      "    \n",
      "    Returns\n",
      "    ----------\n",
      "    results : `list`\n",
      "      List of the matched files.\n",
      "\n"
     ]
    }
   ],
   "source": [
    "from mlxtend.file_io import find_files\n",
    "help(find_files)"
   ]
  }
 ],
 "metadata": {
  "kernelspec": {
   "display_name": "Python 3",
   "language": "python",
   "name": "python3"
  },
  "language_info": {
   "codemirror_mode": {
    "name": "ipython",
    "version": 3
   },
   "file_extension": ".py",
   "mimetype": "text/x-python",
   "name": "python",
   "nbconvert_exporter": "python",
   "pygments_lexer": "ipython3",
   "version": "3.5.0"
  }
 },
 "nbformat": 4,
 "nbformat_minor": 0
}
